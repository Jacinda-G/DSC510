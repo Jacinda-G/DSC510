{
 "cells": [
  {
   "cell_type": "markdown",
   "id": "e26b6538",
   "metadata": {},
   "source": [
    "In what situations might you choose to use ANOVA over linear regression or vice versa? Provide a real-life example dataset and explain how you would approach the data analysis using either ANOVA or linear regression. Justify your choice of one of the two approaches. How can Python be used to develop a useful tool in this context?"
   ]
  },
  {
   "cell_type": "markdown",
   "id": "d7240256",
   "metadata": {},
   "source": [
    "Both linear regression and ANOVA models allow for the statistical assessment of one features affect on another. Both can be used to produce a model that helps predict one continous feature based on other features. We would use linear regression in the case where we are comparing features that are continous only. If the predictor variable is categorical, ANOVA would be the preferred measure of analysis. \n",
    "\n",
    "Situations where ANOVA is preferred\n",
    "- Comparing the effectiveness of different drugs or products\n",
    "- Comparing which products customers are more likely to buy\n",
    "- Identifying if different plant species have significant differences in average length\n",
    "\n",
    "Situations where Linear Regression is preffered\n",
    "- Comparing product prices to product volume\n",
    "- Investigating how years of experience affects average pay\n",
    "- Investigating how doage of a drug affects INR levels"
   ]
  },
  {
   "cell_type": "code",
   "execution_count": 13,
   "id": "5f3bf722",
   "metadata": {},
   "outputs": [],
   "source": [
    "import numpy as np\n",
    "import pandas as pd\n",
    "import scipy.stats as stats\n",
    "import statsmodels.api as sm\n",
    "from statsmodels.formula.api import ols\n",
    "import matplotlib.pyplot as plt\n",
    "import seaborn as sns\n",
    "import pingouin as pg"
   ]
  },
  {
   "cell_type": "code",
   "execution_count": 14,
   "id": "483c63d6",
   "metadata": {},
   "outputs": [
    {
     "data": {
      "text/html": [
       "<div>\n",
       "<style scoped>\n",
       "    .dataframe tbody tr th:only-of-type {\n",
       "        vertical-align: middle;\n",
       "    }\n",
       "\n",
       "    .dataframe tbody tr th {\n",
       "        vertical-align: top;\n",
       "    }\n",
       "\n",
       "    .dataframe thead th {\n",
       "        text-align: right;\n",
       "    }\n",
       "</style>\n",
       "<table border=\"1\" class=\"dataframe\">\n",
       "  <thead>\n",
       "    <tr style=\"text-align: right;\">\n",
       "      <th></th>\n",
       "      <th>transaction_id</th>\n",
       "      <th>transaction_date</th>\n",
       "      <th>transaction_time</th>\n",
       "      <th>store_id</th>\n",
       "      <th>store_location</th>\n",
       "      <th>product_id</th>\n",
       "      <th>transaction_qty</th>\n",
       "      <th>unit_price</th>\n",
       "      <th>Total_Bill</th>\n",
       "      <th>product_category</th>\n",
       "      <th>product_type</th>\n",
       "      <th>product_detail</th>\n",
       "      <th>Size</th>\n",
       "      <th>Month Name</th>\n",
       "      <th>Day Name</th>\n",
       "      <th>Hour</th>\n",
       "      <th>Month</th>\n",
       "      <th>Day of Week</th>\n",
       "    </tr>\n",
       "  </thead>\n",
       "  <tbody>\n",
       "    <tr>\n",
       "      <th>0</th>\n",
       "      <td>114301</td>\n",
       "      <td>01-06-2023</td>\n",
       "      <td>11:33:29</td>\n",
       "      <td>3</td>\n",
       "      <td>Astoria</td>\n",
       "      <td>45</td>\n",
       "      <td>1</td>\n",
       "      <td>3.0</td>\n",
       "      <td>3.0</td>\n",
       "      <td>Tea</td>\n",
       "      <td>Brewed herbal tea</td>\n",
       "      <td>Peppermint</td>\n",
       "      <td>Large</td>\n",
       "      <td>June</td>\n",
       "      <td>Thursday</td>\n",
       "      <td>11</td>\n",
       "      <td>6</td>\n",
       "      <td>3</td>\n",
       "    </tr>\n",
       "    <tr>\n",
       "      <th>1</th>\n",
       "      <td>115405</td>\n",
       "      <td>02-06-2023</td>\n",
       "      <td>11:18:24</td>\n",
       "      <td>3</td>\n",
       "      <td>Astoria</td>\n",
       "      <td>45</td>\n",
       "      <td>1</td>\n",
       "      <td>3.0</td>\n",
       "      <td>3.0</td>\n",
       "      <td>Tea</td>\n",
       "      <td>Brewed herbal tea</td>\n",
       "      <td>Peppermint</td>\n",
       "      <td>Large</td>\n",
       "      <td>June</td>\n",
       "      <td>Friday</td>\n",
       "      <td>11</td>\n",
       "      <td>6</td>\n",
       "      <td>4</td>\n",
       "    </tr>\n",
       "    <tr>\n",
       "      <th>2</th>\n",
       "      <td>115478</td>\n",
       "      <td>02-06-2023</td>\n",
       "      <td>12:02:45</td>\n",
       "      <td>3</td>\n",
       "      <td>Astoria</td>\n",
       "      <td>45</td>\n",
       "      <td>1</td>\n",
       "      <td>3.0</td>\n",
       "      <td>3.0</td>\n",
       "      <td>Tea</td>\n",
       "      <td>Brewed herbal tea</td>\n",
       "      <td>Peppermint</td>\n",
       "      <td>Large</td>\n",
       "      <td>June</td>\n",
       "      <td>Friday</td>\n",
       "      <td>12</td>\n",
       "      <td>6</td>\n",
       "      <td>4</td>\n",
       "    </tr>\n",
       "    <tr>\n",
       "      <th>3</th>\n",
       "      <td>116288</td>\n",
       "      <td>02-06-2023</td>\n",
       "      <td>19:39:47</td>\n",
       "      <td>3</td>\n",
       "      <td>Astoria</td>\n",
       "      <td>45</td>\n",
       "      <td>1</td>\n",
       "      <td>3.0</td>\n",
       "      <td>3.0</td>\n",
       "      <td>Tea</td>\n",
       "      <td>Brewed herbal tea</td>\n",
       "      <td>Peppermint</td>\n",
       "      <td>Large</td>\n",
       "      <td>June</td>\n",
       "      <td>Friday</td>\n",
       "      <td>19</td>\n",
       "      <td>6</td>\n",
       "      <td>4</td>\n",
       "    </tr>\n",
       "    <tr>\n",
       "      <th>4</th>\n",
       "      <td>116714</td>\n",
       "      <td>03-06-2023</td>\n",
       "      <td>12:24:57</td>\n",
       "      <td>3</td>\n",
       "      <td>Astoria</td>\n",
       "      <td>45</td>\n",
       "      <td>1</td>\n",
       "      <td>3.0</td>\n",
       "      <td>3.0</td>\n",
       "      <td>Tea</td>\n",
       "      <td>Brewed herbal tea</td>\n",
       "      <td>Peppermint</td>\n",
       "      <td>Large</td>\n",
       "      <td>June</td>\n",
       "      <td>Saturday</td>\n",
       "      <td>12</td>\n",
       "      <td>6</td>\n",
       "      <td>5</td>\n",
       "    </tr>\n",
       "  </tbody>\n",
       "</table>\n",
       "</div>"
      ],
      "text/plain": [
       "   transaction_id transaction_date transaction_time  store_id store_location  \\\n",
       "0          114301       01-06-2023         11:33:29         3        Astoria   \n",
       "1          115405       02-06-2023         11:18:24         3        Astoria   \n",
       "2          115478       02-06-2023         12:02:45         3        Astoria   \n",
       "3          116288       02-06-2023         19:39:47         3        Astoria   \n",
       "4          116714       03-06-2023         12:24:57         3        Astoria   \n",
       "\n",
       "   product_id  transaction_qty  unit_price  Total_Bill product_category  \\\n",
       "0          45                1         3.0         3.0              Tea   \n",
       "1          45                1         3.0         3.0              Tea   \n",
       "2          45                1         3.0         3.0              Tea   \n",
       "3          45                1         3.0         3.0              Tea   \n",
       "4          45                1         3.0         3.0              Tea   \n",
       "\n",
       "        product_type product_detail   Size Month Name  Day Name  Hour  Month  \\\n",
       "0  Brewed herbal tea     Peppermint  Large       June  Thursday    11      6   \n",
       "1  Brewed herbal tea     Peppermint  Large       June    Friday    11      6   \n",
       "2  Brewed herbal tea     Peppermint  Large       June    Friday    12      6   \n",
       "3  Brewed herbal tea     Peppermint  Large       June    Friday    19      6   \n",
       "4  Brewed herbal tea     Peppermint  Large       June  Saturday    12      6   \n",
       "\n",
       "   Day of Week  \n",
       "0            3  \n",
       "1            4  \n",
       "2            4  \n",
       "3            4  \n",
       "4            5  "
      ]
     },
     "execution_count": 14,
     "metadata": {},
     "output_type": "execute_result"
    }
   ],
   "source": [
    "df = pd.read_csv('CoffeeSales.csv')\n",
    "df.head()"
   ]
  },
  {
   "cell_type": "code",
   "execution_count": 4,
   "id": "1d871dc9",
   "metadata": {},
   "outputs": [
    {
     "name": "stdout",
     "output_type": "stream",
     "text": [
      "<class 'pandas.core.frame.DataFrame'>\n",
      "RangeIndex: 149116 entries, 0 to 149115\n",
      "Data columns (total 18 columns):\n",
      " #   Column            Non-Null Count   Dtype  \n",
      "---  ------            --------------   -----  \n",
      " 0   transaction_id    149116 non-null  int64  \n",
      " 1   transaction_date  149116 non-null  object \n",
      " 2   transaction_time  149116 non-null  object \n",
      " 3   store_id          149116 non-null  int64  \n",
      " 4   store_location    149116 non-null  object \n",
      " 5   product_id        149116 non-null  int64  \n",
      " 6   transaction_qty   149116 non-null  int64  \n",
      " 7   unit_price        149116 non-null  float64\n",
      " 8   Total_Bill        149116 non-null  float64\n",
      " 9   product_category  149116 non-null  object \n",
      " 10  product_type      149116 non-null  object \n",
      " 11  product_detail    149116 non-null  object \n",
      " 12  Size              149116 non-null  object \n",
      " 13  Month Name        149116 non-null  object \n",
      " 14  Day Name          149116 non-null  object \n",
      " 15  Hour              149116 non-null  int64  \n",
      " 16  Month             149116 non-null  int64  \n",
      " 17  Day of Week       149116 non-null  int64  \n",
      "dtypes: float64(2), int64(7), object(9)\n",
      "memory usage: 20.5+ MB\n"
     ]
    }
   ],
   "source": [
    "df.info()"
   ]
  },
  {
   "cell_type": "markdown",
   "id": "3bea298a",
   "metadata": {},
   "source": [
    "We can use anova to compare categorical features with total bill - we can pick store location"
   ]
  },
  {
   "cell_type": "code",
   "execution_count": 6,
   "id": "4e5e73f8",
   "metadata": {},
   "outputs": [
    {
     "data": {
      "image/png": "[encoded data removed]",
      "text/plain": [
       "<Figure size 640x480 with 1 Axes>"
      ]
     },
     "metadata": {},
     "output_type": "display_data"
    }
   ],
   "source": [
    "#plot means of groups\n",
    "ax = sns.barplot(data=df, x='store_location', y='Total_Bill', hue='store_location',\n",
    "                 estimator = 'mean', errorbar=None, order = df.sort_values('Total_Bill').store_location)\n",
    "ax.set_xlabel('Store Location')\n",
    "ax.set_ylabel('Total Bill Price')\n",
    "ax.set_title('Mean Total Bill by Store Location')\n",
    "for i in ax.containers:\n",
    "    ax.bar_label(i,)"
   ]
  },
  {
   "cell_type": "code",
   "execution_count": 27,
   "id": "44ad2e5a",
   "metadata": {},
   "outputs": [],
   "source": [
    "hells_kitchen = df['Total_Bill'].loc[df['store_location']==\"Hell's Kitchen\"]\n",
    "lower_manhattan = df['Total_Bill'].loc[df['store_location']=='Lower Manhattan']\n",
    "astoria = df['Total_Bill'].loc[df['store_location']=='Astoria']"
   ]
  },
  {
   "cell_type": "code",
   "execution_count": 28,
   "id": "42705c1d",
   "metadata": {},
   "outputs": [
    {
     "data": {
      "text/plain": [
       "LeveneResult(statistic=64.8706567804023, pvalue=6.906866911467077e-29)"
      ]
     },
     "execution_count": 28,
     "metadata": {},
     "output_type": "execute_result"
    }
   ],
   "source": [
    "# Investigate equal variance assumption\n",
    "#use levene method to investigate\n",
    "stats.levene(hells_kitchen,lower_manhattan,astoria)"
   ]
  },
  {
   "cell_type": "markdown",
   "id": "c886afd7",
   "metadata": {},
   "source": [
    "Our data does not meet the assumption of unequal variance "
   ]
  },
  {
   "cell_type": "code",
   "execution_count": 29,
   "id": "9b36d711",
   "metadata": {},
   "outputs": [
    {
     "data": {
      "text/plain": [
       "AndersonResult(statistic=14036.974604885996, critical_values=array([0.576, 0.656, 0.787, 0.918, 1.092]), significance_level=array([15. , 10. ,  5. ,  2.5,  1. ]))"
      ]
     },
     "execution_count": 29,
     "metadata": {},
     "output_type": "execute_result"
    }
   ],
   "source": [
    "#test for normalcy in the model with anderson darling\n",
    "stats.anderson(df['Total_Bill'])"
   ]
  },
  {
   "cell_type": "markdown",
   "id": "c9e4a93d",
   "metadata": {},
   "source": [
    "At all critical values of the anderson darling test, the p-values do not fall below 0.05, so we can maintain the null hypothesis that our data follows a normal distribution"
   ]
  },
  {
   "cell_type": "code",
   "execution_count": 30,
   "id": "852c5d43",
   "metadata": {},
   "outputs": [
    {
     "data": {
      "text/html": [
       "<div>\n",
       "<style scoped>\n",
       "    .dataframe tbody tr th:only-of-type {\n",
       "        vertical-align: middle;\n",
       "    }\n",
       "\n",
       "    .dataframe tbody tr th {\n",
       "        vertical-align: top;\n",
       "    }\n",
       "\n",
       "    .dataframe thead th {\n",
       "        text-align: right;\n",
       "    }\n",
       "</style>\n",
       "<table border=\"1\" class=\"dataframe\">\n",
       "  <thead>\n",
       "    <tr style=\"text-align: right;\">\n",
       "      <th></th>\n",
       "      <th>Source</th>\n",
       "      <th>ddof1</th>\n",
       "      <th>ddof2</th>\n",
       "      <th>F</th>\n",
       "      <th>p-unc</th>\n",
       "      <th>np2</th>\n",
       "    </tr>\n",
       "  </thead>\n",
       "  <tbody>\n",
       "    <tr>\n",
       "      <th>0</th>\n",
       "      <td>store_location</td>\n",
       "      <td>2</td>\n",
       "      <td>94330.270549</td>\n",
       "      <td>65.331376</td>\n",
       "      <td>4.431762e-29</td>\n",
       "      <td>0.000484</td>\n",
       "    </tr>\n",
       "  </tbody>\n",
       "</table>\n",
       "</div>"
      ],
      "text/plain": [
       "           Source  ddof1         ddof2          F         p-unc       np2\n",
       "0  store_location      2  94330.270549  65.331376  4.431762e-29  0.000484"
      ]
     },
     "execution_count": 30,
     "metadata": {},
     "output_type": "execute_result"
    }
   ],
   "source": [
    "# perform Welch's ANOVA which does not assume equal variance\n",
    "pg.welch_anova(dv='Total_Bill', between='store_location', data=df) "
   ]
  },
  {
   "cell_type": "markdown",
   "id": "d3f6374a",
   "metadata": {},
   "source": [
    "The ANOVA test results above tell us that the variance between groups is 65 times larger than the variance within groups. So although the differences of means between groups is small, ANOVA testing tells us it is significant. "
   ]
  },
  {
   "cell_type": "markdown",
   "id": "7bafafc1",
   "metadata": {},
   "source": [
    "References\n",
    "\n",
    "Frost, J. (2023, October 26). How F-tests work in analysis of variance (ANOVA). Statistics By Jim. https://statisticsbyjim.com/anova/f-tests-anova/ \n",
    "\n",
    "GfG. (2022, February 21). How to perform Welch’s Anova in python. GeeksforGeeks. https://www.geeksforgeeks.org/how-to-perform-welchs-anova-in-python/ \n",
    "\n",
    "Light_Shot. (2024, March 30). Coffee Shop Sales Analysis. Kaggle. https://www.kaggle.com/datasets/divu2001/coffee-shop-sales-analysis \n",
    "\n",
    "Tim. (2022, February 23). Anderson-Darling Test & Statistic: Definition, examples. Statistics How To. https://www.statisticshowto.com/anderson-darling-test/ \n",
    "\n",
    "Zach. (2021, May 7). Anova vs. regression: What’s the difference? Statology. https://www.statology.org/anova-vs-regression/ \n"
   ]
  },
  {
   "cell_type": "code",
   "execution_count": null,
   "id": "68050f7b",
   "metadata": {},
   "outputs": [],
   "source": []
  }
 ],
 "metadata": {
  "kernelspec": {
   "display_name": "Python 3 (ipykernel)",
   "language": "python",
   "name": "python3"
  },
  "language_info": {
   "codemirror_mode": {
    "name": "ipython",
    "version": 3
   },
   "file_extension": ".py",
   "mimetype": "text/x-python",
   "name": "python",
   "nbconvert_exporter": "python",
   "pygments_lexer": "ipython3",
   "version": "3.10.4"
  }
 },
 "nbformat": 4,
 "nbformat_minor": 5
}
