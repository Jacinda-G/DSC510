{
 "cells": [
  {
   "cell_type": "markdown",
   "id": "3e34b8e0",
   "metadata": {},
   "source": [
    "### DSC 510 Topic 4 DQ1\n",
    "Data visualization is an important tool for communicating complex information to diverse audiences. Discuss the potential ethical considerations when designing and presenting data visualizations. How can data visualizations be used to manipulate or mislead viewers, and what strategies can be used to address these concerns? Provide at least two examples of data visualizations that illustrate ethical considerations in data presentation. How can Python be used to implement these strategies and create effective, ethical data visualizations?"
   ]
  },
  {
   "cell_type": "markdown",
   "id": "5fe26001",
   "metadata": {},
   "source": [
    "### Discussion\n",
    "Ethical concerns to be vigilant of when creating visualizations include misinterpretation of data and disclosures when presenting. Effective visualizations engage the audience in a way that allows them to easily interpret analysis. If the visualization created leave the viewer unsure of the take away, the visual is not effective. Further, any manipulation of the data, presenter bias, and characteristics of the data should be disclosed. \n",
    "\n",
    "It is the responsibility of the presenter to ensure that data is accurately interpreted and bias are pointed out. There are several datasets that have the same summary statistics, but plotted have very different representations. The presenter must be cognizant of this and other underlying impacts on the dataset being analyzed."
   ]
  },
  {
   "cell_type": "code",
   "execution_count": 1,
   "id": "4bb0864a",
   "metadata": {},
   "outputs": [],
   "source": [
    "# import packages\n",
    "import pandas as pd\n",
    "import numpy as np\n",
    "import matplotlib.pyplot as plt\n",
    "import seaborn as sns"
   ]
  },
  {
   "cell_type": "code",
   "execution_count": 2,
   "id": "b39460e6",
   "metadata": {},
   "outputs": [],
   "source": [
    "#read data from csv\n",
    "data = pd.read_csv('ds_salaries.csv')"
   ]
  },
  {
   "cell_type": "code",
   "execution_count": 3,
   "id": "017d3150",
   "metadata": {},
   "outputs": [
    {
     "data": {
      "text/html": [
       "<div>\n",
       "<style scoped>\n",
       "    .dataframe tbody tr th:only-of-type {\n",
       "        vertical-align: middle;\n",
       "    }\n",
       "\n",
       "    .dataframe tbody tr th {\n",
       "        vertical-align: top;\n",
       "    }\n",
       "\n",
       "    .dataframe thead th {\n",
       "        text-align: right;\n",
       "    }\n",
       "</style>\n",
       "<table border=\"1\" class=\"dataframe\">\n",
       "  <thead>\n",
       "    <tr style=\"text-align: right;\">\n",
       "      <th></th>\n",
       "      <th>id</th>\n",
       "      <th>work_year</th>\n",
       "      <th>experience_level</th>\n",
       "      <th>employment_type</th>\n",
       "      <th>job_title</th>\n",
       "      <th>salary</th>\n",
       "      <th>salary_currency</th>\n",
       "      <th>salary_in_usd</th>\n",
       "      <th>employee_residence</th>\n",
       "      <th>remote_ratio</th>\n",
       "      <th>company_location</th>\n",
       "      <th>company_size</th>\n",
       "    </tr>\n",
       "  </thead>\n",
       "  <tbody>\n",
       "    <tr>\n",
       "      <th>0</th>\n",
       "      <td>0</td>\n",
       "      <td>2020</td>\n",
       "      <td>MI</td>\n",
       "      <td>FT</td>\n",
       "      <td>Data Scientist</td>\n",
       "      <td>70000</td>\n",
       "      <td>EUR</td>\n",
       "      <td>79833</td>\n",
       "      <td>DE</td>\n",
       "      <td>0</td>\n",
       "      <td>DE</td>\n",
       "      <td>L</td>\n",
       "    </tr>\n",
       "    <tr>\n",
       "      <th>1</th>\n",
       "      <td>1</td>\n",
       "      <td>2020</td>\n",
       "      <td>SE</td>\n",
       "      <td>FT</td>\n",
       "      <td>Machine Learning Scientist</td>\n",
       "      <td>260000</td>\n",
       "      <td>USD</td>\n",
       "      <td>260000</td>\n",
       "      <td>JP</td>\n",
       "      <td>0</td>\n",
       "      <td>JP</td>\n",
       "      <td>S</td>\n",
       "    </tr>\n",
       "    <tr>\n",
       "      <th>2</th>\n",
       "      <td>2</td>\n",
       "      <td>2020</td>\n",
       "      <td>SE</td>\n",
       "      <td>FT</td>\n",
       "      <td>Big Data Engineer</td>\n",
       "      <td>85000</td>\n",
       "      <td>GBP</td>\n",
       "      <td>109024</td>\n",
       "      <td>GB</td>\n",
       "      <td>50</td>\n",
       "      <td>GB</td>\n",
       "      <td>M</td>\n",
       "    </tr>\n",
       "    <tr>\n",
       "      <th>3</th>\n",
       "      <td>3</td>\n",
       "      <td>2020</td>\n",
       "      <td>MI</td>\n",
       "      <td>FT</td>\n",
       "      <td>Product Data Analyst</td>\n",
       "      <td>20000</td>\n",
       "      <td>USD</td>\n",
       "      <td>20000</td>\n",
       "      <td>HN</td>\n",
       "      <td>0</td>\n",
       "      <td>HN</td>\n",
       "      <td>S</td>\n",
       "    </tr>\n",
       "    <tr>\n",
       "      <th>4</th>\n",
       "      <td>4</td>\n",
       "      <td>2020</td>\n",
       "      <td>SE</td>\n",
       "      <td>FT</td>\n",
       "      <td>Machine Learning Engineer</td>\n",
       "      <td>150000</td>\n",
       "      <td>USD</td>\n",
       "      <td>150000</td>\n",
       "      <td>US</td>\n",
       "      <td>50</td>\n",
       "      <td>US</td>\n",
       "      <td>L</td>\n",
       "    </tr>\n",
       "  </tbody>\n",
       "</table>\n",
       "</div>"
      ],
      "text/plain": [
       "   id  work_year experience_level employment_type                   job_title  \\\n",
       "0   0       2020               MI              FT              Data Scientist   \n",
       "1   1       2020               SE              FT  Machine Learning Scientist   \n",
       "2   2       2020               SE              FT           Big Data Engineer   \n",
       "3   3       2020               MI              FT        Product Data Analyst   \n",
       "4   4       2020               SE              FT   Machine Learning Engineer   \n",
       "\n",
       "   salary salary_currency  salary_in_usd employee_residence  remote_ratio  \\\n",
       "0   70000             EUR          79833                 DE             0   \n",
       "1  260000             USD         260000                 JP             0   \n",
       "2   85000             GBP         109024                 GB            50   \n",
       "3   20000             USD          20000                 HN             0   \n",
       "4  150000             USD         150000                 US            50   \n",
       "\n",
       "  company_location company_size  \n",
       "0               DE            L  \n",
       "1               JP            S  \n",
       "2               GB            M  \n",
       "3               HN            S  \n",
       "4               US            L  "
      ]
     },
     "execution_count": 3,
     "metadata": {},
     "output_type": "execute_result"
    }
   ],
   "source": [
    "#read to data frame and explore data\n",
    "df = pd.DataFrame(data)\n",
    "df.head()"
   ]
  },
  {
   "cell_type": "code",
   "execution_count": 4,
   "id": "b8240705",
   "metadata": {},
   "outputs": [
    {
     "name": "stdout",
     "output_type": "stream",
     "text": [
      "<class 'pandas.core.frame.DataFrame'>\n",
      "RangeIndex: 607 entries, 0 to 606\n",
      "Data columns (total 12 columns):\n",
      " #   Column              Non-Null Count  Dtype \n",
      "---  ------              --------------  ----- \n",
      " 0   id                  607 non-null    int64 \n",
      " 1   work_year           607 non-null    int64 \n",
      " 2   experience_level    607 non-null    object\n",
      " 3   employment_type     607 non-null    object\n",
      " 4   job_title           607 non-null    object\n",
      " 5   salary              607 non-null    int64 \n",
      " 6   salary_currency     607 non-null    object\n",
      " 7   salary_in_usd       607 non-null    int64 \n",
      " 8   employee_residence  607 non-null    object\n",
      " 9   remote_ratio        607 non-null    int64 \n",
      " 10  company_location    607 non-null    object\n",
      " 11  company_size        607 non-null    object\n",
      "dtypes: int64(5), object(7)\n",
      "memory usage: 57.0+ KB\n"
     ]
    }
   ],
   "source": [
    "df.info()"
   ]
  },
  {
   "cell_type": "code",
   "execution_count": 5,
   "id": "b1fb02ad",
   "metadata": {},
   "outputs": [
    {
     "data": {
      "text/html": [
       "<div>\n",
       "<style scoped>\n",
       "    .dataframe tbody tr th:only-of-type {\n",
       "        vertical-align: middle;\n",
       "    }\n",
       "\n",
       "    .dataframe tbody tr th {\n",
       "        vertical-align: top;\n",
       "    }\n",
       "\n",
       "    .dataframe thead th {\n",
       "        text-align: right;\n",
       "    }\n",
       "</style>\n",
       "<table border=\"1\" class=\"dataframe\">\n",
       "  <thead>\n",
       "    <tr style=\"text-align: right;\">\n",
       "      <th></th>\n",
       "      <th>id</th>\n",
       "      <th>work_year</th>\n",
       "      <th>salary</th>\n",
       "      <th>salary_in_usd</th>\n",
       "      <th>remote_ratio</th>\n",
       "    </tr>\n",
       "  </thead>\n",
       "  <tbody>\n",
       "    <tr>\n",
       "      <th>count</th>\n",
       "      <td>607.000000</td>\n",
       "      <td>607.000000</td>\n",
       "      <td>6.070000e+02</td>\n",
       "      <td>607.000000</td>\n",
       "      <td>607.00000</td>\n",
       "    </tr>\n",
       "    <tr>\n",
       "      <th>mean</th>\n",
       "      <td>303.000000</td>\n",
       "      <td>2021.405272</td>\n",
       "      <td>3.240001e+05</td>\n",
       "      <td>112297.869852</td>\n",
       "      <td>70.92257</td>\n",
       "    </tr>\n",
       "    <tr>\n",
       "      <th>std</th>\n",
       "      <td>175.370085</td>\n",
       "      <td>0.692133</td>\n",
       "      <td>1.544357e+06</td>\n",
       "      <td>70957.259411</td>\n",
       "      <td>40.70913</td>\n",
       "    </tr>\n",
       "    <tr>\n",
       "      <th>min</th>\n",
       "      <td>0.000000</td>\n",
       "      <td>2020.000000</td>\n",
       "      <td>4.000000e+03</td>\n",
       "      <td>2859.000000</td>\n",
       "      <td>0.00000</td>\n",
       "    </tr>\n",
       "    <tr>\n",
       "      <th>25%</th>\n",
       "      <td>151.500000</td>\n",
       "      <td>2021.000000</td>\n",
       "      <td>7.000000e+04</td>\n",
       "      <td>62726.000000</td>\n",
       "      <td>50.00000</td>\n",
       "    </tr>\n",
       "    <tr>\n",
       "      <th>50%</th>\n",
       "      <td>303.000000</td>\n",
       "      <td>2022.000000</td>\n",
       "      <td>1.150000e+05</td>\n",
       "      <td>101570.000000</td>\n",
       "      <td>100.00000</td>\n",
       "    </tr>\n",
       "    <tr>\n",
       "      <th>75%</th>\n",
       "      <td>454.500000</td>\n",
       "      <td>2022.000000</td>\n",
       "      <td>1.650000e+05</td>\n",
       "      <td>150000.000000</td>\n",
       "      <td>100.00000</td>\n",
       "    </tr>\n",
       "    <tr>\n",
       "      <th>max</th>\n",
       "      <td>606.000000</td>\n",
       "      <td>2022.000000</td>\n",
       "      <td>3.040000e+07</td>\n",
       "      <td>600000.000000</td>\n",
       "      <td>100.00000</td>\n",
       "    </tr>\n",
       "  </tbody>\n",
       "</table>\n",
       "</div>"
      ],
      "text/plain": [
       "               id    work_year        salary  salary_in_usd  remote_ratio\n",
       "count  607.000000   607.000000  6.070000e+02     607.000000     607.00000\n",
       "mean   303.000000  2021.405272  3.240001e+05  112297.869852      70.92257\n",
       "std    175.370085     0.692133  1.544357e+06   70957.259411      40.70913\n",
       "min      0.000000  2020.000000  4.000000e+03    2859.000000       0.00000\n",
       "25%    151.500000  2021.000000  7.000000e+04   62726.000000      50.00000\n",
       "50%    303.000000  2022.000000  1.150000e+05  101570.000000     100.00000\n",
       "75%    454.500000  2022.000000  1.650000e+05  150000.000000     100.00000\n",
       "max    606.000000  2022.000000  3.040000e+07  600000.000000     100.00000"
      ]
     },
     "execution_count": 5,
     "metadata": {},
     "output_type": "execute_result"
    }
   ],
   "source": [
    "df.describe()"
   ]
  },
  {
   "cell_type": "code",
   "execution_count": 6,
   "id": "f7bea279",
   "metadata": {},
   "outputs": [
    {
     "data": {
      "text/plain": [
       "Text(0.5, 1.0, 'Data Science Salries in USD by Employment Type and Experience Level')"
      ]
     },
     "execution_count": 6,
     "metadata": {},
     "output_type": "execute_result"
    },
    {
     "data": {
      "image/png": "[encoded data removed]",
      "text/plain": [
       "<Figure size 640x480 with 1 Axes>"
      ]
     },
     "metadata": {},
     "output_type": "display_data"
    }
   ],
   "source": [
    "ax = sns.barplot(x='employment_type',y='salary_in_usd',data=df, hue='experience_level')\n",
    "ax.set_xlabel('Employment Type')\n",
    "ax.set_ylabel('Salary in USD')\n",
    "ax.set_title('Data Science Salaries in USD by Employment Type and Experience Level')\n"
   ]
  },
  {
   "cell_type": "markdown",
   "id": "48045215",
   "metadata": {},
   "source": [
    "From the plot above we may be able to infer that contractors make the most, especially mid level and experts. Looking at this graph we can see there is no data for senior or expert level for part time data scientists. There are only senior and mid level data points for those who reported themselves as floats. "
   ]
  },
  {
   "cell_type": "markdown",
   "id": "087215ce",
   "metadata": {},
   "source": [
    "Going based off of the above bar graph above, a news site may feel comfortable stating that contractor data scientist make twice as much as full time employees. However, going deeper into the data will give us more insight to be able to determine if this is an accurate statement. "
   ]
  },
  {
   "cell_type": "code",
   "execution_count": 7,
   "id": "d9cfe934",
   "metadata": {},
   "outputs": [
    {
     "data": {
      "text/html": [
       "<div>\n",
       "<style scoped>\n",
       "    .dataframe tbody tr th:only-of-type {\n",
       "        vertical-align: middle;\n",
       "    }\n",
       "\n",
       "    .dataframe tbody tr th {\n",
       "        vertical-align: top;\n",
       "    }\n",
       "\n",
       "    .dataframe thead th {\n",
       "        text-align: right;\n",
       "    }\n",
       "</style>\n",
       "<table border=\"1\" class=\"dataframe\">\n",
       "  <thead>\n",
       "    <tr style=\"text-align: right;\">\n",
       "      <th></th>\n",
       "      <th>id</th>\n",
       "      <th>work_year</th>\n",
       "      <th>experience_level</th>\n",
       "      <th>employment_type</th>\n",
       "      <th>job_title</th>\n",
       "      <th>salary</th>\n",
       "      <th>salary_currency</th>\n",
       "      <th>salary_in_usd</th>\n",
       "      <th>employee_residence</th>\n",
       "      <th>remote_ratio</th>\n",
       "      <th>company_location</th>\n",
       "      <th>company_size</th>\n",
       "    </tr>\n",
       "  </thead>\n",
       "  <tbody>\n",
       "    <tr>\n",
       "      <th>28</th>\n",
       "      <td>28</td>\n",
       "      <td>2020</td>\n",
       "      <td>EN</td>\n",
       "      <td>CT</td>\n",
       "      <td>Business Data Analyst</td>\n",
       "      <td>100000</td>\n",
       "      <td>USD</td>\n",
       "      <td>100000</td>\n",
       "      <td>US</td>\n",
       "      <td>100</td>\n",
       "      <td>US</td>\n",
       "      <td>L</td>\n",
       "    </tr>\n",
       "    <tr>\n",
       "      <th>78</th>\n",
       "      <td>78</td>\n",
       "      <td>2021</td>\n",
       "      <td>MI</td>\n",
       "      <td>CT</td>\n",
       "      <td>ML Engineer</td>\n",
       "      <td>270000</td>\n",
       "      <td>USD</td>\n",
       "      <td>270000</td>\n",
       "      <td>US</td>\n",
       "      <td>100</td>\n",
       "      <td>US</td>\n",
       "      <td>L</td>\n",
       "    </tr>\n",
       "    <tr>\n",
       "      <th>225</th>\n",
       "      <td>225</td>\n",
       "      <td>2021</td>\n",
       "      <td>EX</td>\n",
       "      <td>CT</td>\n",
       "      <td>Principal Data Scientist</td>\n",
       "      <td>416000</td>\n",
       "      <td>USD</td>\n",
       "      <td>416000</td>\n",
       "      <td>US</td>\n",
       "      <td>100</td>\n",
       "      <td>US</td>\n",
       "      <td>S</td>\n",
       "    </tr>\n",
       "    <tr>\n",
       "      <th>283</th>\n",
       "      <td>283</td>\n",
       "      <td>2021</td>\n",
       "      <td>SE</td>\n",
       "      <td>CT</td>\n",
       "      <td>Staff Data Scientist</td>\n",
       "      <td>105000</td>\n",
       "      <td>USD</td>\n",
       "      <td>105000</td>\n",
       "      <td>US</td>\n",
       "      <td>100</td>\n",
       "      <td>US</td>\n",
       "      <td>M</td>\n",
       "    </tr>\n",
       "    <tr>\n",
       "      <th>489</th>\n",
       "      <td>489</td>\n",
       "      <td>2022</td>\n",
       "      <td>EN</td>\n",
       "      <td>CT</td>\n",
       "      <td>Applied Machine Learning Scientist</td>\n",
       "      <td>29000</td>\n",
       "      <td>EUR</td>\n",
       "      <td>31875</td>\n",
       "      <td>TN</td>\n",
       "      <td>100</td>\n",
       "      <td>CZ</td>\n",
       "      <td>M</td>\n",
       "    </tr>\n",
       "  </tbody>\n",
       "</table>\n",
       "</div>"
      ],
      "text/plain": [
       "      id  work_year experience_level employment_type  \\\n",
       "28    28       2020               EN              CT   \n",
       "78    78       2021               MI              CT   \n",
       "225  225       2021               EX              CT   \n",
       "283  283       2021               SE              CT   \n",
       "489  489       2022               EN              CT   \n",
       "\n",
       "                              job_title  salary salary_currency  \\\n",
       "28                Business Data Analyst  100000             USD   \n",
       "78                          ML Engineer  270000             USD   \n",
       "225            Principal Data Scientist  416000             USD   \n",
       "283                Staff Data Scientist  105000             USD   \n",
       "489  Applied Machine Learning Scientist   29000             EUR   \n",
       "\n",
       "     salary_in_usd employee_residence  remote_ratio company_location  \\\n",
       "28          100000                 US           100               US   \n",
       "78          270000                 US           100               US   \n",
       "225         416000                 US           100               US   \n",
       "283         105000                 US           100               US   \n",
       "489          31875                 TN           100               CZ   \n",
       "\n",
       "    company_size  \n",
       "28             L  \n",
       "78             L  \n",
       "225            S  \n",
       "283            M  \n",
       "489            M  "
      ]
     },
     "execution_count": 7,
     "metadata": {},
     "output_type": "execute_result"
    }
   ],
   "source": [
    "#find the data points equal to contractor employement type\n",
    "contractors = df.loc[df['employment_type']=='CT']\n",
    "contractors"
   ]
  },
  {
   "cell_type": "code",
   "execution_count": 8,
   "id": "1cbe3f93",
   "metadata": {},
   "outputs": [
    {
     "data": {
      "text/plain": [
       "FT    588\n",
       "PT     10\n",
       "CT      5\n",
       "FL      4\n",
       "Name: employment_type, dtype: int64"
      ]
     },
     "execution_count": 8,
     "metadata": {},
     "output_type": "execute_result"
    }
   ],
   "source": [
    "#count the data points for each employment type\n",
    "df['employment_type'].value_counts()"
   ]
  },
  {
   "cell_type": "markdown",
   "id": "fd9d525d",
   "metadata": {},
   "source": [
    "From the above data exploration, it would not be ethical to make a claim on average salaries for fulltime employees versus other employment types due to the lack of data of non full time employers. "
   ]
  },
  {
   "cell_type": "code",
   "execution_count": 9,
   "id": "6e0eeb1d",
   "metadata": {},
   "outputs": [],
   "source": [
    "#drop employement types not equal to full time\n",
    "df = df.loc[df['employment_type']=='FT']"
   ]
  },
  {
   "cell_type": "code",
   "execution_count": 10,
   "id": "3a0f19dc",
   "metadata": {},
   "outputs": [],
   "source": [
    "#Rename levels\n",
    "levels = {'EN':'1 Entry Level','MI':'2 Mid Level','SE':'3 Senior Level','EX':'4 Expert Level'}\n",
    "df['experience_level'] = df['experience_level'].map(levels)"
   ]
  },
  {
   "cell_type": "code",
   "execution_count": 30,
   "id": "cb707fa8",
   "metadata": {},
   "outputs": [
    {
     "data": {
      "image/png": "[encoded data removed]",
      "text/plain": [
       "<Figure size 640x480 with 1 Axes>"
      ]
     },
     "metadata": {},
     "output_type": "display_data"
    }
   ],
   "source": [
    "#create plot of full time mean data science salaried by experience level\n",
    "ax2 = sns.barplot(x='experience_level',y='salary_in_usd',data=df,hue='experience_level',\n",
    "                  order=df['experience_level'].sort_values(),err_kws={'linewidth': 0})\n",
    "ax2.set_xlabel('Experience level')\n",
    "ax2.set_ylabel('Salary in USD')\n",
    "ax2.set_title('Full Time Data Science Salaries by Experience Level')\n",
    "for i in ax2.containers:\n",
    "    ax2.bar_label(i,)"
   ]
  },
  {
   "cell_type": "markdown",
   "id": "c11545f6",
   "metadata": {},
   "source": [
    "This is a more transparent and easy to interpret plot compared to the first chart. Even with data removed, it is better to focus on a single employment type that we have a robust dataset for. Further, the sorting of the chart and elongated experience level names removes ambiguity to the viewer. This visual also shows more transparency by including data labels. \n",
    "\n",
    "From this chart we can see that expert level data scientists make nearly 3 times more than entry level data scientists. "
   ]
  },
  {
   "cell_type": "code",
   "execution_count": 33,
   "id": "41ca2304",
   "metadata": {},
   "outputs": [
    {
     "data": {
      "image/png": "[encoded data removed]",
      "text/plain": [
       "<Figure size 640x480 with 1 Axes>"
      ]
     },
     "metadata": {},
     "output_type": "display_data"
    }
   ],
   "source": [
    "# plot median salaries by experienc level\n",
    "ax3 = sns.barplot(x='experience_level',y='salary_in_usd',data=df,hue='experience_level',\n",
    "                  order=df['experience_level'].sort_values(),err_kws={'linewidth': 0}, estimator='median')\n",
    "ax3.set_xlabel('Experience level')\n",
    "ax3.set_ylabel('Salary in USD')\n",
    "ax3.set_title('Full Time Data Science Median Salaries by Experience Level')\n",
    "for i in ax3.containers:\n",
    "    ax3.bar_label(i,)"
   ]
  },
  {
   "cell_type": "markdown",
   "id": "22d42e25",
   "metadata": {},
   "source": [
    "As we have discussed at extent in this class, other ways visualizations can be bias are through the measures of central tendencies used. In the prior bar chart, we used the mean. This chart shows the median salaries and we can see there is an over 20,000 difference in expert level pay and an over 10,000 difference in mid level pay. \n",
    "\n",
    "This shows how high the outliers are in these two categories."
   ]
  },
  {
   "cell_type": "markdown",
   "id": "e8c486d2",
   "metadata": {},
   "source": [
    "When visualizing data, it is the ethical duty of the analyst to draw insight of the data and ensure manipulations do not impute bias. The burden of creating an easy to read and appropriate visual is on the analyst. Neglecting to transform data into obvious and true visuals is a shortcoming. To transform data in a way that misleads readers and allows for loose extrapolations is an ethical failure. "
   ]
  },
  {
   "cell_type": "markdown",
   "id": "6834b863",
   "metadata": {},
   "source": [
    "References\n",
    "\n",
    "Faisal, Z. (2024, February 27). Data science salaries. Kaggle. https://www.kaggle.com/datasets/zain280/data-science-salaries \n",
    "\n",
    "Misleading graphs: Real life examples. Statistics How To. (2024, January 5). https://www.statisticshowto.com/probability-and-statistics/descriptive-statistics/misleading-graphs/ \n",
    "\n",
    "Rogel-Salazar, J. (2023). Statistics and data visualisation with python. CRC Press.\n",
    "\n",
    "Webber, K. L., & Morn, J. (2019). Limitations in data analytics: Considerations related to ethics, security, and possible misrepresentation in data reports and visualizations. IHE Research Projects Series, 3."
   ]
  },
  {
   "cell_type": "code",
   "execution_count": null,
   "id": "45d71747",
   "metadata": {},
   "outputs": [],
   "source": []
  }
 ],
 "metadata": {
  "kernelspec": {
   "display_name": "Python 3 (ipykernel)",
   "language": "python",
   "name": "python3"
  },
  "language_info": {
   "codemirror_mode": {
    "name": "ipython",
    "version": 3
   },
   "file_extension": ".py",
   "mimetype": "text/x-python",
   "name": "python",
   "nbconvert_exporter": "python",
   "pygments_lexer": "ipython3",
   "version": "3.10.4"
  }
 },
 "nbformat": 4,
 "nbformat_minor": 5
}
