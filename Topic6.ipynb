{
 "cells": [
  {
   "cell_type": "markdown",
   "id": "ef4725c4",
   "metadata": {},
   "source": [
    "### Advanced Hypothesis Testing\n",
    "\n",
    "This assignment aims to enhance proficiency in statistical analysis and hypothesis testing in Python utilizing real-world datasets to conduct hypothesis tests for paired data, multiple population means, and variance comparison, cultivating a deeper understanding of the statistical method's limitation and reliability through exploring assumptions, potential consequences of violating them, and their remedies."
   ]
  },
  {
   "cell_type": "code",
   "execution_count": 34,
   "id": "305b26ff",
   "metadata": {},
   "outputs": [],
   "source": [
    "#! pip install researchpy"
   ]
  },
  {
   "cell_type": "code",
   "execution_count": 38,
   "id": "687bdf3d",
   "metadata": {},
   "outputs": [],
   "source": [
    "import numpy as np\n",
    "import pandas as pd\n",
    "import scipy.stats as stats\n",
    "import statsmodels.api as sm\n",
    "from statsmodels.formula.api import ols\n",
    "import matplotlib.pyplot as plt\n",
    "import math as mt\n",
    "import seaborn as sns\n",
    "import statistics as st\n",
    "from math import sqrt \n",
    "import researchpy as rp"
   ]
  },
  {
   "cell_type": "markdown",
   "id": "87ddbc9d",
   "metadata": {},
   "source": [
    "__Task 1: Paired Data Analysis__\n",
    "\n",
    "*Find a suitable dataset with paired data from a reliable source.\n",
    "Write a Jupyter notebook to import the dataset and perform a hypothesis test for paired data.\n",
    "Explain the problem, data, research question, and the appropriate statistical test that you would use to address the research question.\n",
    "Discuss the assumptions underlying the hypothesis test, potential consequences of violating these assumptions, and possible remedies.\n",
    "Propose a Python tool to assist with the interpretation of the results of the statistical test and visualizations.\n",
    "Record a 3- to 4-minute video explaining the analysis, results, and interpretation of the hypothesis test.*"
   ]
  },
  {
   "cell_type": "markdown",
   "id": "2dca4566",
   "metadata": {},
   "source": [
    "For this task, we will be using a cancer dataset and a paried t-test to determine if the difference of means between two samples in the dataset is zero. This dataset collected prevalance of cancer before and after the chernobyl disaster. A paired t-test can help us determine if the event is correlated with an average increase in cancer rates per 100000 people. \n",
    "\n",
    "Assumptions of this test are that the dependent variable is continous, variables are independent of one another, there is normal distribution in the dependent variable, and that the dependent variable does not contain outliers. Potential consequences of violating these hypothesis when the data does not meet these assumptions could be use of a subpar test. Other tests can better predict a significant difference between means when there is dependency and outliers in a data set. Other issues caused when the data violates these assumptions are erroneous results. Remedies include removing outliers or using a better fit test for the data such as a nonparametric test. "
   ]
  },
  {
   "cell_type": "code",
   "execution_count": 2,
   "id": "e8cd53ff",
   "metadata": {},
   "outputs": [
    {
     "data": {
      "text/html": [
       "<div>\n",
       "<style scoped>\n",
       "    .dataframe tbody tr th:only-of-type {\n",
       "        vertical-align: middle;\n",
       "    }\n",
       "\n",
       "    .dataframe tbody tr th {\n",
       "        vertical-align: top;\n",
       "    }\n",
       "\n",
       "    .dataframe thead th {\n",
       "        text-align: right;\n",
       "    }\n",
       "</style>\n",
       "<table border=\"1\" class=\"dataframe\">\n",
       "  <thead>\n",
       "    <tr style=\"text-align: right;\">\n",
       "      <th></th>\n",
       "      <th>year</th>\n",
       "      <th>sex</th>\n",
       "      <th>location</th>\n",
       "      <th>cancer_type</th>\n",
       "      <th>cases</th>\n",
       "    </tr>\n",
       "  </thead>\n",
       "  <tbody>\n",
       "    <tr>\n",
       "      <th>0</th>\n",
       "      <td>1985</td>\n",
       "      <td>women</td>\n",
       "      <td>Gomel</td>\n",
       "      <td>skin</td>\n",
       "      <td>17.3</td>\n",
       "    </tr>\n",
       "    <tr>\n",
       "      <th>1</th>\n",
       "      <td>1985</td>\n",
       "      <td>women</td>\n",
       "      <td>Mogilev</td>\n",
       "      <td>skin</td>\n",
       "      <td>16.8</td>\n",
       "    </tr>\n",
       "    <tr>\n",
       "      <th>2</th>\n",
       "      <td>1986</td>\n",
       "      <td>women</td>\n",
       "      <td>Gomel</td>\n",
       "      <td>skin</td>\n",
       "      <td>15.6</td>\n",
       "    </tr>\n",
       "    <tr>\n",
       "      <th>3</th>\n",
       "      <td>1986</td>\n",
       "      <td>women</td>\n",
       "      <td>Mogilev</td>\n",
       "      <td>skin</td>\n",
       "      <td>18.3</td>\n",
       "    </tr>\n",
       "    <tr>\n",
       "      <th>4</th>\n",
       "      <td>1985</td>\n",
       "      <td>women</td>\n",
       "      <td>Belarus</td>\n",
       "      <td>skin</td>\n",
       "      <td>14.9</td>\n",
       "    </tr>\n",
       "  </tbody>\n",
       "</table>\n",
       "</div>"
      ],
      "text/plain": [
       "   year    sex location cancer_type  cases\n",
       "0  1985  women    Gomel        skin   17.3\n",
       "1  1985  women  Mogilev        skin   16.8\n",
       "2  1986  women    Gomel        skin   15.6\n",
       "3  1986  women  Mogilev        skin   18.3\n",
       "4  1985  women  Belarus        skin   14.9"
      ]
     },
     "execution_count": 2,
     "metadata": {},
     "output_type": "execute_result"
    }
   ],
   "source": [
    "#read data and print first 5 rows\n",
    "df1 = pd.read_csv('cancer_before_and_after_Chernobyl_Belarus.csv')\n",
    "df1.head()"
   ]
  },
  {
   "cell_type": "code",
   "execution_count": 3,
   "id": "6df5525d",
   "metadata": {},
   "outputs": [
    {
     "name": "stdout",
     "output_type": "stream",
     "text": [
      "<class 'pandas.core.frame.DataFrame'>\n",
      "RangeIndex: 84 entries, 0 to 83\n",
      "Data columns (total 5 columns):\n",
      " #   Column       Non-Null Count  Dtype  \n",
      "---  ------       --------------  -----  \n",
      " 0   year         84 non-null     int64  \n",
      " 1   sex          84 non-null     object \n",
      " 2   location     84 non-null     object \n",
      " 3   cancer_type  84 non-null     object \n",
      " 4   cases        84 non-null     float64\n",
      "dtypes: float64(1), int64(1), object(3)\n",
      "memory usage: 3.4+ KB\n"
     ]
    }
   ],
   "source": [
    "#print info\n",
    "df1.info()"
   ]
  },
  {
   "cell_type": "markdown",
   "id": "677314f7",
   "metadata": {},
   "source": [
    "Looking at the dataset, we can verify that the data for cases is continous, which meets the assumptions of our test."
   ]
  },
  {
   "cell_type": "code",
   "execution_count": 4,
   "id": "eaa17f4a",
   "metadata": {},
   "outputs": [
    {
     "data": {
      "image/png": "[encoded data removed]",
      "text/plain": [
       "<Figure size 640x480 with 1 Axes>"
      ]
     },
     "metadata": {},
     "output_type": "display_data"
    }
   ],
   "source": [
    "#look for outliers in the dataset by visualizing with a boxplot\n",
    "df1.boxplot(column ='cases', by= 'year')\n",
    "plt.title('Cancer Cases before(1985) and after(1986) Chernobyl')\n",
    "plt.show()"
   ]
  },
  {
   "cell_type": "markdown",
   "id": "0f9f476f",
   "metadata": {},
   "source": [
    "From a simple boxplot we can visualize higher counts of cancer cases after chernobyl than before. To meet the assumptions of the t-test we need to remove outliers. "
   ]
  },
  {
   "cell_type": "code",
   "execution_count": 5,
   "id": "d1b8cc74",
   "metadata": {},
   "outputs": [],
   "source": [
    "# remove outliers\n",
    "#calculate quantiles for each group\n",
    "low = 0.05\n",
    "high = 0.95\n",
    "res = df1.groupby('year')['cases'].quantile([low, high]).unstack(level=1)\n",
    "\n",
    "# Filter rows within the quantile range\n",
    "df1 = df1[((res.loc[df1['year'], low] < df1['cases'].values) &\n",
    "                  (df1['cases'].values < res.loc[df1['year'], high])).values]"
   ]
  },
  {
   "cell_type": "code",
   "execution_count": 6,
   "id": "574cdeee",
   "metadata": {},
   "outputs": [
    {
     "data": {
      "image/png": "[encoded data removed]",
      "text/plain": [
       "<Figure size 640x480 with 1 Axes>"
      ]
     },
     "metadata": {},
     "output_type": "display_data"
    }
   ],
   "source": [
    "#show data distribution without outliers\n",
    "df1.boxplot(column ='cases', by= 'year')\n",
    "plt.title('Cancer Cases before(1985) and after(1986) Chernobyl with outliers removed')\n",
    "plt.show()"
   ]
  },
  {
   "cell_type": "code",
   "execution_count": 7,
   "id": "6f9e8db6",
   "metadata": {},
   "outputs": [],
   "source": [
    "#group by year to get count of cases by year\n",
    "before = df1['cases'].loc[df1['year']==1985]\n",
    "after = df1['cases'].loc[df1['year']==1986]"
   ]
  },
  {
   "cell_type": "code",
   "execution_count": 8,
   "id": "3d76873a",
   "metadata": {},
   "outputs": [
    {
     "name": "stdout",
     "output_type": "stream",
     "text": [
      "p value is 0.9999932505356331\n",
      "The data is independent and meets the assumptions of our test\n"
     ]
    }
   ],
   "source": [
    "#test for independence using chi-square\n",
    "stat, p, dof, expected = stats.chi2_contingency([before,after])\n",
    "\n",
    "alpha = 0.05\n",
    "print(\"p value is \" + str(p))\n",
    "if p <= alpha:\n",
    "    print('The data is dependent and violates the assumption of our test')\n",
    "else:\n",
    "    print('The data is independent and meets the assumptions of our test')"
   ]
  },
  {
   "cell_type": "code",
   "execution_count": 19,
   "id": "2b385ab5",
   "metadata": {},
   "outputs": [
    {
     "data": {
      "image/png": "[encoded data removed]",
      "text/plain": [
       "<Figure size 640x480 with 1 Axes>"
      ]
     },
     "metadata": {},
     "output_type": "display_data"
    }
   ],
   "source": [
    "#ensure the data follows the normality assumption\n",
    "plt.hist(df1['cases'], bins=20)\n",
    "plt.title('histogram of cancer cases in dataset')\n",
    "plt.show()"
   ]
  },
  {
   "cell_type": "code",
   "execution_count": 20,
   "id": "1541e812",
   "metadata": {},
   "outputs": [
    {
     "data": {
      "text/plain": [
       "ShapiroResult(statistic=0.8562018871307373, pvalue=7.960708217069623e-07)"
      ]
     },
     "execution_count": 20,
     "metadata": {},
     "output_type": "execute_result"
    }
   ],
   "source": [
    "#investigate further with shapiro-wilk test for determining normality\n",
    "stats.shapiro(df1['cases'])"
   ]
  },
  {
   "cell_type": "markdown",
   "id": "df494f60",
   "metadata": {},
   "source": [
    "The shapiro wilk test confirms that our data violates the assumption that our dependent variable follows a normal distribution. The assumption of normality, is not one that greatly impacts the t-test, but it is important to recognize that there may be a more appropriate test for this data."
   ]
  },
  {
   "cell_type": "code",
   "execution_count": 10,
   "id": "87f901d1",
   "metadata": {},
   "outputs": [
    {
     "name": "stdout",
     "output_type": "stream",
     "text": [
      "The mean amount of cases for men/women across groups BEFORE chernobyl is :  6.694444444444446\n",
      "The mean amount of cases for men/women across groups AFTER chernobyl is :  8.825\n"
     ]
    }
   ],
   "source": [
    "print('The mean amount of cases for men/women across groups BEFORE chernobyl is : ', np.mean(before))\n",
    "print('The mean amount of cases for men/women across groups AFTER chernobyl is : ',np.mean(after))"
   ]
  },
  {
   "cell_type": "code",
   "execution_count": 22,
   "id": "4cb1e641",
   "metadata": {},
   "outputs": [
    {
     "name": "stdout",
     "output_type": "stream",
     "text": [
      "t-statistic: 9.195766381281832\n",
      "p-value: 3.627015031870568e-11\n"
     ]
    }
   ],
   "source": [
    "# perform paired samples t-test\n",
    "t_statistic, p_value = stats.ttest_rel(after, before, alternative='greater')\n",
    "# display the results\n",
    "print(f\"t-statistic: {t_statistic}\")\n",
    "print(f\"p-value: {p_value}\")"
   ]
  },
  {
   "cell_type": "markdown",
   "id": "39177181",
   "metadata": {},
   "source": [
    "The t-test statitistic is 9.19 with a p-value of 3.62 x 10^-11. "
   ]
  },
  {
   "cell_type": "markdown",
   "id": "7510d0a8",
   "metadata": {},
   "source": [
    "This low p-value informs us that this result is statistically significant. If we were to accept the null hypothesis that the means before and after were not different, than the t-test would be equal to zero. In this we reject the null hypothesis, and can confirm there is a significant difference between means"
   ]
  },
  {
   "cell_type": "markdown",
   "id": "5546fbf9",
   "metadata": {},
   "source": [
    "Due to our data not following a normal distribution, it may be more appropriate to use a wilcoxon-signed rank test. This test allows for non-normalized data to determine if the paired groups are identically distributed. The other assumptions for this test are the same. "
   ]
  },
  {
   "cell_type": "code",
   "execution_count": 21,
   "id": "fcf61975",
   "metadata": {},
   "outputs": [
    {
     "data": {
      "text/plain": [
       "WilcoxonResult(statistic=16.0, pvalue=6.324977190503043e-07)"
      ]
     },
     "execution_count": 21,
     "metadata": {},
     "output_type": "execute_result"
    }
   ],
   "source": [
    "#conduct wicoxon-signed-rank test\n",
    "stats.wilcoxon(before,after)"
   ]
  },
  {
   "cell_type": "markdown",
   "id": "50d918e8",
   "metadata": {},
   "source": [
    "With the wilcoxon t-test, we still reject the null value and determine that the mean for cancer cases before and after chernobyl are statistically significant. Indicationg a correlation between chernobyl and an increase of cancer cases. As for causality, much research has been conducted between radiation and cancer. So, we can determine that the chernobyl disaster caused a significant increase in cancer cases. "
   ]
  },
  {
   "cell_type": "markdown",
   "id": "816325e9",
   "metadata": {},
   "source": [
    "__Task 2: Multiple Population Means Analysis__\n",
    "\n",
    "*Find a suitable dataset with more than two populations means from a reliable source.\n",
    "Continuing in the same Jupyter notebook, write a code to import the dataset and perform a hypothesis test for more than two population means.\n",
    "Explain the problem, data, research question, and the appropriate statistical test that you would use to address the research question.\n",
    "Discuss the assumptions underlying the hypothesis test, potential consequences of violating these assumptions, and possible remedies.\n",
    "Propose a Python tool to assist with the interpretation of the results of the statistical test and visualizations.\n",
    "Record a 3- to 4-minute video explaining the analysis, results, and interpretation of the hypothesis test.*"
   ]
  },
  {
   "cell_type": "markdown",
   "id": "0160a157",
   "metadata": {},
   "source": [
    "In this task, we observe 6 different levels of parental education to determine if there is a significant impact on students' mean reading score. The dataset obtained from kaggle groups individuals on multiple features. For the parental education feature the 5 populations are based of highest parental education completed as follows: some high school, high school, some college, associates degree, and bachelors degree, masters degree. \n",
    "\n",
    "For this test, ANOVA will be used as it allows for the comparison of more than 2 population means. Anova compares means and variances between and within population groups to determine if the differnce of means is significant. An Anova one-way test is appropriate since our groups are of the same category. Assumptions of data analyzed with anova are normality, equal variances between populations, and independence of groups from one enother. If these assumptions are violates, the test results are unrelaible. "
   ]
  },
  {
   "cell_type": "code",
   "execution_count": 23,
   "id": "d16808b6",
   "metadata": {},
   "outputs": [
    {
     "data": {
      "text/html": [
       "<div>\n",
       "<style scoped>\n",
       "    .dataframe tbody tr th:only-of-type {\n",
       "        vertical-align: middle;\n",
       "    }\n",
       "\n",
       "    .dataframe tbody tr th {\n",
       "        vertical-align: top;\n",
       "    }\n",
       "\n",
       "    .dataframe thead th {\n",
       "        text-align: right;\n",
       "    }\n",
       "</style>\n",
       "<table border=\"1\" class=\"dataframe\">\n",
       "  <thead>\n",
       "    <tr style=\"text-align: right;\">\n",
       "      <th></th>\n",
       "      <th>gender</th>\n",
       "      <th>race/ethnicity</th>\n",
       "      <th>parental level of education</th>\n",
       "      <th>lunch</th>\n",
       "      <th>test preparation course</th>\n",
       "      <th>math score</th>\n",
       "      <th>reading score</th>\n",
       "      <th>writing score</th>\n",
       "    </tr>\n",
       "  </thead>\n",
       "  <tbody>\n",
       "    <tr>\n",
       "      <th>0</th>\n",
       "      <td>female</td>\n",
       "      <td>group B</td>\n",
       "      <td>bachelor's degree</td>\n",
       "      <td>standard</td>\n",
       "      <td>none</td>\n",
       "      <td>72</td>\n",
       "      <td>72</td>\n",
       "      <td>74</td>\n",
       "    </tr>\n",
       "    <tr>\n",
       "      <th>1</th>\n",
       "      <td>female</td>\n",
       "      <td>group C</td>\n",
       "      <td>some college</td>\n",
       "      <td>standard</td>\n",
       "      <td>completed</td>\n",
       "      <td>69</td>\n",
       "      <td>90</td>\n",
       "      <td>88</td>\n",
       "    </tr>\n",
       "    <tr>\n",
       "      <th>2</th>\n",
       "      <td>female</td>\n",
       "      <td>group B</td>\n",
       "      <td>master's degree</td>\n",
       "      <td>standard</td>\n",
       "      <td>none</td>\n",
       "      <td>90</td>\n",
       "      <td>95</td>\n",
       "      <td>93</td>\n",
       "    </tr>\n",
       "    <tr>\n",
       "      <th>3</th>\n",
       "      <td>male</td>\n",
       "      <td>group A</td>\n",
       "      <td>associate's degree</td>\n",
       "      <td>free/reduced</td>\n",
       "      <td>none</td>\n",
       "      <td>47</td>\n",
       "      <td>57</td>\n",
       "      <td>44</td>\n",
       "    </tr>\n",
       "    <tr>\n",
       "      <th>4</th>\n",
       "      <td>male</td>\n",
       "      <td>group C</td>\n",
       "      <td>some college</td>\n",
       "      <td>standard</td>\n",
       "      <td>none</td>\n",
       "      <td>76</td>\n",
       "      <td>78</td>\n",
       "      <td>75</td>\n",
       "    </tr>\n",
       "  </tbody>\n",
       "</table>\n",
       "</div>"
      ],
      "text/plain": [
       "   gender race/ethnicity parental level of education         lunch  \\\n",
       "0  female        group B           bachelor's degree      standard   \n",
       "1  female        group C                some college      standard   \n",
       "2  female        group B             master's degree      standard   \n",
       "3    male        group A          associate's degree  free/reduced   \n",
       "4    male        group C                some college      standard   \n",
       "\n",
       "  test preparation course  math score  reading score  writing score  \n",
       "0                    none          72             72             74  \n",
       "1               completed          69             90             88  \n",
       "2                    none          90             95             93  \n",
       "3                    none          47             57             44  \n",
       "4                    none          76             78             75  "
      ]
     },
     "execution_count": 23,
     "metadata": {},
     "output_type": "execute_result"
    }
   ],
   "source": [
    "df2 = pd.read_csv('StudentsPerformance.csv')\n",
    "df2.head()"
   ]
  },
  {
   "cell_type": "code",
   "execution_count": 24,
   "id": "848f8dbc",
   "metadata": {},
   "outputs": [
    {
     "name": "stdout",
     "output_type": "stream",
     "text": [
      "<class 'pandas.core.frame.DataFrame'>\n",
      "RangeIndex: 1000 entries, 0 to 999\n",
      "Data columns (total 8 columns):\n",
      " #   Column                       Non-Null Count  Dtype \n",
      "---  ------                       --------------  ----- \n",
      " 0   gender                       1000 non-null   object\n",
      " 1   race/ethnicity               1000 non-null   object\n",
      " 2   parental level of education  1000 non-null   object\n",
      " 3   lunch                        1000 non-null   object\n",
      " 4   test preparation course      1000 non-null   object\n",
      " 5   math score                   1000 non-null   int64 \n",
      " 6   reading score                1000 non-null   int64 \n",
      " 7   writing score                1000 non-null   int64 \n",
      "dtypes: int64(3), object(5)\n",
      "memory usage: 62.6+ KB\n"
     ]
    }
   ],
   "source": [
    "#use info to check data types and non-null counts\n",
    "df2.info()"
   ]
  },
  {
   "cell_type": "code",
   "execution_count": 28,
   "id": "b249fcb4",
   "metadata": {},
   "outputs": [
    {
     "data": {
      "text/plain": [
       "gender                         False\n",
       "race/ethnicity                 False\n",
       "parental level of education    False\n",
       "lunch                          False\n",
       "test preparation course        False\n",
       "math score                     False\n",
       "reading score                  False\n",
       "writing score                  False\n",
       "dtype: bool"
      ]
     },
     "execution_count": 28,
     "metadata": {},
     "output_type": "execute_result"
    }
   ],
   "source": [
    "#check for null values\n",
    "df2.count().isna()"
   ]
  },
  {
   "cell_type": "code",
   "execution_count": 43,
   "id": "0ac258e0",
   "metadata": {},
   "outputs": [],
   "source": [
    "#rename columns of interest\n",
    "df2.rename(columns={'reading score': 'reading_score', 'parental level of education': 'parent_ed'}, inplace=True)"
   ]
  },
  {
   "cell_type": "code",
   "execution_count": 44,
   "id": "4c58f469",
   "metadata": {},
   "outputs": [
    {
     "data": {
      "text/plain": [
       "array([\"bachelor's degree\", 'some college', \"master's degree\",\n",
       "       \"associate's degree\", 'high school', 'some high school'],\n",
       "      dtype=object)"
      ]
     },
     "execution_count": 44,
     "metadata": {},
     "output_type": "execute_result"
    }
   ],
   "source": [
    "#find names for parental education\n",
    "df2['parent_ed'].unique()"
   ]
  },
  {
   "cell_type": "code",
   "execution_count": 46,
   "id": "657d3df3",
   "metadata": {},
   "outputs": [
    {
     "name": "stdout",
     "output_type": "stream",
     "text": [
      "\n",
      "\n"
     ]
    },
    {
     "data": {
      "text/html": [
       "<div>\n",
       "<style scoped>\n",
       "    .dataframe tbody tr th:only-of-type {\n",
       "        vertical-align: middle;\n",
       "    }\n",
       "\n",
       "    .dataframe tbody tr th {\n",
       "        vertical-align: top;\n",
       "    }\n",
       "\n",
       "    .dataframe thead th {\n",
       "        text-align: right;\n",
       "    }\n",
       "</style>\n",
       "<table border=\"1\" class=\"dataframe\">\n",
       "  <thead>\n",
       "    <tr style=\"text-align: right;\">\n",
       "      <th></th>\n",
       "      <th>Variable</th>\n",
       "      <th>N</th>\n",
       "      <th>Mean</th>\n",
       "      <th>SD</th>\n",
       "      <th>SE</th>\n",
       "      <th>95% Conf.</th>\n",
       "      <th>Interval</th>\n",
       "    </tr>\n",
       "  </thead>\n",
       "  <tbody>\n",
       "    <tr>\n",
       "      <th>0</th>\n",
       "      <td>reading_score</td>\n",
       "      <td>1000.0</td>\n",
       "      <td>69.169</td>\n",
       "      <td>14.6002</td>\n",
       "      <td>0.4617</td>\n",
       "      <td>68.263</td>\n",
       "      <td>70.075</td>\n",
       "    </tr>\n",
       "  </tbody>\n",
       "</table>\n",
       "</div>"
      ],
      "text/plain": [
       "        Variable       N    Mean       SD      SE  95% Conf.  Interval\n",
       "0  reading_score  1000.0  69.169  14.6002  0.4617     68.263    70.075"
      ]
     },
     "execution_count": 46,
     "metadata": {},
     "output_type": "execute_result"
    }
   ],
   "source": [
    "#get summary statistics of overall reading score mean\n",
    "rp.summary_cont(df2['reading_score'])"
   ]
  },
  {
   "cell_type": "code",
   "execution_count": 68,
   "id": "09c9c2ba",
   "metadata": {},
   "outputs": [
    {
     "data": {
      "image/png": "[encoded data removed]",
      "text/plain": [
       "<Figure size 1000x600 with 1 Axes>"
      ]
     },
     "metadata": {},
     "output_type": "display_data"
    }
   ],
   "source": [
    "#plt means of groups\n",
    "ax = plt.figure(figsize=(10,6))\n",
    "ax = sns.barplot(data=df2, x='parent_ed', y='reading_score', hue='parent_ed',\n",
    "                 estimator = 'mean', errorbar=None, order = df2.sort_values('reading_score').parent_ed)\n",
    "ax.set_xlabel('Parent Highest Level of Education')\n",
    "ax.set_ylabel('Reading Score')\n",
    "ax.set_title('Mean Reading Scores for Each Parental Education Level')\n",
    "for i in ax.containers:\n",
    "    ax.bar_label(i,)"
   ]
  },
  {
   "cell_type": "markdown",
   "id": "23e2728a",
   "metadata": {},
   "source": [
    "From the bar plot above of means by parental education level, student who had parents with a college degree competed out perfomed the overall mean, especially those who had a parent with a masters degree. Those who had a parent with some college, had an overall mean consistent with the overall mean of the whole population. Students who had parent with some highschool, or all highschool completed had a lower than average reading score. We can investigate the significance of these mean differences with ANOVA. "
   ]
  },
  {
   "cell_type": "code",
   "execution_count": 47,
   "id": "a73a4268",
   "metadata": {},
   "outputs": [
    {
     "data": {
      "text/html": [
       "<div>\n",
       "<style scoped>\n",
       "    .dataframe tbody tr th:only-of-type {\n",
       "        vertical-align: middle;\n",
       "    }\n",
       "\n",
       "    .dataframe tbody tr th {\n",
       "        vertical-align: top;\n",
       "    }\n",
       "\n",
       "    .dataframe thead th {\n",
       "        text-align: right;\n",
       "    }\n",
       "</style>\n",
       "<table border=\"1\" class=\"dataframe\">\n",
       "  <thead>\n",
       "    <tr style=\"text-align: right;\">\n",
       "      <th></th>\n",
       "      <th>sum_sq</th>\n",
       "      <th>df</th>\n",
       "      <th>F</th>\n",
       "      <th>PR(&gt;F)</th>\n",
       "    </tr>\n",
       "  </thead>\n",
       "  <tbody>\n",
       "    <tr>\n",
       "      <th>C(parent_ed)</th>\n",
       "      <td>9506.493193</td>\n",
       "      <td>5.0</td>\n",
       "      <td>9.2894</td>\n",
       "      <td>1.168246e-08</td>\n",
       "    </tr>\n",
       "    <tr>\n",
       "      <th>Residual</th>\n",
       "      <td>203445.945807</td>\n",
       "      <td>994.0</td>\n",
       "      <td>NaN</td>\n",
       "      <td>NaN</td>\n",
       "    </tr>\n",
       "  </tbody>\n",
       "</table>\n",
       "</div>"
      ],
      "text/plain": [
       "                     sum_sq     df       F        PR(>F)\n",
       "C(parent_ed)    9506.493193    5.0  9.2894  1.168246e-08\n",
       "Residual      203445.945807  994.0     NaN           NaN"
      ]
     },
     "execution_count": 47,
     "metadata": {},
     "output_type": "execute_result"
    }
   ],
   "source": [
    "#use stats model to create a model that we can check assumptions on\n",
    "model = ols(\"reading_score ~ C(parent_ed)\", data=df2).fit()\n",
    "aov_table = sm.stats.anova_lm(model, typ=2)\n",
    "aov_table"
   ]
  },
  {
   "cell_type": "code",
   "execution_count": 140,
   "id": "399c901c",
   "metadata": {},
   "outputs": [
    {
     "data": {
      "text/html": [
       "<table class=\"simpletable\">\n",
       "<caption>OLS Regression Results</caption>\n",
       "<tr>\n",
       "  <th>Dep. Variable:</th>      <td>reading_score</td>  <th>  R-squared:         </th> <td>   0.045</td>\n",
       "</tr>\n",
       "<tr>\n",
       "  <th>Model:</th>                   <td>OLS</td>       <th>  Adj. R-squared:    </th> <td>   0.040</td>\n",
       "</tr>\n",
       "<tr>\n",
       "  <th>Method:</th>             <td>Least Squares</td>  <th>  F-statistic:       </th> <td>   9.289</td>\n",
       "</tr>\n",
       "<tr>\n",
       "  <th>Date:</th>             <td>Wed, 27 Mar 2024</td> <th>  Prob (F-statistic):</th> <td>1.17e-08</td>\n",
       "</tr>\n",
       "<tr>\n",
       "  <th>Time:</th>                 <td>21:36:30</td>     <th>  Log-Likelihood:    </th> <td> -4076.6</td>\n",
       "</tr>\n",
       "<tr>\n",
       "  <th>No. Observations:</th>      <td>  1000</td>      <th>  AIC:               </th> <td>   8165.</td>\n",
       "</tr>\n",
       "<tr>\n",
       "  <th>Df Residuals:</th>          <td>   994</td>      <th>  BIC:               </th> <td>   8195.</td>\n",
       "</tr>\n",
       "<tr>\n",
       "  <th>Df Model:</th>              <td>     5</td>      <th>                     </th>     <td> </td>   \n",
       "</tr>\n",
       "<tr>\n",
       "  <th>Covariance Type:</th>      <td>nonrobust</td>    <th>                     </th>     <td> </td>   \n",
       "</tr>\n",
       "</table>\n",
       "<table class=\"simpletable\">\n",
       "<tr>\n",
       "                  <td></td>                     <th>coef</th>     <th>std err</th>      <th>t</th>      <th>P>|t|</th>  <th>[0.025</th>    <th>0.975]</th>  \n",
       "</tr>\n",
       "<tr>\n",
       "  <th>Intercept</th>                         <td>   70.9279</td> <td>    0.960</td> <td>   73.869</td> <td> 0.000</td> <td>   69.044</td> <td>   72.812</td>\n",
       "</tr>\n",
       "<tr>\n",
       "  <th>C(parent_ed)[T.bachelor's degree]</th> <td>    2.0721</td> <td>    1.630</td> <td>    1.271</td> <td> 0.204</td> <td>   -1.126</td> <td>    5.270</td>\n",
       "</tr>\n",
       "<tr>\n",
       "  <th>C(parent_ed)[T.high school]</th>       <td>   -6.2238</td> <td>    1.402</td> <td>   -4.439</td> <td> 0.000</td> <td>   -8.975</td> <td>   -3.472</td>\n",
       "</tr>\n",
       "<tr>\n",
       "  <th>C(parent_ed)[T.master's degree]</th>   <td>    4.4450</td> <td>    2.095</td> <td>    2.121</td> <td> 0.034</td> <td>    0.333</td> <td>    8.557</td>\n",
       "</tr>\n",
       "<tr>\n",
       "  <th>C(parent_ed)[T.some college]</th>      <td>   -1.4678</td> <td>    1.352</td> <td>   -1.086</td> <td> 0.278</td> <td>   -4.121</td> <td>    1.185</td>\n",
       "</tr>\n",
       "<tr>\n",
       "  <th>C(parent_ed)[T.some high school]</th>  <td>   -3.9894</td> <td>    1.437</td> <td>   -2.776</td> <td> 0.006</td> <td>   -6.810</td> <td>   -1.169</td>\n",
       "</tr>\n",
       "</table>\n",
       "<table class=\"simpletable\">\n",
       "<tr>\n",
       "  <th>Omnibus:</th>       <td>12.012</td> <th>  Durbin-Watson:     </th> <td>   1.993</td>\n",
       "</tr>\n",
       "<tr>\n",
       "  <th>Prob(Omnibus):</th> <td> 0.002</td> <th>  Jarque-Bera (JB):  </th> <td>  12.173</td>\n",
       "</tr>\n",
       "<tr>\n",
       "  <th>Skew:</th>          <td>-0.256</td> <th>  Prob(JB):          </th> <td> 0.00227</td>\n",
       "</tr>\n",
       "<tr>\n",
       "  <th>Kurtosis:</th>      <td> 2.825</td> <th>  Cond. No.          </th> <td>    6.33</td>\n",
       "</tr>\n",
       "</table><br/><br/>Notes:<br/>[1] Standard Errors assume that the covariance matrix of the errors is correctly specified."
      ],
      "text/latex": [
       "\\begin{center}\n",
       "\\begin{tabular}{lclc}\n",
       "\\toprule\n",
       "\\textbf{Dep. Variable:}                     &  reading\\_score  & \\textbf{  R-squared:         } &     0.045   \\\\\n",
       "\\textbf{Model:}                             &       OLS        & \\textbf{  Adj. R-squared:    } &     0.040   \\\\\n",
       "\\textbf{Method:}                            &  Least Squares   & \\textbf{  F-statistic:       } &     9.289   \\\\\n",
       "\\textbf{Date:}                              & Wed, 27 Mar 2024 & \\textbf{  Prob (F-statistic):} &  1.17e-08   \\\\\n",
       "\\textbf{Time:}                              &     21:36:30     & \\textbf{  Log-Likelihood:    } &   -4076.6   \\\\\n",
       "\\textbf{No. Observations:}                  &        1000      & \\textbf{  AIC:               } &     8165.   \\\\\n",
       "\\textbf{Df Residuals:}                      &         994      & \\textbf{  BIC:               } &     8195.   \\\\\n",
       "\\textbf{Df Model:}                          &           5      & \\textbf{                     } &             \\\\\n",
       "\\textbf{Covariance Type:}                   &    nonrobust     & \\textbf{                     } &             \\\\\n",
       "\\bottomrule\n",
       "\\end{tabular}\n",
       "\\begin{tabular}{lcccccc}\n",
       "                                            & \\textbf{coef} & \\textbf{std err} & \\textbf{t} & \\textbf{P$> |$t$|$} & \\textbf{[0.025} & \\textbf{0.975]}  \\\\\n",
       "\\midrule\n",
       "\\textbf{Intercept}                          &      70.9279  &        0.960     &    73.869  &         0.000        &       69.044    &       72.812     \\\\\n",
       "\\textbf{C(parent\\_ed)[T.bachelor's degree]} &       2.0721  &        1.630     &     1.271  &         0.204        &       -1.126    &        5.270     \\\\\n",
       "\\textbf{C(parent\\_ed)[T.high school]}       &      -6.2238  &        1.402     &    -4.439  &         0.000        &       -8.975    &       -3.472     \\\\\n",
       "\\textbf{C(parent\\_ed)[T.master's degree]}   &       4.4450  &        2.095     &     2.121  &         0.034        &        0.333    &        8.557     \\\\\n",
       "\\textbf{C(parent\\_ed)[T.some college]}      &      -1.4678  &        1.352     &    -1.086  &         0.278        &       -4.121    &        1.185     \\\\\n",
       "\\textbf{C(parent\\_ed)[T.some high school]}  &      -3.9894  &        1.437     &    -2.776  &         0.006        &       -6.810    &       -1.169     \\\\\n",
       "\\bottomrule\n",
       "\\end{tabular}\n",
       "\\begin{tabular}{lclc}\n",
       "\\textbf{Omnibus:}       & 12.012 & \\textbf{  Durbin-Watson:     } &    1.993  \\\\\n",
       "\\textbf{Prob(Omnibus):} &  0.002 & \\textbf{  Jarque-Bera (JB):  } &   12.173  \\\\\n",
       "\\textbf{Skew:}          & -0.256 & \\textbf{  Prob(JB):          } &  0.00227  \\\\\n",
       "\\textbf{Kurtosis:}      &  2.825 & \\textbf{  Cond. No.          } &     6.33  \\\\\n",
       "\\bottomrule\n",
       "\\end{tabular}\n",
       "%\\caption{OLS Regression Results}\n",
       "\\end{center}\n",
       "\n",
       "Notes: \\newline\n",
       " [1] Standard Errors assume that the covariance matrix of the errors is correctly specified."
      ],
      "text/plain": [
       "<class 'statsmodels.iolib.summary.Summary'>\n",
       "\"\"\"\n",
       "                            OLS Regression Results                            \n",
       "==============================================================================\n",
       "Dep. Variable:          reading_score   R-squared:                       0.045\n",
       "Model:                            OLS   Adj. R-squared:                  0.040\n",
       "Method:                 Least Squares   F-statistic:                     9.289\n",
       "Date:                Wed, 27 Mar 2024   Prob (F-statistic):           1.17e-08\n",
       "Time:                        21:36:30   Log-Likelihood:                -4076.6\n",
       "No. Observations:                1000   AIC:                             8165.\n",
       "Df Residuals:                     994   BIC:                             8195.\n",
       "Df Model:                           5                                         \n",
       "Covariance Type:            nonrobust                                         \n",
       "=====================================================================================================\n",
       "                                        coef    std err          t      P>|t|      [0.025      0.975]\n",
       "-----------------------------------------------------------------------------------------------------\n",
       "Intercept                            70.9279      0.960     73.869      0.000      69.044      72.812\n",
       "C(parent_ed)[T.bachelor's degree]     2.0721      1.630      1.271      0.204      -1.126       5.270\n",
       "C(parent_ed)[T.high school]          -6.2238      1.402     -4.439      0.000      -8.975      -3.472\n",
       "C(parent_ed)[T.master's degree]       4.4450      2.095      2.121      0.034       0.333       8.557\n",
       "C(parent_ed)[T.some college]         -1.4678      1.352     -1.086      0.278      -4.121       1.185\n",
       "C(parent_ed)[T.some high school]     -3.9894      1.437     -2.776      0.006      -6.810      -1.169\n",
       "==============================================================================\n",
       "Omnibus:                       12.012   Durbin-Watson:                   1.993\n",
       "Prob(Omnibus):                  0.002   Jarque-Bera (JB):               12.173\n",
       "Skew:                          -0.256   Prob(JB):                      0.00227\n",
       "Kurtosis:                       2.825   Cond. No.                         6.33\n",
       "==============================================================================\n",
       "\n",
       "Notes:\n",
       "[1] Standard Errors assume that the covariance matrix of the errors is correctly specified.\n",
       "\"\"\""
      ]
     },
     "execution_count": 140,
     "metadata": {},
     "output_type": "execute_result"
    }
   ],
   "source": [
    "model.summary()"
   ]
  },
  {
   "cell_type": "markdown",
   "id": "dfc3afa1",
   "metadata": {},
   "source": [
    "The F-statistic shows that there is a significant difference between reading score means at the various education levels, along with the very low p-value (PR>(F)). The F-statistic shows that the variance between groups is 9.2 times the variance within groups."
   ]
  },
  {
   "cell_type": "code",
   "execution_count": 48,
   "id": "f22223d1",
   "metadata": {},
   "outputs": [
    {
     "data": {
      "text/plain": [
       "ShapiroResult(statistic=0.9933309555053711, pvalue=0.0001872272987384349)"
      ]
     },
     "execution_count": 48,
     "metadata": {},
     "output_type": "execute_result"
    }
   ],
   "source": [
    "#check normality assumption\n",
    "stats.shapiro(model.resid)"
   ]
  },
  {
   "cell_type": "markdown",
   "id": "1b3d88f5",
   "metadata": {},
   "source": [
    "Here the p-value is lightly below the threshold to reject the null hypothesis that the data follows a normal ditribution. We can use a QQ plot to further investigate."
   ]
  },
  {
   "cell_type": "code",
   "execution_count": 73,
   "id": "ae8da075",
   "metadata": {},
   "outputs": [
    {
     "data": {
      "image/png": "[encoded data removed]",
      "text/plain": [
       "<Figure size 640x480 with 1 Axes>"
      ]
     },
     "metadata": {},
     "output_type": "display_data"
    }
   ],
   "source": [
    "normality_plot, stat = stats.probplot(model.resid, plot= plt, rvalue= True)\n",
    "plt.show()"
   ]
  },
  {
   "cell_type": "markdown",
   "id": "7f59075c",
   "metadata": {},
   "source": [
    "While the non-conformance of residuals in our dataset to a normal distribution is minor, we may want to validate our hypothesis with a test that does not have normality as an assumption."
   ]
  },
  {
   "cell_type": "code",
   "execution_count": 75,
   "id": "ea1d9d9c",
   "metadata": {},
   "outputs": [],
   "source": [
    "#store independent populations reading scores for later use\n",
    "some_hs = df2['reading_score'].loc[df2['parent_ed'] == 'some high school']\n",
    "hs = df2['reading_score'].loc[df2['parent_ed'] == 'high school']\n",
    "some_col = df2['reading_score'].loc[df2['parent_ed'] == 'some college']\n",
    "associate = df2['reading_score'].loc[df2['parent_ed'] == \"associate's degree\"]\n",
    "bachelor = df2['reading_score'].loc[df2['parent_ed'] == \"bachelor's degree\"]\n",
    "master = df2['reading_score'].loc[df2['parent_ed'] == \"master's degree\"]"
   ]
  },
  {
   "cell_type": "code",
   "execution_count": 76,
   "id": "d144bfd2",
   "metadata": {},
   "outputs": [
    {
     "data": {
      "text/plain": [
       "KruskalResult(statistic=38.66488816395158, pvalue=2.773717256928065e-07)"
      ]
     },
     "execution_count": 76,
     "metadata": {},
     "output_type": "execute_result"
    }
   ],
   "source": [
    "#use kruskal anova testing on the data\n",
    "stats.kruskal(some_hs, hs, some_col, associate, bachelor, master)"
   ]
  },
  {
   "cell_type": "markdown",
   "id": "44fc9769",
   "metadata": {},
   "source": [
    "The Kruskal-Wallis test is another type of one way ANOVA testing that is not parametric. WIth a significant p-value, we validate that there is a statistical difference between groups of highest parent level of education. "
   ]
  },
  {
   "cell_type": "code",
   "execution_count": 74,
   "id": "f97e82c5",
   "metadata": {},
   "outputs": [
    {
     "data": {
      "text/plain": [
       "LeveneResult(statistic=0.40769671798537177, pvalue=0.8436575342664048)"
      ]
     },
     "execution_count": 74,
     "metadata": {},
     "output_type": "execute_result"
    }
   ],
   "source": [
    "# Investigate equal variance assumption\n",
    "#use levene method to investigate\n",
    "stats.levene(some_hs, hs, some_col, associate, bachelor, master)"
   ]
  },
  {
   "cell_type": "markdown",
   "id": "d0835202",
   "metadata": {},
   "source": [
    "The Levene score has a non-significant p-value, which means our data follows the null hypothesis that there is not a statistically significant difference between variances. \n",
    "There is no need to test independence of values, since this is validated in our students only belonging to one group of parental education."
   ]
  },
  {
   "cell_type": "markdown",
   "id": "9d92900d",
   "metadata": {},
   "source": [
    "__Task 3: Variance Comparison Analysis__\n",
    "\n",
    "Find a suitable dataset with two or more populations with variances to compare from a reliable source.\n",
    "Continuing in the same Jupyter notebook, write a code to import the dataset and perform a hypothesis test for variance comparison.\n",
    "Explain the problem, data, research question, and the appropriate statistical test that you would use to address the research question.\n",
    "Discuss the assumptions underlying the hypothesis test, potential consequences of violating these assumptions, and possible remedies.\n",
    "Propose a Python tool to assist with the interpretation of the results of the statistical test and visualizations.\n",
    "Record a 3- to 4-minute video explaining the analysis, results, and interpretation of the hypothesis test."
   ]
  },
  {
   "cell_type": "markdown",
   "id": "bee4f9cf",
   "metadata": {},
   "source": [
    "This is an excercise dataset from kaggle with various features for over 3000 participants. We can use statistical analysis in python to answer the question how does various BMI ranges and Age play a role calories burned. \n",
    "\n",
    "Since there are multiple categories to measure in our problem, we can use a two-way anova test to compare variances between populations. The assumptions are that the data is independent, normalized, and has equal variance. "
   ]
  },
  {
   "cell_type": "code",
   "execution_count": 108,
   "id": "9fd330e2",
   "metadata": {},
   "outputs": [
    {
     "data": {
      "text/html": [
       "<div>\n",
       "<style scoped>\n",
       "    .dataframe tbody tr th:only-of-type {\n",
       "        vertical-align: middle;\n",
       "    }\n",
       "\n",
       "    .dataframe tbody tr th {\n",
       "        vertical-align: top;\n",
       "    }\n",
       "\n",
       "    .dataframe thead th {\n",
       "        text-align: right;\n",
       "    }\n",
       "</style>\n",
       "<table border=\"1\" class=\"dataframe\">\n",
       "  <thead>\n",
       "    <tr style=\"text-align: right;\">\n",
       "      <th></th>\n",
       "      <th>ID</th>\n",
       "      <th>Exercise</th>\n",
       "      <th>Calories Burn</th>\n",
       "      <th>Dream Weight</th>\n",
       "      <th>Actual Weight</th>\n",
       "      <th>Age</th>\n",
       "      <th>Gender</th>\n",
       "      <th>Duration</th>\n",
       "      <th>Heart Rate</th>\n",
       "      <th>BMI</th>\n",
       "      <th>Weather Conditions</th>\n",
       "      <th>Exercise Intensity</th>\n",
       "    </tr>\n",
       "  </thead>\n",
       "  <tbody>\n",
       "    <tr>\n",
       "      <th>0</th>\n",
       "      <td>1</td>\n",
       "      <td>Exercise 2</td>\n",
       "      <td>286.959851</td>\n",
       "      <td>91.892531</td>\n",
       "      <td>96.301115</td>\n",
       "      <td>45</td>\n",
       "      <td>Male</td>\n",
       "      <td>37</td>\n",
       "      <td>170</td>\n",
       "      <td>29.426275</td>\n",
       "      <td>Rainy</td>\n",
       "      <td>5</td>\n",
       "    </tr>\n",
       "    <tr>\n",
       "      <th>1</th>\n",
       "      <td>2</td>\n",
       "      <td>Exercise 7</td>\n",
       "      <td>343.453036</td>\n",
       "      <td>64.165097</td>\n",
       "      <td>61.104668</td>\n",
       "      <td>25</td>\n",
       "      <td>Male</td>\n",
       "      <td>43</td>\n",
       "      <td>142</td>\n",
       "      <td>21.286346</td>\n",
       "      <td>Rainy</td>\n",
       "      <td>5</td>\n",
       "    </tr>\n",
       "    <tr>\n",
       "      <th>2</th>\n",
       "      <td>3</td>\n",
       "      <td>Exercise 4</td>\n",
       "      <td>261.223465</td>\n",
       "      <td>70.846224</td>\n",
       "      <td>71.766724</td>\n",
       "      <td>20</td>\n",
       "      <td>Male</td>\n",
       "      <td>20</td>\n",
       "      <td>148</td>\n",
       "      <td>27.899592</td>\n",
       "      <td>Cloudy</td>\n",
       "      <td>4</td>\n",
       "    </tr>\n",
       "    <tr>\n",
       "      <th>3</th>\n",
       "      <td>4</td>\n",
       "      <td>Exercise 5</td>\n",
       "      <td>127.183858</td>\n",
       "      <td>79.477008</td>\n",
       "      <td>82.984456</td>\n",
       "      <td>33</td>\n",
       "      <td>Male</td>\n",
       "      <td>39</td>\n",
       "      <td>170</td>\n",
       "      <td>33.729552</td>\n",
       "      <td>Sunny</td>\n",
       "      <td>10</td>\n",
       "    </tr>\n",
       "    <tr>\n",
       "      <th>4</th>\n",
       "      <td>5</td>\n",
       "      <td>Exercise 10</td>\n",
       "      <td>416.318374</td>\n",
       "      <td>89.960226</td>\n",
       "      <td>85.643174</td>\n",
       "      <td>29</td>\n",
       "      <td>Female</td>\n",
       "      <td>34</td>\n",
       "      <td>118</td>\n",
       "      <td>23.286113</td>\n",
       "      <td>Cloudy</td>\n",
       "      <td>3</td>\n",
       "    </tr>\n",
       "  </tbody>\n",
       "</table>\n",
       "</div>"
      ],
      "text/plain": [
       "   ID     Exercise  Calories Burn  Dream Weight  Actual Weight  Age  Gender  \\\n",
       "0   1   Exercise 2     286.959851     91.892531      96.301115   45    Male   \n",
       "1   2   Exercise 7     343.453036     64.165097      61.104668   25    Male   \n",
       "2   3   Exercise 4     261.223465     70.846224      71.766724   20    Male   \n",
       "3   4   Exercise 5     127.183858     79.477008      82.984456   33    Male   \n",
       "4   5  Exercise 10     416.318374     89.960226      85.643174   29  Female   \n",
       "\n",
       "   Duration  Heart Rate        BMI Weather Conditions  Exercise Intensity  \n",
       "0        37         170  29.426275              Rainy                   5  \n",
       "1        43         142  21.286346              Rainy                   5  \n",
       "2        20         148  27.899592             Cloudy                   4  \n",
       "3        39         170  33.729552              Sunny                  10  \n",
       "4        34         118  23.286113             Cloudy                   3  "
      ]
     },
     "execution_count": 108,
     "metadata": {},
     "output_type": "execute_result"
    }
   ],
   "source": [
    "df3 = pd.read_csv('exercise_dataset.csv')\n",
    "df3.head()"
   ]
  },
  {
   "cell_type": "code",
   "execution_count": 109,
   "id": "94a67539",
   "metadata": {},
   "outputs": [],
   "source": [
    "#drop erroneous column\n",
    "df3.drop(columns = ['Dream Weight','Weather Conditions'], inplace = True)"
   ]
  },
  {
   "cell_type": "code",
   "execution_count": 110,
   "id": "d7bcd25b",
   "metadata": {},
   "outputs": [
    {
     "name": "stdout",
     "output_type": "stream",
     "text": [
      "<class 'pandas.core.frame.DataFrame'>\n",
      "RangeIndex: 3864 entries, 0 to 3863\n",
      "Data columns (total 10 columns):\n",
      " #   Column              Non-Null Count  Dtype  \n",
      "---  ------              --------------  -----  \n",
      " 0   ID                  3864 non-null   int64  \n",
      " 1   Exercise            3864 non-null   object \n",
      " 2   Calories Burn       3864 non-null   float64\n",
      " 3   Actual Weight       3864 non-null   float64\n",
      " 4   Age                 3864 non-null   int64  \n",
      " 5   Gender              3864 non-null   object \n",
      " 6   Duration            3864 non-null   int64  \n",
      " 7   Heart Rate          3864 non-null   int64  \n",
      " 8   BMI                 3864 non-null   float64\n",
      " 9   Exercise Intensity  3864 non-null   int64  \n",
      "dtypes: float64(3), int64(5), object(2)\n",
      "memory usage: 302.0+ KB\n"
     ]
    }
   ],
   "source": [
    "df3.info()"
   ]
  },
  {
   "cell_type": "code",
   "execution_count": 111,
   "id": "57f7afd6",
   "metadata": {},
   "outputs": [
    {
     "data": {
      "text/html": [
       "<div>\n",
       "<style scoped>\n",
       "    .dataframe tbody tr th:only-of-type {\n",
       "        vertical-align: middle;\n",
       "    }\n",
       "\n",
       "    .dataframe tbody tr th {\n",
       "        vertical-align: top;\n",
       "    }\n",
       "\n",
       "    .dataframe thead th {\n",
       "        text-align: right;\n",
       "    }\n",
       "</style>\n",
       "<table border=\"1\" class=\"dataframe\">\n",
       "  <thead>\n",
       "    <tr style=\"text-align: right;\">\n",
       "      <th></th>\n",
       "      <th>ID</th>\n",
       "      <th>Calories Burn</th>\n",
       "      <th>Actual Weight</th>\n",
       "      <th>Age</th>\n",
       "      <th>Duration</th>\n",
       "      <th>Heart Rate</th>\n",
       "      <th>BMI</th>\n",
       "      <th>Exercise Intensity</th>\n",
       "    </tr>\n",
       "  </thead>\n",
       "  <tbody>\n",
       "    <tr>\n",
       "      <th>count</th>\n",
       "      <td>3864.000000</td>\n",
       "      <td>3864.000000</td>\n",
       "      <td>3864.000000</td>\n",
       "      <td>3864.000000</td>\n",
       "      <td>3864.000000</td>\n",
       "      <td>3864.000000</td>\n",
       "      <td>3864.000000</td>\n",
       "      <td>3864.000000</td>\n",
       "    </tr>\n",
       "    <tr>\n",
       "      <th>mean</th>\n",
       "      <td>1932.500000</td>\n",
       "      <td>301.861806</td>\n",
       "      <td>75.188440</td>\n",
       "      <td>39.621118</td>\n",
       "      <td>40.190994</td>\n",
       "      <td>139.777950</td>\n",
       "      <td>26.801977</td>\n",
       "      <td>5.457298</td>\n",
       "    </tr>\n",
       "    <tr>\n",
       "      <th>std</th>\n",
       "      <td>1115.585048</td>\n",
       "      <td>115.828604</td>\n",
       "      <td>14.845511</td>\n",
       "      <td>12.521721</td>\n",
       "      <td>11.765957</td>\n",
       "      <td>23.447528</td>\n",
       "      <td>4.746745</td>\n",
       "      <td>2.850896</td>\n",
       "    </tr>\n",
       "    <tr>\n",
       "      <th>min</th>\n",
       "      <td>1.000000</td>\n",
       "      <td>100.009403</td>\n",
       "      <td>45.783747</td>\n",
       "      <td>18.000000</td>\n",
       "      <td>20.000000</td>\n",
       "      <td>100.000000</td>\n",
       "      <td>18.500014</td>\n",
       "      <td>1.000000</td>\n",
       "    </tr>\n",
       "    <tr>\n",
       "      <th>25%</th>\n",
       "      <td>966.750000</td>\n",
       "      <td>202.168837</td>\n",
       "      <td>62.476906</td>\n",
       "      <td>29.000000</td>\n",
       "      <td>30.000000</td>\n",
       "      <td>119.000000</td>\n",
       "      <td>22.686774</td>\n",
       "      <td>3.000000</td>\n",
       "    </tr>\n",
       "    <tr>\n",
       "      <th>50%</th>\n",
       "      <td>1932.500000</td>\n",
       "      <td>299.742508</td>\n",
       "      <td>75.544407</td>\n",
       "      <td>40.000000</td>\n",
       "      <td>40.000000</td>\n",
       "      <td>140.000000</td>\n",
       "      <td>26.861656</td>\n",
       "      <td>5.000000</td>\n",
       "    </tr>\n",
       "    <tr>\n",
       "      <th>75%</th>\n",
       "      <td>2898.250000</td>\n",
       "      <td>404.143688</td>\n",
       "      <td>88.105767</td>\n",
       "      <td>51.000000</td>\n",
       "      <td>51.000000</td>\n",
       "      <td>160.000000</td>\n",
       "      <td>30.950380</td>\n",
       "      <td>8.000000</td>\n",
       "    </tr>\n",
       "    <tr>\n",
       "      <th>max</th>\n",
       "      <td>3864.000000</td>\n",
       "      <td>499.859262</td>\n",
       "      <td>104.309600</td>\n",
       "      <td>60.000000</td>\n",
       "      <td>60.000000</td>\n",
       "      <td>180.000000</td>\n",
       "      <td>34.996639</td>\n",
       "      <td>10.000000</td>\n",
       "    </tr>\n",
       "  </tbody>\n",
       "</table>\n",
       "</div>"
      ],
      "text/plain": [
       "                ID  Calories Burn  Actual Weight          Age     Duration  \\\n",
       "count  3864.000000    3864.000000    3864.000000  3864.000000  3864.000000   \n",
       "mean   1932.500000     301.861806      75.188440    39.621118    40.190994   \n",
       "std    1115.585048     115.828604      14.845511    12.521721    11.765957   \n",
       "min       1.000000     100.009403      45.783747    18.000000    20.000000   \n",
       "25%     966.750000     202.168837      62.476906    29.000000    30.000000   \n",
       "50%    1932.500000     299.742508      75.544407    40.000000    40.000000   \n",
       "75%    2898.250000     404.143688      88.105767    51.000000    51.000000   \n",
       "max    3864.000000     499.859262     104.309600    60.000000    60.000000   \n",
       "\n",
       "        Heart Rate          BMI  Exercise Intensity  \n",
       "count  3864.000000  3864.000000         3864.000000  \n",
       "mean    139.777950    26.801977            5.457298  \n",
       "std      23.447528     4.746745            2.850896  \n",
       "min     100.000000    18.500014            1.000000  \n",
       "25%     119.000000    22.686774            3.000000  \n",
       "50%     140.000000    26.861656            5.000000  \n",
       "75%     160.000000    30.950380            8.000000  \n",
       "max     180.000000    34.996639           10.000000  "
      ]
     },
     "execution_count": 111,
     "metadata": {},
     "output_type": "execute_result"
    }
   ],
   "source": [
    "df3.describe()"
   ]
  },
  {
   "cell_type": "code",
   "execution_count": 112,
   "id": "351bad2f",
   "metadata": {},
   "outputs": [],
   "source": [
    "#define and set BMI Range Categories \n",
    "def BMI_range(bmi):\n",
    "    if bmi >= 30:\n",
    "        return 'Obese'\n",
    "    elif bmi >= 25.0:\n",
    "        return 'Overweight'\n",
    "    elif bmi >= 18.5:\n",
    "        return 'Healthy Weight'\n",
    "#create new BMI category    \n",
    "df3['BMI_category'] = df3['BMI'].apply(BMI_range)"
   ]
  },
  {
   "cell_type": "code",
   "execution_count": 114,
   "id": "0b307e1a",
   "metadata": {},
   "outputs": [
    {
     "data": {
      "text/plain": [
       "<AxesSubplot:xlabel='BMI_category', ylabel='Exercise Intensity'>"
      ]
     },
     "execution_count": 114,
     "metadata": {},
     "output_type": "execute_result"
    },
    {
     "data": {
      "image/png": "[encoded data removed]",
      "text/plain": [
       "<Figure size 640x480 with 1 Axes>"
      ]
     },
     "metadata": {},
     "output_type": "display_data"
    }
   ],
   "source": [
    "#investigate calories burned for bmi ranges\n",
    "sns.boxplot(y='Exercise Intensity', x='BMI_category', data=df3, hue='BMI_category')"
   ]
  },
  {
   "cell_type": "code",
   "execution_count": 150,
   "id": "9a13b14b",
   "metadata": {},
   "outputs": [],
   "source": [
    "df3 = df3.rename(columns={'Calories Burn':'calories_burned'})"
   ]
  },
  {
   "cell_type": "code",
   "execution_count": 166,
   "id": "79f8c2c0",
   "metadata": {},
   "outputs": [],
   "source": [
    "#fit model for anova testing\n",
    "model2 = ols(formula = 'calories_burned ~ C(BMI_category) + Age',  \n",
    "             data = df3).fit()"
   ]
  },
  {
   "cell_type": "code",
   "execution_count": 167,
   "id": "40bec17f",
   "metadata": {},
   "outputs": [
    {
     "data": {
      "text/html": [
       "<table class=\"simpletable\">\n",
       "<caption>OLS Regression Results</caption>\n",
       "<tr>\n",
       "  <th>Dep. Variable:</th>     <td>calories_burned</td> <th>  R-squared:         </th> <td>   0.000</td> \n",
       "</tr>\n",
       "<tr>\n",
       "  <th>Model:</th>                   <td>OLS</td>       <th>  Adj. R-squared:    </th> <td>  -0.000</td> \n",
       "</tr>\n",
       "<tr>\n",
       "  <th>Method:</th>             <td>Least Squares</td>  <th>  F-statistic:       </th> <td>  0.4526</td> \n",
       "</tr>\n",
       "<tr>\n",
       "  <th>Date:</th>             <td>Wed, 27 Mar 2024</td> <th>  Prob (F-statistic):</th>  <td> 0.715</td>  \n",
       "</tr>\n",
       "<tr>\n",
       "  <th>Time:</th>                 <td>22:08:47</td>     <th>  Log-Likelihood:    </th> <td> -23844.</td> \n",
       "</tr>\n",
       "<tr>\n",
       "  <th>No. Observations:</th>      <td>  3864</td>      <th>  AIC:               </th> <td>4.770e+04</td>\n",
       "</tr>\n",
       "<tr>\n",
       "  <th>Df Residuals:</th>          <td>  3860</td>      <th>  BIC:               </th> <td>4.772e+04</td>\n",
       "</tr>\n",
       "<tr>\n",
       "  <th>Df Model:</th>              <td>     3</td>      <th>                     </th>     <td> </td>    \n",
       "</tr>\n",
       "<tr>\n",
       "  <th>Covariance Type:</th>      <td>nonrobust</td>    <th>                     </th>     <td> </td>    \n",
       "</tr>\n",
       "</table>\n",
       "<table class=\"simpletable\">\n",
       "<tr>\n",
       "                <td></td>                   <th>coef</th>     <th>std err</th>      <th>t</th>      <th>P>|t|</th>  <th>[0.025</th>    <th>0.975]</th>  \n",
       "</tr>\n",
       "<tr>\n",
       "  <th>Intercept</th>                     <td>  299.6514</td> <td>    6.597</td> <td>   45.421</td> <td> 0.000</td> <td>  286.717</td> <td>  312.586</td>\n",
       "</tr>\n",
       "<tr>\n",
       "  <th>C(BMI_category)[T.Obese]</th>      <td>    3.8704</td> <td>    4.501</td> <td>    0.860</td> <td> 0.390</td> <td>   -4.953</td> <td>   12.694</td>\n",
       "</tr>\n",
       "<tr>\n",
       "  <th>C(BMI_category)[T.Overweight]</th> <td>    4.8709</td> <td>    4.508</td> <td>    1.080</td> <td> 0.280</td> <td>   -3.968</td> <td>   13.710</td>\n",
       "</tr>\n",
       "<tr>\n",
       "  <th>Age</th>                           <td>   -0.0113</td> <td>    0.149</td> <td>   -0.076</td> <td> 0.939</td> <td>   -0.303</td> <td>    0.281</td>\n",
       "</tr>\n",
       "</table>\n",
       "<table class=\"simpletable\">\n",
       "<tr>\n",
       "  <th>Omnibus:</th>       <td>3469.266</td> <th>  Durbin-Watson:     </th> <td>   2.039</td>\n",
       "</tr>\n",
       "<tr>\n",
       "  <th>Prob(Omnibus):</th>  <td> 0.000</td>  <th>  Jarque-Bera (JB):  </th> <td> 234.595</td>\n",
       "</tr>\n",
       "<tr>\n",
       "  <th>Skew:</th>           <td>-0.001</td>  <th>  Prob(JB):          </th> <td>1.14e-51</td>\n",
       "</tr>\n",
       "<tr>\n",
       "  <th>Kurtosis:</th>       <td> 1.793</td>  <th>  Cond. No.          </th> <td>    159.</td>\n",
       "</tr>\n",
       "</table><br/><br/>Notes:<br/>[1] Standard Errors assume that the covariance matrix of the errors is correctly specified."
      ],
      "text/latex": [
       "\\begin{center}\n",
       "\\begin{tabular}{lclc}\n",
       "\\toprule\n",
       "\\textbf{Dep. Variable:}                 & calories\\_burned & \\textbf{  R-squared:         } &     0.000   \\\\\n",
       "\\textbf{Model:}                         &       OLS        & \\textbf{  Adj. R-squared:    } &    -0.000   \\\\\n",
       "\\textbf{Method:}                        &  Least Squares   & \\textbf{  F-statistic:       } &    0.4526   \\\\\n",
       "\\textbf{Date:}                          & Wed, 27 Mar 2024 & \\textbf{  Prob (F-statistic):} &    0.715    \\\\\n",
       "\\textbf{Time:}                          &     22:08:47     & \\textbf{  Log-Likelihood:    } &   -23844.   \\\\\n",
       "\\textbf{No. Observations:}              &        3864      & \\textbf{  AIC:               } & 4.770e+04   \\\\\n",
       "\\textbf{Df Residuals:}                  &        3860      & \\textbf{  BIC:               } & 4.772e+04   \\\\\n",
       "\\textbf{Df Model:}                      &           3      & \\textbf{                     } &             \\\\\n",
       "\\textbf{Covariance Type:}               &    nonrobust     & \\textbf{                     } &             \\\\\n",
       "\\bottomrule\n",
       "\\end{tabular}\n",
       "\\begin{tabular}{lcccccc}\n",
       "                                        & \\textbf{coef} & \\textbf{std err} & \\textbf{t} & \\textbf{P$> |$t$|$} & \\textbf{[0.025} & \\textbf{0.975]}  \\\\\n",
       "\\midrule\n",
       "\\textbf{Intercept}                      &     299.6514  &        6.597     &    45.421  &         0.000        &      286.717    &      312.586     \\\\\n",
       "\\textbf{C(BMI\\_category)[T.Obese]}      &       3.8704  &        4.501     &     0.860  &         0.390        &       -4.953    &       12.694     \\\\\n",
       "\\textbf{C(BMI\\_category)[T.Overweight]} &       4.8709  &        4.508     &     1.080  &         0.280        &       -3.968    &       13.710     \\\\\n",
       "\\textbf{Age}                            &      -0.0113  &        0.149     &    -0.076  &         0.939        &       -0.303    &        0.281     \\\\\n",
       "\\bottomrule\n",
       "\\end{tabular}\n",
       "\\begin{tabular}{lclc}\n",
       "\\textbf{Omnibus:}       & 3469.266 & \\textbf{  Durbin-Watson:     } &    2.039  \\\\\n",
       "\\textbf{Prob(Omnibus):} &   0.000  & \\textbf{  Jarque-Bera (JB):  } &  234.595  \\\\\n",
       "\\textbf{Skew:}          &  -0.001  & \\textbf{  Prob(JB):          } & 1.14e-51  \\\\\n",
       "\\textbf{Kurtosis:}      &   1.793  & \\textbf{  Cond. No.          } &     159.  \\\\\n",
       "\\bottomrule\n",
       "\\end{tabular}\n",
       "%\\caption{OLS Regression Results}\n",
       "\\end{center}\n",
       "\n",
       "Notes: \\newline\n",
       " [1] Standard Errors assume that the covariance matrix of the errors is correctly specified."
      ],
      "text/plain": [
       "<class 'statsmodels.iolib.summary.Summary'>\n",
       "\"\"\"\n",
       "                            OLS Regression Results                            \n",
       "==============================================================================\n",
       "Dep. Variable:        calories_burned   R-squared:                       0.000\n",
       "Model:                            OLS   Adj. R-squared:                 -0.000\n",
       "Method:                 Least Squares   F-statistic:                    0.4526\n",
       "Date:                Wed, 27 Mar 2024   Prob (F-statistic):              0.715\n",
       "Time:                        22:08:47   Log-Likelihood:                -23844.\n",
       "No. Observations:                3864   AIC:                         4.770e+04\n",
       "Df Residuals:                    3860   BIC:                         4.772e+04\n",
       "Df Model:                           3                                         \n",
       "Covariance Type:            nonrobust                                         \n",
       "=================================================================================================\n",
       "                                    coef    std err          t      P>|t|      [0.025      0.975]\n",
       "-------------------------------------------------------------------------------------------------\n",
       "Intercept                       299.6514      6.597     45.421      0.000     286.717     312.586\n",
       "C(BMI_category)[T.Obese]          3.8704      4.501      0.860      0.390      -4.953      12.694\n",
       "C(BMI_category)[T.Overweight]     4.8709      4.508      1.080      0.280      -3.968      13.710\n",
       "Age                              -0.0113      0.149     -0.076      0.939      -0.303       0.281\n",
       "==============================================================================\n",
       "Omnibus:                     3469.266   Durbin-Watson:                   2.039\n",
       "Prob(Omnibus):                  0.000   Jarque-Bera (JB):              234.595\n",
       "Skew:                          -0.001   Prob(JB):                     1.14e-51\n",
       "Kurtosis:                       1.793   Cond. No.                         159.\n",
       "==============================================================================\n",
       "\n",
       "Notes:\n",
       "[1] Standard Errors assume that the covariance matrix of the errors is correctly specified.\n",
       "\"\"\""
      ]
     },
     "execution_count": 167,
     "metadata": {},
     "output_type": "execute_result"
    }
   ],
   "source": [
    "model2.summary()"
   ]
  },
  {
   "cell_type": "code",
   "execution_count": 170,
   "id": "20d617d6",
   "metadata": {},
   "outputs": [
    {
     "data": {
      "text/html": [
       "<div>\n",
       "<style scoped>\n",
       "    .dataframe tbody tr th:only-of-type {\n",
       "        vertical-align: middle;\n",
       "    }\n",
       "\n",
       "    .dataframe tbody tr th {\n",
       "        vertical-align: top;\n",
       "    }\n",
       "\n",
       "    .dataframe thead th {\n",
       "        text-align: right;\n",
       "    }\n",
       "</style>\n",
       "<table border=\"1\" class=\"dataframe\">\n",
       "  <thead>\n",
       "    <tr style=\"text-align: right;\">\n",
       "      <th></th>\n",
       "      <th>sum_sq</th>\n",
       "      <th>df</th>\n",
       "      <th>F</th>\n",
       "      <th>PR(&gt;F)</th>\n",
       "    </tr>\n",
       "  </thead>\n",
       "  <tbody>\n",
       "    <tr>\n",
       "      <th>C(BMI_category)</th>\n",
       "      <td>1.816070e+04</td>\n",
       "      <td>2.0</td>\n",
       "      <td>0.676529</td>\n",
       "      <td>0.508439</td>\n",
       "    </tr>\n",
       "    <tr>\n",
       "      <th>Age</th>\n",
       "      <td>7.742332e+01</td>\n",
       "      <td>1.0</td>\n",
       "      <td>0.005768</td>\n",
       "      <td>0.939463</td>\n",
       "    </tr>\n",
       "    <tr>\n",
       "      <th>Residual</th>\n",
       "      <td>5.180881e+07</td>\n",
       "      <td>3860.0</td>\n",
       "      <td>NaN</td>\n",
       "      <td>NaN</td>\n",
       "    </tr>\n",
       "  </tbody>\n",
       "</table>\n",
       "</div>"
      ],
      "text/plain": [
       "                       sum_sq      df         F    PR(>F)\n",
       "C(BMI_category)  1.816070e+04     2.0  0.676529  0.508439\n",
       "Age              7.742332e+01     1.0  0.005768  0.939463\n",
       "Residual         5.180881e+07  3860.0       NaN       NaN"
      ]
     },
     "execution_count": 170,
     "metadata": {},
     "output_type": "execute_result"
    }
   ],
   "source": [
    "#specify typ =3 for 3 way ANOVA\n",
    "sm.stats.anova_lm(model2,typ=2)"
   ]
  },
  {
   "cell_type": "markdown",
   "id": "dd65cdf2",
   "metadata": {},
   "source": [
    "The model shows that there is no statical significance between BMI category and Age affect calories burned. \n",
    "However, the assumptions have not yet been tested, let's investigate. "
   ]
  },
  {
   "cell_type": "code",
   "execution_count": 171,
   "id": "48cfdb54",
   "metadata": {},
   "outputs": [
    {
     "data": {
      "text/plain": [
       "ShapiroResult(statistic=0.9544028639793396, pvalue=3.887702180898982e-33)"
      ]
     },
     "execution_count": 171,
     "metadata": {},
     "output_type": "execute_result"
    }
   ],
   "source": [
    "#check normality assumption\n",
    "stats.shapiro(model2.resid)"
   ]
  },
  {
   "cell_type": "code",
   "execution_count": 172,
   "id": "0a3afee9",
   "metadata": {},
   "outputs": [
    {
     "data": {
      "text/plain": [
       "LeveneResult(statistic=0.9699818108400879, pvalue=0.4057763709363468)"
      ]
     },
     "execution_count": 172,
     "metadata": {},
     "output_type": "execute_result"
    }
   ],
   "source": [
    "# Investigate equal variance assumption\n",
    "#use levene method to investigate\n",
    "stats.levene(Obese, Overweight, Healthy, Age)"
   ]
  },
  {
   "cell_type": "markdown",
   "id": "494a6fa4",
   "metadata": {},
   "source": [
    "Further analysis shows that the data does not follow a normal distribution as represented by the shapiro test. The data does fit the assumption of equal variance as shown in the levene result. The categories chosen are independent of one another.  "
   ]
  },
  {
   "cell_type": "code",
   "execution_count": 173,
   "id": "a9871493",
   "metadata": {},
   "outputs": [],
   "source": [
    "#Exercise intensity to use in kruskal-wallis test\n",
    "Obese = df3['calories_burned'].loc[df3['BMI_category']=='Obese']\n",
    "Overweight = df3['calories_burned'].loc[df3['BMI_category'] == 'Overweight']\n",
    "Healthy = df3['calories_burned'].loc[df3['BMI_category'] == 'Healthy Weight']\n",
    "Age = df3['calories_burned'].loc[df3['Age']]"
   ]
  },
  {
   "cell_type": "code",
   "execution_count": 174,
   "id": "0783e63e",
   "metadata": {},
   "outputs": [
    {
     "data": {
      "text/plain": [
       "KruskalResult(statistic=116.28669181290637, pvalue=4.864726720524359e-25)"
      ]
     },
     "execution_count": 174,
     "metadata": {},
     "output_type": "execute_result"
    }
   ],
   "source": [
    "stats.kruskal(Obese, Overweight, Healthy, Age)"
   ]
  },
  {
   "cell_type": "markdown",
   "id": "fb76a4c2",
   "metadata": {},
   "source": [
    "Using Kruskal-Wallis test, the p-value does show statistical signifcance that age and BMI range have an impact on calories burned."
   ]
  }
 ],
 "metadata": {
  "kernelspec": {
   "display_name": "Python 3 (ipykernel)",
   "language": "python",
   "name": "python3"
  },
  "language_info": {
   "codemirror_mode": {
    "name": "ipython",
    "version": 3
   },
   "file_extension": ".py",
   "mimetype": "text/x-python",
   "name": "python",
   "nbconvert_exporter": "python",
   "pygments_lexer": "ipython3",
   "version": "3.10.4"
  }
 },
 "nbformat": 4,
 "nbformat_minor": 5
}
