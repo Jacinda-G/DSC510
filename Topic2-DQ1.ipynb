{
 "cells": [
  {
   "cell_type": "markdown",
   "id": "93320e53",
   "metadata": {},
   "source": [
    "#### Many real-world datasets exhibit outliers or extreme values. Discuss the potential impact of outliers on measures of central tendency and variability, and propose at least two methods for identifying and handling outliers in data analysis. How can Python be used to implement these methods? Provide examples from real-world datasets to illustrate your points."
   ]
  },
  {
   "cell_type": "markdown",
   "id": "6896350a",
   "metadata": {},
   "source": [
    "#### Potential outliers affect measures of central tendency (mean, standard deviation, range, etc.) by skewing theses measures towards a higher or lower value than what the majority of the data actually reflects. For example in a study that records finances, outliers would be seen if individuals like Bill Gates, Jeff Bezos, or Elon Musk were included. The vast wealth of these individuals would greatly alter measures of central tendency. Mean, STD, and range in this case would all be much higher due to the large wealth gap between the wealthiest and avergae individual. \n",
    "#### Other cases of outliers can be due to incorrect input by the person inputting data. These can normally be identified visually through an understanding of normal ranges. Sometimes outliers can be important to data analysis and should not be removed, especially in cases where we are trying to identify why these extremes occur. "
   ]
  },
  {
   "cell_type": "code",
   "execution_count": 1,
   "id": "2642b8d4",
   "metadata": {},
   "outputs": [],
   "source": [
    "#let's import necessary packages and read a dataset to investigate how we can use python for outlier id\n",
    "import pandas as pd\n",
    "import matplotlib.pyplot as plt\n",
    "import numpy as np\n",
    "from scipy import stats"
   ]
  },
  {
   "cell_type": "code",
   "execution_count": 2,
   "id": "a654c5b8",
   "metadata": {},
   "outputs": [],
   "source": [
    "data = pd.read_csv('anemia_dataset.csv')"
   ]
  },
  {
   "cell_type": "code",
   "execution_count": 3,
   "id": "a248057b",
   "metadata": {},
   "outputs": [],
   "source": [
    "#read to dataframe for easier exploring\n",
    "df = pd.DataFrame(data)"
   ]
  },
  {
   "cell_type": "code",
   "execution_count": 4,
   "id": "600fe402",
   "metadata": {},
   "outputs": [
    {
     "name": "stdout",
     "output_type": "stream",
     "text": [
      "<class 'pandas.core.frame.DataFrame'>\n",
      "RangeIndex: 374 entries, 0 to 373\n",
      "Data columns (total 12 columns):\n",
      " #   Column     Non-Null Count  Dtype  \n",
      "---  ------     --------------  -----  \n",
      " 0   S. No.     364 non-null    float64\n",
      " 1   Age        364 non-null    float64\n",
      " 2   Sex        364 non-null    float64\n",
      " 3     RBC      365 non-null    object \n",
      " 4   PCV        365 non-null    object \n",
      " 5   MCV        365 non-null    object \n",
      " 6   MCH        365 non-null    object \n",
      " 7    MCHC      364 non-null    float64\n",
      " 8    RDW       365 non-null    object \n",
      " 9   TLC        365 non-null    object \n",
      " 10   PLT /mm3  365 non-null    object \n",
      " 11   HGB       365 non-null    object \n",
      "dtypes: float64(4), object(8)\n",
      "memory usage: 35.2+ KB\n"
     ]
    }
   ],
   "source": [
    "df.info()"
   ]
  },
  {
   "cell_type": "code",
   "execution_count": 5,
   "id": "9b9ddb3a",
   "metadata": {},
   "outputs": [
    {
     "data": {
      "text/html": [
       "<div>\n",
       "<style scoped>\n",
       "    .dataframe tbody tr th:only-of-type {\n",
       "        vertical-align: middle;\n",
       "    }\n",
       "\n",
       "    .dataframe tbody tr th {\n",
       "        vertical-align: top;\n",
       "    }\n",
       "\n",
       "    .dataframe thead th {\n",
       "        text-align: right;\n",
       "    }\n",
       "</style>\n",
       "<table border=\"1\" class=\"dataframe\">\n",
       "  <thead>\n",
       "    <tr style=\"text-align: right;\">\n",
       "      <th></th>\n",
       "      <th>S. No.</th>\n",
       "      <th>Age</th>\n",
       "      <th>Sex</th>\n",
       "      <th>RBC</th>\n",
       "      <th>PCV</th>\n",
       "      <th>MCV</th>\n",
       "      <th>MCH</th>\n",
       "      <th>MCHC</th>\n",
       "      <th>RDW</th>\n",
       "      <th>TLC</th>\n",
       "      <th>PLT /mm3</th>\n",
       "      <th>HGB</th>\n",
       "    </tr>\n",
       "  </thead>\n",
       "  <tbody>\n",
       "    <tr>\n",
       "      <th>0</th>\n",
       "      <td>NaN</td>\n",
       "      <td>NaN</td>\n",
       "      <td>NaN</td>\n",
       "      <td>Red Blood Cell count</td>\n",
       "      <td>Packed Cell Volume</td>\n",
       "      <td>Mean Cell Volume</td>\n",
       "      <td>Mean Cell Hemoglobin</td>\n",
       "      <td>NaN</td>\n",
       "      <td>Red Cell Distribution width</td>\n",
       "      <td>White Blood Cell (WBC count),</td>\n",
       "      <td>Platelet</td>\n",
       "      <td>Hemoglobin</td>\n",
       "    </tr>\n",
       "    <tr>\n",
       "      <th>1</th>\n",
       "      <td>1.0</td>\n",
       "      <td>28.0</td>\n",
       "      <td>0.0</td>\n",
       "      <td>5.66</td>\n",
       "      <td>34</td>\n",
       "      <td>60.1</td>\n",
       "      <td>17</td>\n",
       "      <td>28.2</td>\n",
       "      <td>20</td>\n",
       "      <td>11.1</td>\n",
       "      <td>128.3</td>\n",
       "      <td>9.6</td>\n",
       "    </tr>\n",
       "    <tr>\n",
       "      <th>2</th>\n",
       "      <td>2.0</td>\n",
       "      <td>41.0</td>\n",
       "      <td>0.0</td>\n",
       "      <td>4.78</td>\n",
       "      <td>44.5</td>\n",
       "      <td>93.1</td>\n",
       "      <td>28.9</td>\n",
       "      <td>31.0</td>\n",
       "      <td>13</td>\n",
       "      <td>7.02</td>\n",
       "      <td>419</td>\n",
       "      <td>13.8</td>\n",
       "    </tr>\n",
       "    <tr>\n",
       "      <th>3</th>\n",
       "      <td>3.0</td>\n",
       "      <td>40.0</td>\n",
       "      <td>1.0</td>\n",
       "      <td>4.65</td>\n",
       "      <td>41.6</td>\n",
       "      <td>89.5</td>\n",
       "      <td>28.8</td>\n",
       "      <td>32.2</td>\n",
       "      <td>13</td>\n",
       "      <td>8.09</td>\n",
       "      <td>325</td>\n",
       "      <td>13.4</td>\n",
       "    </tr>\n",
       "    <tr>\n",
       "      <th>4</th>\n",
       "      <td>4.0</td>\n",
       "      <td>76.0</td>\n",
       "      <td>0.0</td>\n",
       "      <td>4.24</td>\n",
       "      <td>36.7</td>\n",
       "      <td>86.6</td>\n",
       "      <td>26.7</td>\n",
       "      <td>30.8</td>\n",
       "      <td>14.9</td>\n",
       "      <td>13.41</td>\n",
       "      <td>264</td>\n",
       "      <td>11.3</td>\n",
       "    </tr>\n",
       "  </tbody>\n",
       "</table>\n",
       "</div>"
      ],
      "text/plain": [
       "   S. No.  Age        Sex                 RBC                     PCV  \\\n",
       "0     NaN        NaN    NaN  Red Blood Cell count  Packed Cell Volume   \n",
       "1     1.0       28.0    0.0                  5.66                  34   \n",
       "2     2.0       41.0    0.0                  4.78                44.5   \n",
       "3     3.0       40.0    1.0                  4.65                41.6   \n",
       "4     4.0       76.0    0.0                  4.24                36.7   \n",
       "\n",
       "              MCV                     MCH   MCHC    \\\n",
       "0  Mean Cell Volume  Mean Cell Hemoglobin      NaN   \n",
       "1              60.1                    17     28.2   \n",
       "2              93.1                  28.9     31.0   \n",
       "3              89.5                  28.8     32.2   \n",
       "4              86.6                  26.7     30.8   \n",
       "\n",
       "                       RDW                                TLC  PLT /mm3  \\\n",
       "0  Red Cell Distribution width  White Blood Cell (WBC count),  Platelet   \n",
       "1                           20                           11.1     128.3   \n",
       "2                           13                           7.02       419   \n",
       "3                           13                           8.09       325   \n",
       "4                         14.9                          13.41       264   \n",
       "\n",
       "         HGB   \n",
       "0  Hemoglobin  \n",
       "1         9.6  \n",
       "2        13.8  \n",
       "3        13.4  \n",
       "4        11.3  "
      ]
     },
     "execution_count": 5,
     "metadata": {},
     "output_type": "execute_result"
    }
   ],
   "source": [
    "df.head()"
   ]
  },
  {
   "cell_type": "code",
   "execution_count": 6,
   "id": "d342b665",
   "metadata": {},
   "outputs": [],
   "source": [
    "#drop first row as it does not contain actual data\n",
    "df.drop(index=0,inplace=True)"
   ]
  },
  {
   "cell_type": "code",
   "execution_count": 7,
   "id": "a8ed7777",
   "metadata": {},
   "outputs": [],
   "source": [
    "#remove extra spaces\n",
    "df.columns = data.columns.str.replace(' ', '')"
   ]
  },
  {
   "cell_type": "code",
   "execution_count": 8,
   "id": "eac7a41c",
   "metadata": {},
   "outputs": [],
   "source": [
    "#correct datatypes to float\n",
    "df = df.dropna()\n",
    "df =df.astype(\"float\")"
   ]
  },
  {
   "cell_type": "code",
   "execution_count": 9,
   "id": "1000c8db",
   "metadata": {},
   "outputs": [
    {
     "data": {
      "text/html": [
       "<div>\n",
       "<style scoped>\n",
       "    .dataframe tbody tr th:only-of-type {\n",
       "        vertical-align: middle;\n",
       "    }\n",
       "\n",
       "    .dataframe tbody tr th {\n",
       "        vertical-align: top;\n",
       "    }\n",
       "\n",
       "    .dataframe thead th {\n",
       "        text-align: right;\n",
       "    }\n",
       "</style>\n",
       "<table border=\"1\" class=\"dataframe\">\n",
       "  <thead>\n",
       "    <tr style=\"text-align: right;\">\n",
       "      <th></th>\n",
       "      <th>S.No.</th>\n",
       "      <th>Age</th>\n",
       "      <th>Sex</th>\n",
       "      <th>RBC</th>\n",
       "      <th>PCV</th>\n",
       "      <th>MCV</th>\n",
       "      <th>MCH</th>\n",
       "      <th>MCHC</th>\n",
       "      <th>RDW</th>\n",
       "      <th>TLC</th>\n",
       "      <th>PLT/mm3</th>\n",
       "      <th>HGB</th>\n",
       "    </tr>\n",
       "  </thead>\n",
       "  <tbody>\n",
       "    <tr>\n",
       "      <th>1</th>\n",
       "      <td>1.0</td>\n",
       "      <td>28.0</td>\n",
       "      <td>0.0</td>\n",
       "      <td>5.66</td>\n",
       "      <td>34.0</td>\n",
       "      <td>60.1</td>\n",
       "      <td>17.0</td>\n",
       "      <td>28.2</td>\n",
       "      <td>20.0</td>\n",
       "      <td>11.10</td>\n",
       "      <td>128.3</td>\n",
       "      <td>9.6</td>\n",
       "    </tr>\n",
       "    <tr>\n",
       "      <th>2</th>\n",
       "      <td>2.0</td>\n",
       "      <td>41.0</td>\n",
       "      <td>0.0</td>\n",
       "      <td>4.78</td>\n",
       "      <td>44.5</td>\n",
       "      <td>93.1</td>\n",
       "      <td>28.9</td>\n",
       "      <td>31.0</td>\n",
       "      <td>13.0</td>\n",
       "      <td>7.02</td>\n",
       "      <td>419.0</td>\n",
       "      <td>13.8</td>\n",
       "    </tr>\n",
       "    <tr>\n",
       "      <th>3</th>\n",
       "      <td>3.0</td>\n",
       "      <td>40.0</td>\n",
       "      <td>1.0</td>\n",
       "      <td>4.65</td>\n",
       "      <td>41.6</td>\n",
       "      <td>89.5</td>\n",
       "      <td>28.8</td>\n",
       "      <td>32.2</td>\n",
       "      <td>13.0</td>\n",
       "      <td>8.09</td>\n",
       "      <td>325.0</td>\n",
       "      <td>13.4</td>\n",
       "    </tr>\n",
       "    <tr>\n",
       "      <th>4</th>\n",
       "      <td>4.0</td>\n",
       "      <td>76.0</td>\n",
       "      <td>0.0</td>\n",
       "      <td>4.24</td>\n",
       "      <td>36.7</td>\n",
       "      <td>86.6</td>\n",
       "      <td>26.7</td>\n",
       "      <td>30.8</td>\n",
       "      <td>14.9</td>\n",
       "      <td>13.41</td>\n",
       "      <td>264.0</td>\n",
       "      <td>11.3</td>\n",
       "    </tr>\n",
       "    <tr>\n",
       "      <th>5</th>\n",
       "      <td>5.0</td>\n",
       "      <td>20.0</td>\n",
       "      <td>1.0</td>\n",
       "      <td>4.14</td>\n",
       "      <td>36.9</td>\n",
       "      <td>89.1</td>\n",
       "      <td>27.8</td>\n",
       "      <td>31.2</td>\n",
       "      <td>13.2</td>\n",
       "      <td>4.75</td>\n",
       "      <td>196.0</td>\n",
       "      <td>11.5</td>\n",
       "    </tr>\n",
       "  </tbody>\n",
       "</table>\n",
       "</div>"
      ],
      "text/plain": [
       "   S.No.   Age  Sex   RBC   PCV   MCV   MCH  MCHC   RDW    TLC  PLT/mm3   HGB\n",
       "1    1.0  28.0  0.0  5.66  34.0  60.1  17.0  28.2  20.0  11.10    128.3   9.6\n",
       "2    2.0  41.0  0.0  4.78  44.5  93.1  28.9  31.0  13.0   7.02    419.0  13.8\n",
       "3    3.0  40.0  1.0  4.65  41.6  89.5  28.8  32.2  13.0   8.09    325.0  13.4\n",
       "4    4.0  76.0  0.0  4.24  36.7  86.6  26.7  30.8  14.9  13.41    264.0  11.3\n",
       "5    5.0  20.0  1.0  4.14  36.9  89.1  27.8  31.2  13.2   4.75    196.0  11.5"
      ]
     },
     "execution_count": 9,
     "metadata": {},
     "output_type": "execute_result"
    }
   ],
   "source": [
    "#print first 5 of dataframe\n",
    "df.head() "
   ]
  },
  {
   "cell_type": "code",
   "execution_count": 10,
   "id": "2062e67b",
   "metadata": {},
   "outputs": [
    {
     "data": {
      "text/html": [
       "<div>\n",
       "<style scoped>\n",
       "    .dataframe tbody tr th:only-of-type {\n",
       "        vertical-align: middle;\n",
       "    }\n",
       "\n",
       "    .dataframe tbody tr th {\n",
       "        vertical-align: top;\n",
       "    }\n",
       "\n",
       "    .dataframe thead th {\n",
       "        text-align: right;\n",
       "    }\n",
       "</style>\n",
       "<table border=\"1\" class=\"dataframe\">\n",
       "  <thead>\n",
       "    <tr style=\"text-align: right;\">\n",
       "      <th></th>\n",
       "      <th>S.No.</th>\n",
       "      <th>Age</th>\n",
       "      <th>Sex</th>\n",
       "      <th>RBC</th>\n",
       "      <th>PCV</th>\n",
       "      <th>MCV</th>\n",
       "      <th>MCH</th>\n",
       "      <th>MCHC</th>\n",
       "      <th>RDW</th>\n",
       "      <th>TLC</th>\n",
       "      <th>PLT/mm3</th>\n",
       "      <th>HGB</th>\n",
       "    </tr>\n",
       "  </thead>\n",
       "  <tbody>\n",
       "    <tr>\n",
       "      <th>count</th>\n",
       "      <td>364.000000</td>\n",
       "      <td>364.000000</td>\n",
       "      <td>364.000000</td>\n",
       "      <td>364.000000</td>\n",
       "      <td>364.000000</td>\n",
       "      <td>364.000000</td>\n",
       "      <td>364.000000</td>\n",
       "      <td>364.000000</td>\n",
       "      <td>364.000000</td>\n",
       "      <td>364.000000</td>\n",
       "      <td>364.000000</td>\n",
       "      <td>364.000000</td>\n",
       "    </tr>\n",
       "    <tr>\n",
       "      <th>mean</th>\n",
       "      <td>182.500000</td>\n",
       "      <td>44.917582</td>\n",
       "      <td>0.442308</td>\n",
       "      <td>4.278736</td>\n",
       "      <td>36.762912</td>\n",
       "      <td>87.509121</td>\n",
       "      <td>28.227143</td>\n",
       "      <td>32.053407</td>\n",
       "      <td>15.116511</td>\n",
       "      <td>8.863571</td>\n",
       "      <td>223.750824</td>\n",
       "      <td>11.907692</td>\n",
       "    </tr>\n",
       "    <tr>\n",
       "      <th>std</th>\n",
       "      <td>105.221988</td>\n",
       "      <td>18.780854</td>\n",
       "      <td>0.497344</td>\n",
       "      <td>0.820166</td>\n",
       "      <td>6.830835</td>\n",
       "      <td>9.332164</td>\n",
       "      <td>3.865998</td>\n",
       "      <td>2.801790</td>\n",
       "      <td>2.176557</td>\n",
       "      <td>4.868502</td>\n",
       "      <td>99.407153</td>\n",
       "      <td>2.186686</td>\n",
       "    </tr>\n",
       "    <tr>\n",
       "      <th>min</th>\n",
       "      <td>1.000000</td>\n",
       "      <td>11.000000</td>\n",
       "      <td>0.000000</td>\n",
       "      <td>1.360000</td>\n",
       "      <td>13.100000</td>\n",
       "      <td>55.700000</td>\n",
       "      <td>14.700000</td>\n",
       "      <td>23.600000</td>\n",
       "      <td>10.600000</td>\n",
       "      <td>2.000000</td>\n",
       "      <td>10.000000</td>\n",
       "      <td>4.200000</td>\n",
       "    </tr>\n",
       "    <tr>\n",
       "      <th>25%</th>\n",
       "      <td>91.750000</td>\n",
       "      <td>28.000000</td>\n",
       "      <td>0.000000</td>\n",
       "      <td>3.780000</td>\n",
       "      <td>32.900000</td>\n",
       "      <td>83.175000</td>\n",
       "      <td>26.300000</td>\n",
       "      <td>30.300000</td>\n",
       "      <td>13.600000</td>\n",
       "      <td>5.900000</td>\n",
       "      <td>153.000000</td>\n",
       "      <td>10.600000</td>\n",
       "    </tr>\n",
       "    <tr>\n",
       "      <th>50%</th>\n",
       "      <td>182.500000</td>\n",
       "      <td>44.500000</td>\n",
       "      <td>0.000000</td>\n",
       "      <td>4.335000</td>\n",
       "      <td>36.800000</td>\n",
       "      <td>87.950000</td>\n",
       "      <td>28.200000</td>\n",
       "      <td>31.700000</td>\n",
       "      <td>14.800000</td>\n",
       "      <td>7.935000</td>\n",
       "      <td>210.000000</td>\n",
       "      <td>12.100000</td>\n",
       "    </tr>\n",
       "    <tr>\n",
       "      <th>75%</th>\n",
       "      <td>273.250000</td>\n",
       "      <td>60.000000</td>\n",
       "      <td>1.000000</td>\n",
       "      <td>4.800000</td>\n",
       "      <td>41.850000</td>\n",
       "      <td>91.875000</td>\n",
       "      <td>30.400000</td>\n",
       "      <td>33.300000</td>\n",
       "      <td>16.100000</td>\n",
       "      <td>10.205000</td>\n",
       "      <td>268.250000</td>\n",
       "      <td>13.400000</td>\n",
       "    </tr>\n",
       "    <tr>\n",
       "      <th>max</th>\n",
       "      <td>364.000000</td>\n",
       "      <td>89.000000</td>\n",
       "      <td>1.000000</td>\n",
       "      <td>6.900000</td>\n",
       "      <td>56.900000</td>\n",
       "      <td>124.100000</td>\n",
       "      <td>41.400000</td>\n",
       "      <td>50.200000</td>\n",
       "      <td>29.200000</td>\n",
       "      <td>42.420000</td>\n",
       "      <td>660.000000</td>\n",
       "      <td>19.600000</td>\n",
       "    </tr>\n",
       "  </tbody>\n",
       "</table>\n",
       "</div>"
      ],
      "text/plain": [
       "            S.No.         Age         Sex         RBC         PCV         MCV  \\\n",
       "count  364.000000  364.000000  364.000000  364.000000  364.000000  364.000000   \n",
       "mean   182.500000   44.917582    0.442308    4.278736   36.762912   87.509121   \n",
       "std    105.221988   18.780854    0.497344    0.820166    6.830835    9.332164   \n",
       "min      1.000000   11.000000    0.000000    1.360000   13.100000   55.700000   \n",
       "25%     91.750000   28.000000    0.000000    3.780000   32.900000   83.175000   \n",
       "50%    182.500000   44.500000    0.000000    4.335000   36.800000   87.950000   \n",
       "75%    273.250000   60.000000    1.000000    4.800000   41.850000   91.875000   \n",
       "max    364.000000   89.000000    1.000000    6.900000   56.900000  124.100000   \n",
       "\n",
       "              MCH        MCHC         RDW         TLC     PLT/mm3         HGB  \n",
       "count  364.000000  364.000000  364.000000  364.000000  364.000000  364.000000  \n",
       "mean    28.227143   32.053407   15.116511    8.863571  223.750824   11.907692  \n",
       "std      3.865998    2.801790    2.176557    4.868502   99.407153    2.186686  \n",
       "min     14.700000   23.600000   10.600000    2.000000   10.000000    4.200000  \n",
       "25%     26.300000   30.300000   13.600000    5.900000  153.000000   10.600000  \n",
       "50%     28.200000   31.700000   14.800000    7.935000  210.000000   12.100000  \n",
       "75%     30.400000   33.300000   16.100000   10.205000  268.250000   13.400000  \n",
       "max     41.400000   50.200000   29.200000   42.420000  660.000000   19.600000  "
      ]
     },
     "execution_count": 10,
     "metadata": {},
     "output_type": "execute_result"
    }
   ],
   "source": [
    "#print summary statistics\n",
    "df.describe()"
   ]
  },
  {
   "cell_type": "markdown",
   "id": "aab6581e",
   "metadata": {},
   "source": [
    "### Method 1 - Visualize with boxplot"
   ]
  },
  {
   "cell_type": "code",
   "execution_count": 11,
   "id": "b6d0cfbc",
   "metadata": {},
   "outputs": [
    {
     "data": {
      "text/plain": [
       "<AxesSubplot:>"
      ]
     },
     "execution_count": 11,
     "metadata": {},
     "output_type": "execute_result"
    },
    {
     "data": {
      "image/png": "[encoded data removed]",
      "text/plain": [
       "<Figure size 640x480 with 1 Axes>"
      ]
     },
     "metadata": {},
     "output_type": "display_data"
    }
   ],
   "source": [
    "# one way to identify outliers is with visualization \n",
    "df.boxplot(column=['HGB'])"
   ]
  },
  {
   "cell_type": "code",
   "execution_count": 12,
   "id": "d480e3f7",
   "metadata": {},
   "outputs": [],
   "source": [
    "# lets see how dropping any HGB over 13 grams changes central tendency, since these levels would not indicate anemia\n",
    "df_hgb_trimmed = df.drop(df[df['HGB'] > 13].index)"
   ]
  },
  {
   "cell_type": "code",
   "execution_count": 13,
   "id": "bcb83d06",
   "metadata": {},
   "outputs": [
    {
     "name": "stdout",
     "output_type": "stream",
     "text": [
      "Original Hemoglobin mean:  11.907692307692317\n",
      "Original Hemoglobin STD:  2.1836797640494012\n",
      "\n",
      "New Hemoglobin mean:  10.774688796680502\n",
      "New Hemoglobin STD:  1.7144438891986473\n"
     ]
    }
   ],
   "source": [
    "print(\"Original Hemoglobin mean: \", np.mean(df['HGB']))\n",
    "print(\"Original Hemoglobin STD: \", np.std(df['HGB']))\n",
    "print(\"\")\n",
    "print(\"New Hemoglobin mean: \", np.mean(df_hgb_trimmed['HGB']))\n",
    "print(\"New Hemoglobin STD: \", np.std(df_hgb_trimmed['HGB']))"
   ]
  },
  {
   "cell_type": "markdown",
   "id": "b51fe63c",
   "metadata": {},
   "source": [
    "### Method 2 - Interquartile range"
   ]
  },
  {
   "cell_type": "code",
   "execution_count": 14,
   "id": "3c848ace",
   "metadata": {},
   "outputs": [
    {
     "name": "stdout",
     "output_type": "stream",
     "text": [
      "IQR is:  115.25\n"
     ]
    }
   ],
   "source": [
    "#calculate 1st and 3rd quartie and subtract to find midpoint - lets do this for plt\n",
    "Q1 = df['PLT/mm3'].quantile(0.25)\n",
    "Q3 = df['PLT/mm3'].quantile(0.75)\n",
    "IQR = Q3-Q1\n",
    "print(\"IQR is: \", IQR)"
   ]
  },
  {
   "cell_type": "code",
   "execution_count": 19,
   "id": "9dae9827",
   "metadata": {},
   "outputs": [],
   "source": [
    "# find uper and lower range \n",
    "lower = Q1 - 1.5*IQR\n",
    "upper = Q3 + 1.5*IQR\n",
    "\n",
    "# find indexes of outliers\n",
    "lower_range = np.where(df['PLT/mm3'] <= lower)[0]\n",
    "upper_range = np.where(df['PLT/mm3'] >= upper)[0]\n",
    "\n",
    "#drop from array\n",
    "df_plt_outliers = df.drop(index=lower_range, inplace=True)\n",
    "df_plt_outliers = df.drop(index=upper_range)"
   ]
  },
  {
   "cell_type": "code",
   "execution_count": 20,
   "id": "2937778f",
   "metadata": {},
   "outputs": [
    {
     "name": "stdout",
     "output_type": "stream",
     "text": [
      "Original PLT mean:  223.7508241758242\n",
      "Original PLT STD:  99.27051079000023\n",
      "\n",
      "New PLT mean:  224.0437142857143\n",
      "New PLT STD:  100.43793849468055\n"
     ]
    }
   ],
   "source": [
    "print(\"Original PLT mean: \", np.mean(df['PLT/mm3']))\n",
    "print(\"Original PLT STD: \", np.std(df['PLT/mm3']))\n",
    "print(\"\")\n",
    "print(\"New PLT mean: \", np.mean(df_plt_outliers['PLT/mm3']))\n",
    "print(\"New PLT STD: \", np.std(df_plt_outliers['PLT/mm3']))"
   ]
  },
  {
   "cell_type": "markdown",
   "id": "bb54e6a9",
   "metadata": {},
   "source": [
    "#### References\n",
    "\n",
    "GfG. (2024, January 24). Detect and remove the outliers using Python. GeeksforGeeks. https://www.geeksforgeeks.org/detect-and-remove-the-outliers-using-python/ \n",
    "Goyal, C. (2021, May 16). Why you shouldn’t just delete outliers. Analytics Vidhya. https://www.analyticsvidhya.com/blog/2021/05/why-you-shouldnt-just-delete-outliers/ \n",
    "Goyal, C. (2024, January 8). Outlier Detection & Removal: How to Detect & Remove Outliers (updated 2024). Analytics Vidhya. https://www.analyticsvidhya.com/blog/2021/05/feature-engineering-how-to-detect-and-remove-outliers-with-python-code/ \n",
    "Vohra, Rajan; pahareeya, jankisharan; Hussain, Abir (2021), “Complete Blood Count Anemia Diagnosis”, Mendeley Data, V1, doi: 10.17632/dy9mfjchm7.1 [Dataset] https://www.kaggle.com/datasets/saurabhshahane/anemia-diagnosis-dataset"
   ]
  }
 ],
 "metadata": {
  "kernelspec": {
   "display_name": "Python 3 (ipykernel)",
   "language": "python",
   "name": "python3"
  },
  "language_info": {
   "codemirror_mode": {
    "name": "ipython",
    "version": 3
   },
   "file_extension": ".py",
   "mimetype": "text/x-python",
   "name": "python",
   "nbconvert_exporter": "python",
   "pygments_lexer": "ipython3",
   "version": "3.10.4"
  }
 },
 "nbformat": 4,
 "nbformat_minor": 5
}
