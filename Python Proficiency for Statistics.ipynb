{
 "cells": [
  {
   "cell_type": "markdown",
   "id": "486bc1b1",
   "metadata": {},
   "source": [
    "#### A researcher is conducting a study on the effects of different exercise regimens on blood pressure. The study involves 100 participants who are randomly assigned to one of three exercise groups: jogging, weightlifting, or yoga. Each participant's blood pressure is measured before and after the 6-week exercise program.\n",
    "#### The researcher has collected the data and stored it in a CSV file. The file contains the following columns: Participant ID (numeric), Exercise group (text: \"jogging,\" \"weightlifting,\" or \"yoga\"),Pre-exercise systolic blood pressure (numeric), Post-exercise systolic blood pressure (numeric)\n",
    "#### The researcher wants to analyze the data using Python and NumPy. Complete the following tasks as part of the initial statistical analysis of the scenario above."
   ]
  },
  {
   "cell_type": "code",
   "execution_count": 1,
   "id": "a0cfe4e5",
   "metadata": {},
   "outputs": [],
   "source": [
    "# import necessary modules\n",
    "import csv\n",
    "import random\n",
    "import pandas as pd\n",
    "import numpy as np\n",
    "from scipy import stats"
   ]
  },
  {
   "cell_type": "markdown",
   "id": "7f9fa182",
   "metadata": {},
   "source": [
    "### Generate Synthetic Dataset on Exercise and Blood Pressure\n",
    "#### 1. Create a Python script that generates a synthetic dataset matching the description of your study. The dataset should be saved as a CSV file named \"exercise_data.csv\"."
   ]
  },
  {
   "cell_type": "code",
   "execution_count": 2,
   "id": "718e1fab",
   "metadata": {},
   "outputs": [],
   "source": [
    "# genrate a sample of 100 participant ID numbers, the sample function in random ensures no duplicates are used.\n",
    "ids = random.sample(range(100), 100)"
   ]
  },
  {
   "cell_type": "code",
   "execution_count": 3,
   "id": "0c4b3b3f",
   "metadata": {},
   "outputs": [
    {
     "name": "stdout",
     "output_type": "stream",
     "text": [
      "[74, 97, 149, 108, 86, 104, 100, 84, 88, 150, 76, 148, 99, 91, 81, 115, 127, 146, 85, 149, 99, 124, 124, 139, 85, 147, 130, 91, 111, 88, 89, 102, 107, 111, 109, 117, 92, 105, 134, 137, 113, 144, 98, 131, 120, 145, 134, 139, 123, 81, 71, 81, 100, 138, 131, 143, 89, 132, 82, 101, 145, 104, 117, 139, 114, 99, 121, 113, 118, 111, 120, 105, 132, 148, 140, 105, 72, 87, 96, 138, 118, 105, 100, 70, 110, 90, 129, 150, 105, 125, 114, 113, 124, 148, 136, 136, 89, 138, 123, 118]\n",
      "[126, 108, 93, 149, 149, 111, 74, 100, 121, 90, 138, 107, 112, 125, 122, 142, 89, 96, 140, 100, 91, 102, 101, 126, 131, 80, 136, 115, 117, 76, 95, 127, 123, 87, 88, 109, 122, 123, 75, 137, 78, 138, 116, 135, 140, 103, 115, 84, 84, 148, 111, 146, 89, 110, 150, 141, 139, 70, 142, 91, 145, 135, 90, 114, 85, 123, 129, 117, 125, 96, 97, 89, 104, 117, 118, 108, 132, 71, 88, 94, 136, 75, 126, 109, 101, 140, 104, 125, 94, 124, 132, 101, 130, 108, 126, 146, 125, 111, 86, 81]\n"
     ]
    }
   ],
   "source": [
    "#generate pre and post excercise blood pressure\n",
    "pre_bp = []\n",
    "post_bp = []\n",
    "#define a function that creates 100 random blood pressures for range 70-150\n",
    "def bp_generator(x):\n",
    "    for i in range (0,100):\n",
    "        n = random.randint(70, 150)\n",
    "        x.append(n)\n",
    "        \n",
    "bp_generator(pre_bp)\n",
    "print(pre_bp)\n",
    "bp_generator(post_bp)\n",
    "print(post_bp)"
   ]
  },
  {
   "cell_type": "code",
   "execution_count": 4,
   "id": "38a2cc34",
   "metadata": {},
   "outputs": [
    {
     "name": "stdout",
     "output_type": "stream",
     "text": [
      "['yoga', 'weightlifting', 'yoga', 'yoga', 'weightlifting', 'jogging', 'weightlifting', 'yoga', 'weightlifting', 'jogging', 'weightlifting', 'jogging', 'yoga', 'jogging', 'weightlifting', 'weightlifting', 'weightlifting', 'yoga', 'weightlifting', 'yoga', 'yoga', 'weightlifting', 'jogging', 'weightlifting', 'weightlifting', 'jogging', 'weightlifting', 'jogging', 'jogging', 'yoga', 'weightlifting', 'jogging', 'yoga', 'yoga', 'yoga', 'jogging', 'jogging', 'jogging', 'jogging', 'yoga', 'jogging', 'weightlifting', 'weightlifting', 'yoga', 'yoga', 'yoga', 'jogging', 'yoga', 'jogging', 'weightlifting', 'weightlifting', 'weightlifting', 'yoga', 'jogging', 'yoga', 'yoga', 'jogging', 'weightlifting', 'yoga', 'jogging', 'weightlifting', 'weightlifting', 'weightlifting', 'weightlifting', 'yoga', 'jogging', 'jogging', 'yoga', 'yoga', 'yoga', 'jogging', 'jogging', 'jogging', 'yoga', 'jogging', 'jogging', 'weightlifting', 'jogging', 'jogging', 'yoga', 'weightlifting', 'yoga', 'weightlifting', 'yoga', 'jogging', 'jogging', 'jogging', 'yoga', 'jogging', 'jogging', 'yoga', 'weightlifting', 'jogging', 'weightlifting', 'yoga', 'weightlifting', 'jogging', 'weightlifting', 'jogging', 'yoga']\n"
     ]
    }
   ],
   "source": [
    "# create a list for groups\n",
    "group_list = [\"jogging\", \"yoga\", \"weightlifting\"]\n",
    "groups = []\n",
    "#define a function that appends a random group to the list groups 100 times\n",
    "def group_generator(x):\n",
    "    for i in range(0,100):\n",
    "        w = random.sample(group_list, 1)[0]\n",
    "        x.append(w)\n",
    "group_generator(groups)\n",
    "print(groups)"
   ]
  },
  {
   "cell_type": "code",
   "execution_count": 5,
   "id": "c9bb27f4",
   "metadata": {},
   "outputs": [],
   "source": [
    "#store all lists in a dataframe for key value pairs and write dictionary to dataframe with column names\n",
    "data_dict = zip(ids, groups, pre_bp, post_bp)\n",
    "df = pd.DataFrame(data_dict, columns = [\"Participant ID\", \"Excercise Group\", \n",
    "          \"Pre-exercise systolic blood pressure\", \n",
    "          \"Post-exercise systolic blood pressure\"])"
   ]
  },
  {
   "cell_type": "code",
   "execution_count": 6,
   "id": "c761e3f1",
   "metadata": {},
   "outputs": [],
   "source": [
    "#write dataframe to csv file\n",
    "df.to_csv('excercise_data.csv', index=False)"
   ]
  },
  {
   "cell_type": "markdown",
   "id": "1d295735",
   "metadata": {},
   "source": [
    "### Highest Pre-Exercise Blood Pressure by Group\n",
    "\n",
    "#### 2.Write a Python script to read the \"exercise_data.csv\" file and print the participant with the highest pre-exercise systolic blood pressure in each exercise group."
   ]
  },
  {
   "cell_type": "code",
   "execution_count": 7,
   "id": "9a6532e0",
   "metadata": {},
   "outputs": [],
   "source": [
    "#read csv file using pandas\n",
    "excercise_data = pd.read_csv('excercise_data.csv')"
   ]
  },
  {
   "cell_type": "code",
   "execution_count": 8,
   "id": "5c44c102",
   "metadata": {},
   "outputs": [],
   "source": [
    "#group and sort data to see highest pre systolic BP in each group\n",
    "pre_BP_groups= excercise_data.groupby('Excercise Group', sort=True)[['Pre-exercise systolic blood pressure',\n",
    "                                                                     'Participant ID']]"
   ]
  },
  {
   "cell_type": "code",
   "execution_count": 9,
   "id": "652ec8ef",
   "metadata": {},
   "outputs": [
    {
     "name": "stdout",
     "output_type": "stream",
     "text": [
      "                 Pre-exercise systolic blood pressure  Participant ID\n",
      "Excercise Group                                                      \n",
      "jogging                                           150              95\n",
      "weightlifting                                     148              97\n",
      "yoga                                              150              99\n"
     ]
    }
   ],
   "source": [
    "# print participants with top pre sysctolic BP in each group\n",
    "print(pre_BP_groups.max())"
   ]
  },
  {
   "cell_type": "markdown",
   "id": "7eb27cf2",
   "metadata": {},
   "source": [
    "#### explore data frame"
   ]
  },
  {
   "cell_type": "code",
   "execution_count": 10,
   "id": "5f818ad9",
   "metadata": {},
   "outputs": [
    {
     "data": {
      "text/html": [
       "<div>\n",
       "<style scoped>\n",
       "    .dataframe tbody tr th:only-of-type {\n",
       "        vertical-align: middle;\n",
       "    }\n",
       "\n",
       "    .dataframe tbody tr th {\n",
       "        vertical-align: top;\n",
       "    }\n",
       "\n",
       "    .dataframe thead th {\n",
       "        text-align: right;\n",
       "    }\n",
       "</style>\n",
       "<table border=\"1\" class=\"dataframe\">\n",
       "  <thead>\n",
       "    <tr style=\"text-align: right;\">\n",
       "      <th></th>\n",
       "      <th>Participant ID</th>\n",
       "      <th>Excercise Group</th>\n",
       "      <th>Pre-exercise systolic blood pressure</th>\n",
       "      <th>Post-exercise systolic blood pressure</th>\n",
       "    </tr>\n",
       "  </thead>\n",
       "  <tbody>\n",
       "    <tr>\n",
       "      <th>0</th>\n",
       "      <td>89</td>\n",
       "      <td>yoga</td>\n",
       "      <td>74</td>\n",
       "      <td>126</td>\n",
       "    </tr>\n",
       "    <tr>\n",
       "      <th>1</th>\n",
       "      <td>31</td>\n",
       "      <td>weightlifting</td>\n",
       "      <td>97</td>\n",
       "      <td>108</td>\n",
       "    </tr>\n",
       "    <tr>\n",
       "      <th>2</th>\n",
       "      <td>76</td>\n",
       "      <td>yoga</td>\n",
       "      <td>149</td>\n",
       "      <td>93</td>\n",
       "    </tr>\n",
       "    <tr>\n",
       "      <th>3</th>\n",
       "      <td>81</td>\n",
       "      <td>yoga</td>\n",
       "      <td>108</td>\n",
       "      <td>149</td>\n",
       "    </tr>\n",
       "    <tr>\n",
       "      <th>4</th>\n",
       "      <td>34</td>\n",
       "      <td>weightlifting</td>\n",
       "      <td>86</td>\n",
       "      <td>149</td>\n",
       "    </tr>\n",
       "  </tbody>\n",
       "</table>\n",
       "</div>"
      ],
      "text/plain": [
       "   Participant ID Excercise Group  Pre-exercise systolic blood pressure  \\\n",
       "0              89            yoga                                    74   \n",
       "1              31   weightlifting                                    97   \n",
       "2              76            yoga                                   149   \n",
       "3              81            yoga                                   108   \n",
       "4              34   weightlifting                                    86   \n",
       "\n",
       "   Post-exercise systolic blood pressure  \n",
       "0                                    126  \n",
       "1                                    108  \n",
       "2                                     93  \n",
       "3                                    149  \n",
       "4                                    149  "
      ]
     },
     "execution_count": 10,
     "metadata": {},
     "output_type": "execute_result"
    }
   ],
   "source": [
    "#print head of data frame\n",
    "excercise_data.head()"
   ]
  },
  {
   "cell_type": "code",
   "execution_count": 11,
   "id": "85549f91",
   "metadata": {},
   "outputs": [
    {
     "name": "stdout",
     "output_type": "stream",
     "text": [
      "<class 'pandas.core.frame.DataFrame'>\n",
      "RangeIndex: 100 entries, 0 to 99\n",
      "Data columns (total 4 columns):\n",
      " #   Column                                 Non-Null Count  Dtype \n",
      "---  ------                                 --------------  ----- \n",
      " 0   Participant ID                         100 non-null    int64 \n",
      " 1   Excercise Group                        100 non-null    object\n",
      " 2   Pre-exercise systolic blood pressure   100 non-null    int64 \n",
      " 3   Post-exercise systolic blood pressure  100 non-null    int64 \n",
      "dtypes: int64(3), object(1)\n",
      "memory usage: 3.2+ KB\n"
     ]
    }
   ],
   "source": [
    "# call info() on dataframe to ensure each parameter contains 100 values\n",
    "excercise_data.info()"
   ]
  },
  {
   "cell_type": "code",
   "execution_count": 12,
   "id": "f87f78c7",
   "metadata": {},
   "outputs": [
    {
     "data": {
      "text/plain": [
       "Excercise Group\n",
       "jogging          36\n",
       "yoga             33\n",
       "weightlifting    31\n",
       "dtype: int64"
      ]
     },
     "execution_count": 12,
     "metadata": {},
     "output_type": "execute_result"
    }
   ],
   "source": [
    "# use value_counts() function to investigate distribution of excercise groups\n",
    "excercise_data.value_counts('Excercise Group')"
   ]
  },
  {
   "cell_type": "markdown",
   "id": "950f2d33",
   "metadata": {},
   "source": [
    "### Extract the 5 Participants with Highest Blood Pressure\n",
    "\n",
    "#### 3. Write a Python function that sorts the list based on blood pressure and displays the full record of the top 5."
   ]
  },
  {
   "cell_type": "code",
   "execution_count": 13,
   "id": "de244c38",
   "metadata": {},
   "outputs": [],
   "source": [
    "# create a function to sort by Blood pressure and print top 5\n",
    "def top5(x,n):\n",
    "    return x.sort_values(n, ascending=False).head()"
   ]
  },
  {
   "cell_type": "code",
   "execution_count": 14,
   "id": "fe89ada3",
   "metadata": {},
   "outputs": [
    {
     "name": "stdout",
     "output_type": "stream",
     "text": [
      "5 highest incidences of pre excercise BP\n"
     ]
    },
    {
     "data": {
      "text/html": [
       "<div>\n",
       "<style scoped>\n",
       "    .dataframe tbody tr th:only-of-type {\n",
       "        vertical-align: middle;\n",
       "    }\n",
       "\n",
       "    .dataframe tbody tr th {\n",
       "        vertical-align: top;\n",
       "    }\n",
       "\n",
       "    .dataframe thead th {\n",
       "        text-align: right;\n",
       "    }\n",
       "</style>\n",
       "<table border=\"1\" class=\"dataframe\">\n",
       "  <thead>\n",
       "    <tr style=\"text-align: right;\">\n",
       "      <th></th>\n",
       "      <th>Participant ID</th>\n",
       "      <th>Excercise Group</th>\n",
       "      <th>Pre-exercise systolic blood pressure</th>\n",
       "      <th>Post-exercise systolic blood pressure</th>\n",
       "    </tr>\n",
       "  </thead>\n",
       "  <tbody>\n",
       "    <tr>\n",
       "      <th>87</th>\n",
       "      <td>2</td>\n",
       "      <td>yoga</td>\n",
       "      <td>150</td>\n",
       "      <td>125</td>\n",
       "    </tr>\n",
       "    <tr>\n",
       "      <th>9</th>\n",
       "      <td>24</td>\n",
       "      <td>jogging</td>\n",
       "      <td>150</td>\n",
       "      <td>90</td>\n",
       "    </tr>\n",
       "    <tr>\n",
       "      <th>19</th>\n",
       "      <td>84</td>\n",
       "      <td>yoga</td>\n",
       "      <td>149</td>\n",
       "      <td>100</td>\n",
       "    </tr>\n",
       "    <tr>\n",
       "      <th>2</th>\n",
       "      <td>76</td>\n",
       "      <td>yoga</td>\n",
       "      <td>149</td>\n",
       "      <td>93</td>\n",
       "    </tr>\n",
       "    <tr>\n",
       "      <th>73</th>\n",
       "      <td>51</td>\n",
       "      <td>yoga</td>\n",
       "      <td>148</td>\n",
       "      <td>117</td>\n",
       "    </tr>\n",
       "  </tbody>\n",
       "</table>\n",
       "</div>"
      ],
      "text/plain": [
       "    Participant ID Excercise Group  Pre-exercise systolic blood pressure  \\\n",
       "87               2            yoga                                   150   \n",
       "9               24         jogging                                   150   \n",
       "19              84            yoga                                   149   \n",
       "2               76            yoga                                   149   \n",
       "73              51            yoga                                   148   \n",
       "\n",
       "    Post-exercise systolic blood pressure  \n",
       "87                                    125  \n",
       "9                                      90  \n",
       "19                                    100  \n",
       "2                                      93  \n",
       "73                                    117  "
      ]
     },
     "execution_count": 14,
     "metadata": {},
     "output_type": "execute_result"
    }
   ],
   "source": [
    "# print participants with top 5 pre excercise BP\n",
    "print(\"5 highest incidences of pre excercise BP\")\n",
    "top5(excercise_data,'Pre-exercise systolic blood pressure')"
   ]
  },
  {
   "cell_type": "code",
   "execution_count": 15,
   "id": "4df112d8",
   "metadata": {},
   "outputs": [
    {
     "name": "stdout",
     "output_type": "stream",
     "text": [
      "5 highest incidences of post excercise BP\n"
     ]
    },
    {
     "data": {
      "text/html": [
       "<div>\n",
       "<style scoped>\n",
       "    .dataframe tbody tr th:only-of-type {\n",
       "        vertical-align: middle;\n",
       "    }\n",
       "\n",
       "    .dataframe tbody tr th {\n",
       "        vertical-align: top;\n",
       "    }\n",
       "\n",
       "    .dataframe thead th {\n",
       "        text-align: right;\n",
       "    }\n",
       "</style>\n",
       "<table border=\"1\" class=\"dataframe\">\n",
       "  <thead>\n",
       "    <tr style=\"text-align: right;\">\n",
       "      <th></th>\n",
       "      <th>Participant ID</th>\n",
       "      <th>Excercise Group</th>\n",
       "      <th>Pre-exercise systolic blood pressure</th>\n",
       "      <th>Post-exercise systolic blood pressure</th>\n",
       "    </tr>\n",
       "  </thead>\n",
       "  <tbody>\n",
       "    <tr>\n",
       "      <th>54</th>\n",
       "      <td>9</td>\n",
       "      <td>yoga</td>\n",
       "      <td>131</td>\n",
       "      <td>150</td>\n",
       "    </tr>\n",
       "    <tr>\n",
       "      <th>3</th>\n",
       "      <td>81</td>\n",
       "      <td>yoga</td>\n",
       "      <td>108</td>\n",
       "      <td>149</td>\n",
       "    </tr>\n",
       "    <tr>\n",
       "      <th>4</th>\n",
       "      <td>34</td>\n",
       "      <td>weightlifting</td>\n",
       "      <td>86</td>\n",
       "      <td>149</td>\n",
       "    </tr>\n",
       "    <tr>\n",
       "      <th>49</th>\n",
       "      <td>78</td>\n",
       "      <td>weightlifting</td>\n",
       "      <td>81</td>\n",
       "      <td>148</td>\n",
       "    </tr>\n",
       "    <tr>\n",
       "      <th>51</th>\n",
       "      <td>56</td>\n",
       "      <td>weightlifting</td>\n",
       "      <td>81</td>\n",
       "      <td>146</td>\n",
       "    </tr>\n",
       "  </tbody>\n",
       "</table>\n",
       "</div>"
      ],
      "text/plain": [
       "    Participant ID Excercise Group  Pre-exercise systolic blood pressure  \\\n",
       "54               9            yoga                                   131   \n",
       "3               81            yoga                                   108   \n",
       "4               34   weightlifting                                    86   \n",
       "49              78   weightlifting                                    81   \n",
       "51              56   weightlifting                                    81   \n",
       "\n",
       "    Post-exercise systolic blood pressure  \n",
       "54                                    150  \n",
       "3                                     149  \n",
       "4                                     149  \n",
       "49                                    148  \n",
       "51                                    146  "
      ]
     },
     "execution_count": 15,
     "metadata": {},
     "output_type": "execute_result"
    }
   ],
   "source": [
    "# print participants with top 5 post excercise BP\n",
    "print(\"5 highest incidences of post excercise BP\")\n",
    "top5(excercise_data, 'Post-exercise systolic blood pressure')"
   ]
  },
  {
   "cell_type": "markdown",
   "id": "ed93f158",
   "metadata": {},
   "source": [
    "### Monthly Blood Pressure Changes\n",
    "\n",
    "#### 4. Write a Python script that assumes that blood pressure measurements were taken monthly. Compute and print the average change in blood pressure for each exercise group. Note: This is hypothetical as the original study is for 6 weeks only."
   ]
  },
  {
   "cell_type": "code",
   "execution_count": 16,
   "id": "f347e567",
   "metadata": {},
   "outputs": [],
   "source": [
    "#group data and calculate change in pre and post systolic BP\n",
    "change = excercise_data['Post-exercise systolic blood pressure'] - excercise_data['Pre-exercise systolic blood pressure']\n",
    "#add column to dataframe\n",
    "excercise_data['Change in BP'] = change"
   ]
  },
  {
   "cell_type": "code",
   "execution_count": 17,
   "id": "1e52dcc9",
   "metadata": {},
   "outputs": [
    {
     "data": {
      "text/plain": [
       "Excercise Group\n",
       "jogging          -7.333333\n",
       "weightlifting    12.483871\n",
       "yoga             -7.333333\n",
       "Name: Change in BP, dtype: float64"
      ]
     },
     "execution_count": 17,
     "metadata": {},
     "output_type": "execute_result"
    }
   ],
   "source": [
    "#Calculate and print average change for each group\n",
    "excercise_data.groupby(['Excercise Group'])['Change in BP'].mean()"
   ]
  },
  {
   "cell_type": "markdown",
   "id": "52b0c122",
   "metadata": {},
   "source": [
    "### Compare Pre- and Post-Exercise Blood Pressure\n",
    "\n",
    "#### 5. Search for the 5 participants from the pre-exercise  and find their post-exercise blood pressure. Produce a table that compares their pre- and post-exercise pressure and displays the difference."
   ]
  },
  {
   "cell_type": "code",
   "execution_count": 18,
   "id": "c5fd375a",
   "metadata": {},
   "outputs": [
    {
     "data": {
      "text/html": [
       "<div>\n",
       "<style scoped>\n",
       "    .dataframe tbody tr th:only-of-type {\n",
       "        vertical-align: middle;\n",
       "    }\n",
       "\n",
       "    .dataframe tbody tr th {\n",
       "        vertical-align: top;\n",
       "    }\n",
       "\n",
       "    .dataframe thead th {\n",
       "        text-align: right;\n",
       "    }\n",
       "</style>\n",
       "<table border=\"1\" class=\"dataframe\">\n",
       "  <thead>\n",
       "    <tr style=\"text-align: right;\">\n",
       "      <th></th>\n",
       "      <th>Participant ID</th>\n",
       "      <th>Excercise Group</th>\n",
       "      <th>Pre-exercise systolic blood pressure</th>\n",
       "      <th>Post-exercise systolic blood pressure</th>\n",
       "      <th>Change in BP</th>\n",
       "    </tr>\n",
       "  </thead>\n",
       "  <tbody>\n",
       "    <tr>\n",
       "      <th>87</th>\n",
       "      <td>2</td>\n",
       "      <td>yoga</td>\n",
       "      <td>150</td>\n",
       "      <td>125</td>\n",
       "      <td>-25</td>\n",
       "    </tr>\n",
       "    <tr>\n",
       "      <th>9</th>\n",
       "      <td>24</td>\n",
       "      <td>jogging</td>\n",
       "      <td>150</td>\n",
       "      <td>90</td>\n",
       "      <td>-60</td>\n",
       "    </tr>\n",
       "    <tr>\n",
       "      <th>19</th>\n",
       "      <td>84</td>\n",
       "      <td>yoga</td>\n",
       "      <td>149</td>\n",
       "      <td>100</td>\n",
       "      <td>-49</td>\n",
       "    </tr>\n",
       "    <tr>\n",
       "      <th>2</th>\n",
       "      <td>76</td>\n",
       "      <td>yoga</td>\n",
       "      <td>149</td>\n",
       "      <td>93</td>\n",
       "      <td>-56</td>\n",
       "    </tr>\n",
       "    <tr>\n",
       "      <th>73</th>\n",
       "      <td>51</td>\n",
       "      <td>yoga</td>\n",
       "      <td>148</td>\n",
       "      <td>117</td>\n",
       "      <td>-31</td>\n",
       "    </tr>\n",
       "  </tbody>\n",
       "</table>\n",
       "</div>"
      ],
      "text/plain": [
       "    Participant ID Excercise Group  Pre-exercise systolic blood pressure  \\\n",
       "87               2            yoga                                   150   \n",
       "9               24         jogging                                   150   \n",
       "19              84            yoga                                   149   \n",
       "2               76            yoga                                   149   \n",
       "73              51            yoga                                   148   \n",
       "\n",
       "    Post-exercise systolic blood pressure  Change in BP  \n",
       "87                                    125           -25  \n",
       "9                                      90           -60  \n",
       "19                                    100           -49  \n",
       "2                                      93           -56  \n",
       "73                                    117           -31  "
      ]
     },
     "execution_count": 18,
     "metadata": {},
     "output_type": "execute_result"
    }
   ],
   "source": [
    "top5(excercise_data, 'Pre-exercise systolic blood pressure')"
   ]
  },
  {
   "cell_type": "markdown",
   "id": "99bdbf3e",
   "metadata": {},
   "source": [
    "### Total Blood Pressure Reduction for Each Exercise Group\n",
    "#### 6. Write a Python script to read the \"exercise_data.csv\" file and compute the measures of central tendency for each exercise group: mean, mode, standard deviation."
   ]
  },
  {
   "cell_type": "code",
   "execution_count": 19,
   "id": "0bac36ac",
   "metadata": {},
   "outputs": [
    {
     "name": "stdout",
     "output_type": "stream",
     "text": [
      "                 Pre-exercise systolic blood pressure  \\\n",
      "Excercise Group                                         \n",
      "jogging                                    114.277778   \n",
      "weightlifting                              108.354839   \n",
      "yoga                                       117.757576   \n",
      "\n",
      "                 Post-exercise systolic blood pressure  \n",
      "Excercise Group                                         \n",
      "jogging                                     106.944444  \n",
      "weightlifting                               120.838710  \n",
      "yoga                                        110.424242  \n"
     ]
    }
   ],
   "source": [
    "#print mean for groups\n",
    "data = pd.read_csv('excercise_data.csv')\n",
    "means = data.groupby(['Excercise Group'])[['Pre-exercise systolic blood pressure'\n",
    "                                          ,'Post-exercise systolic blood pressure']].mean()\n",
    "print(means)"
   ]
  },
  {
   "cell_type": "code",
   "execution_count": 20,
   "id": "3c6d07e4",
   "metadata": {},
   "outputs": [
    {
     "name": "stdout",
     "output_type": "stream",
     "text": [
      "Excercise Group\n",
      "jogging          ([[105, 101]], [[4, 2]])\n",
      "weightlifting     ([[81, 108]], [[3, 2]])\n",
      "yoga               ([[99, 96]], [[2, 2]])\n",
      "dtype: object\n"
     ]
    }
   ],
   "source": [
    "#print mode for groups\n",
    "modes =  data.groupby(['Excercise Group'])[['Pre-exercise systolic blood pressure',\n",
    "                                            'Post-exercise systolic blood pressure']].apply(stats.mode)\n",
    "print(modes)"
   ]
  },
  {
   "cell_type": "markdown",
   "id": "83e63fc0",
   "metadata": {},
   "source": [
    "#### Standard deviations for groups"
   ]
  },
  {
   "cell_type": "code",
   "execution_count": 21,
   "id": "642b9f4e",
   "metadata": {},
   "outputs": [
    {
     "name": "stdout",
     "output_type": "stream",
     "text": [
      "Jogging standard deviations:  Pre-exercise systolic blood pressure     18.352431\n",
      "Post-exercise systolic blood pressure    18.278622\n",
      "dtype: float64\n",
      "Weightlifting standard deviations:  Pre-exercise systolic blood pressure     24.325147\n",
      "Post-exercise systolic blood pressure    21.612566\n",
      "dtype: float64\n",
      "Yoga standard deviations:  Pre-exercise systolic blood pressure     22.772964\n",
      "Post-exercise systolic blood pressure    22.425676\n",
      "dtype: float64\n"
     ]
    }
   ],
   "source": [
    "data.reset_index()\n",
    "#Use numpy to calculate std\n",
    "jogging_std = np.std(data.groupby(['Excercise Group'])[['Pre-exercise systolic blood pressure',\n",
    "                           'Post-exercise systolic blood pressure']].get_group('jogging'))\n",
    "weightlifting_std =  np.std(data.groupby(['Excercise Group'])[['Pre-exercise systolic blood pressure',\n",
    "                           'Post-exercise systolic blood pressure']].get_group('weightlifting'))\n",
    "yoga_std =  np.std(data.groupby(['Excercise Group'])[['Pre-exercise systolic blood pressure',\n",
    "                           'Post-exercise systolic blood pressure']].get_group('yoga'))\n",
    "\n",
    "#print stds\n",
    "print(\"Jogging standard deviations: \" , jogging_std)\n",
    "print(\"Weightlifting standard deviations: \" , weightlifting_std)\n",
    "print(\"Yoga standard deviations: \" ,yoga_std)"
   ]
  },
  {
   "cell_type": "code",
   "execution_count": 22,
   "id": "a91f986c",
   "metadata": {},
   "outputs": [
    {
     "name": "stdout",
     "output_type": "stream",
     "text": [
      "                 Pre-exercise systolic blood pressure  \\\n",
      "Excercise Group                                         \n",
      "jogging                                     18.612762   \n",
      "weightlifting                               24.727243   \n",
      "yoga                                        23.126054   \n",
      "\n",
      "                 Post-exercise systolic blood pressure  \n",
      "Excercise Group                                         \n",
      "jogging                                      18.537906  \n",
      "weightlifting                                21.969823  \n",
      "yoga                                         22.773381  \n"
     ]
    }
   ],
   "source": [
    "#This is an easier way to print standard deviation for groups using std() function of python, Numpy does not calculate \n",
    "# on groups as cleanly\n",
    "std = (data.groupby(['Excercise Group'])[['Pre-exercise systolic blood pressure'\n",
    "             ,'Post-exercise systolic blood pressure']]).std()\n",
    "print(std)"
   ]
  }
 ],
 "metadata": {
  "kernelspec": {
   "display_name": "Python 3 (ipykernel)",
   "language": "python",
   "name": "python3"
  },
  "language_info": {
   "codemirror_mode": {
    "name": "ipython",
    "version": 3
   },
   "file_extension": ".py",
   "mimetype": "text/x-python",
   "name": "python",
   "nbconvert_exporter": "python",
   "pygments_lexer": "ipython3",
   "version": "3.10.4"
  }
 },
 "nbformat": 4,
 "nbformat_minor": 5
}
