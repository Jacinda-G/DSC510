{
 "cells": [
  {
   "cell_type": "markdown",
   "id": "e284d3f7",
   "metadata": {},
   "source": [
    "Probability allows us to make decisions based on what we know or prior events. While we cannot know the future, we can use statistical inference to calculate the probability of an event or prediction. There are many different statistical methods that can be applied to data of events in order to asses their likelihood. This includes using probability distribution to calculate random event outcomes, empirical probability to assess the outcome based on knowns, and conditional probability based on previous observations (Firdous 2023).\n",
    "\n",
    "We can leverage probability in many real world situations to make informed decisions and analysis. In the Finance sector, we use probability to predict return or loss on an investment. Aerospace engineers can use probability to determine the amount of debris a craft may encounter in orbit (Australian Space Academy 2023). Social sciences use probability based on collected data to predict if individual in a certain region or a certain socioeconomic background has access to healthcare. \n",
    "\n",
    "Python allows us to calculate probability and calculate it with packages like scipy. This example of a simple probability and binomial distribution is just one of many ways we can use python to investigate probability. More advanced examples like making predictions of disease include training a model and meauring with classifier. \n"
   ]
  },
  {
   "cell_type": "code",
   "execution_count": 4,
   "id": "a993a7ba",
   "metadata": {},
   "outputs": [],
   "source": [
    "# import packages\n",
    "import pandas as pd\n",
    "import matplotlib.pyplot as plt\n",
    "from scipy.stats import binom "
   ]
  },
  {
   "cell_type": "code",
   "execution_count": 5,
   "id": "1cae32a1",
   "metadata": {},
   "outputs": [],
   "source": [
    "#read csv data\n",
    "breed = pd.read_csv('AKC Breed Info.csv')\n",
    "intelligence = pd.read_csv('dog_intelligence.csv')"
   ]
  },
  {
   "cell_type": "code",
   "execution_count": 6,
   "id": "3acd8482",
   "metadata": {},
   "outputs": [],
   "source": [
    "#data to dataframe\n",
    "breed = pd.DataFrame(breed)\n",
    "intelligence = pd.DataFrame(intelligence)"
   ]
  },
  {
   "cell_type": "code",
   "execution_count": 9,
   "id": "9d989d5d",
   "metadata": {},
   "outputs": [],
   "source": [
    "#merge dataframes\n",
    "df = breed.merge(intelligence, left_on='Breed', right_on='Breed')"
   ]
  },
  {
   "cell_type": "code",
   "execution_count": 11,
   "id": "bd1ab865",
   "metadata": {},
   "outputs": [
    {
     "name": "stdout",
     "output_type": "stream",
     "text": [
      "<class 'pandas.core.frame.DataFrame'>\n",
      "Int64Index: 105 entries, 0 to 104\n",
      "Data columns (total 11 columns):\n",
      " #   Column              Non-Null Count  Dtype \n",
      "---  ------              --------------  ----- \n",
      " 0   index_x             105 non-null    int64 \n",
      " 1   Breed               105 non-null    object\n",
      " 2   height_low_inches   105 non-null    object\n",
      " 3   height_high_inches  105 non-null    object\n",
      " 4   weight_low_lbs      105 non-null    object\n",
      " 5   weight_high_lbs     105 non-null    object\n",
      " 6   index_y             105 non-null    int64 \n",
      " 7   Classification      105 non-null    object\n",
      " 8   obey                96 non-null     object\n",
      " 9   reps_lower          105 non-null    int64 \n",
      " 10  reps_upper          105 non-null    int64 \n",
      "dtypes: int64(4), object(7)\n",
      "memory usage: 9.8+ KB\n"
     ]
    }
   ],
   "source": [
    "df.info()"
   ]
  },
  {
   "cell_type": "code",
   "execution_count": 12,
   "id": "e2844ef5",
   "metadata": {
    "scrolled": true
   },
   "outputs": [
    {
     "data": {
      "text/html": [
       "<div>\n",
       "<style scoped>\n",
       "    .dataframe tbody tr th:only-of-type {\n",
       "        vertical-align: middle;\n",
       "    }\n",
       "\n",
       "    .dataframe tbody tr th {\n",
       "        vertical-align: top;\n",
       "    }\n",
       "\n",
       "    .dataframe thead th {\n",
       "        text-align: right;\n",
       "    }\n",
       "</style>\n",
       "<table border=\"1\" class=\"dataframe\">\n",
       "  <thead>\n",
       "    <tr style=\"text-align: right;\">\n",
       "      <th></th>\n",
       "      <th>index_x</th>\n",
       "      <th>Breed</th>\n",
       "      <th>height_low_inches</th>\n",
       "      <th>height_high_inches</th>\n",
       "      <th>weight_low_lbs</th>\n",
       "      <th>weight_high_lbs</th>\n",
       "      <th>index_y</th>\n",
       "      <th>Classification</th>\n",
       "      <th>obey</th>\n",
       "      <th>reps_lower</th>\n",
       "      <th>reps_upper</th>\n",
       "    </tr>\n",
       "  </thead>\n",
       "  <tbody>\n",
       "    <tr>\n",
       "      <th>0</th>\n",
       "      <td>0</td>\n",
       "      <td>Akita</td>\n",
       "      <td>26</td>\n",
       "      <td>28</td>\n",
       "      <td>80</td>\n",
       "      <td>120</td>\n",
       "      <td>102</td>\n",
       "      <td>Average Working/Obedience Intelligence</td>\n",
       "      <td>50%</td>\n",
       "      <td>26</td>\n",
       "      <td>40</td>\n",
       "    </tr>\n",
       "    <tr>\n",
       "      <th>1</th>\n",
       "      <td>2</td>\n",
       "      <td>Bernese Mountain Dog</td>\n",
       "      <td>23</td>\n",
       "      <td>27</td>\n",
       "      <td>85</td>\n",
       "      <td>110</td>\n",
       "      <td>26</td>\n",
       "      <td>Excellent Working Dogs</td>\n",
       "      <td>85%</td>\n",
       "      <td>5</td>\n",
       "      <td>15</td>\n",
       "    </tr>\n",
       "    <tr>\n",
       "      <th>2</th>\n",
       "      <td>3</td>\n",
       "      <td>Bloodhound</td>\n",
       "      <td>24</td>\n",
       "      <td>26</td>\n",
       "      <td>80</td>\n",
       "      <td>120</td>\n",
       "      <td>130</td>\n",
       "      <td>Lowest Degree of Working/Obedience Intelligence</td>\n",
       "      <td>NaN</td>\n",
       "      <td>81</td>\n",
       "      <td>100</td>\n",
       "    </tr>\n",
       "    <tr>\n",
       "      <th>3</th>\n",
       "      <td>4</td>\n",
       "      <td>Borzoi</td>\n",
       "      <td>26</td>\n",
       "      <td>28</td>\n",
       "      <td>70</td>\n",
       "      <td>100</td>\n",
       "      <td>131</td>\n",
       "      <td>Lowest Degree of Working/Obedience Intelligence</td>\n",
       "      <td>NaN</td>\n",
       "      <td>81</td>\n",
       "      <td>100</td>\n",
       "    </tr>\n",
       "    <tr>\n",
       "      <th>4</th>\n",
       "      <td>5</td>\n",
       "      <td>Bullmastiff</td>\n",
       "      <td>25</td>\n",
       "      <td>27</td>\n",
       "      <td>100</td>\n",
       "      <td>130</td>\n",
       "      <td>124</td>\n",
       "      <td>Fair Working/Obedience Intelligence</td>\n",
       "      <td>30%</td>\n",
       "      <td>41</td>\n",
       "      <td>80</td>\n",
       "    </tr>\n",
       "  </tbody>\n",
       "</table>\n",
       "</div>"
      ],
      "text/plain": [
       "   index_x                 Breed height_low_inches height_high_inches  \\\n",
       "0        0                 Akita                26                 28   \n",
       "1        2  Bernese Mountain Dog                23                 27   \n",
       "2        3            Bloodhound                24                 26   \n",
       "3        4                Borzoi                26                 28   \n",
       "4        5           Bullmastiff                25                 27   \n",
       "\n",
       "  weight_low_lbs weight_high_lbs  index_y  \\\n",
       "0             80             120      102   \n",
       "1             85             110       26   \n",
       "2             80             120      130   \n",
       "3             70             100      131   \n",
       "4            100             130      124   \n",
       "\n",
       "                                     Classification obey  reps_lower  \\\n",
       "0            Average Working/Obedience Intelligence  50%          26   \n",
       "1                            Excellent Working Dogs  85%           5   \n",
       "2  Lowest Degree of Working/Obedience Intelligence   NaN          81   \n",
       "3  Lowest Degree of Working/Obedience Intelligence   NaN          81   \n",
       "4               Fair Working/Obedience Intelligence  30%          41   \n",
       "\n",
       "   reps_upper  \n",
       "0          40  \n",
       "1          15  \n",
       "2         100  \n",
       "3         100  \n",
       "4          80  "
      ]
     },
     "execution_count": 12,
     "metadata": {},
     "output_type": "execute_result"
    }
   ],
   "source": [
    "df.head()"
   ]
  },
  {
   "cell_type": "code",
   "execution_count": 15,
   "id": "2e5968a3",
   "metadata": {},
   "outputs": [
    {
     "data": {
      "text/plain": [
       "array(['Average Working/Obedience Intelligence', 'Excellent Working Dogs',\n",
       "       'Lowest Degree of Working/Obedience Intelligence ',\n",
       "       'Fair Working/Obedience Intelligence',\n",
       "       'Above Average Working Dogs', 'Brightest Dogs'], dtype=object)"
      ]
     },
     "execution_count": 15,
     "metadata": {},
     "output_type": "execute_result"
    }
   ],
   "source": [
    "df['Classification'].unique()"
   ]
  },
  {
   "cell_type": "code",
   "execution_count": 21,
   "id": "4c2271b8",
   "metadata": {},
   "outputs": [],
   "source": [
    "#use dataset to find the probability of a dog having brightest intelligence and having a low weight over 50\n",
    "big_and_bright = df[(df['weight_low_lbs']>'50') & (df['Classification']=='Brightest Dogs')]"
   ]
  },
  {
   "cell_type": "code",
   "execution_count": 22,
   "id": "dfe0bb7b",
   "metadata": {},
   "outputs": [
    {
     "data": {
      "text/plain": [
       "index_x               4\n",
       "Breed                 4\n",
       "height_low_inches     4\n",
       "height_high_inches    4\n",
       "weight_low_lbs        4\n",
       "weight_high_lbs       4\n",
       "index_y               4\n",
       "Classification        4\n",
       "obey                  4\n",
       "reps_lower            4\n",
       "reps_upper            4\n",
       "dtype: int64"
      ]
     },
     "execution_count": 22,
     "metadata": {},
     "output_type": "execute_result"
    }
   ],
   "source": [
    "big_and_bright.count()"
   ]
  },
  {
   "cell_type": "code",
   "execution_count": 27,
   "id": "a41c1bf2",
   "metadata": {},
   "outputs": [
    {
     "data": {
      "text/plain": [
       "3.8095238095238098"
      ]
     },
     "execution_count": 27,
     "metadata": {},
     "output_type": "execute_result"
    }
   ],
   "source": [
    "#probabilit of a big and bright dog\n",
    "bb_prob = len(big_and_bright)/len(df)\n",
    "bb_prob *100"
   ]
  },
  {
   "cell_type": "markdown",
   "id": "0776fc1d",
   "metadata": {},
   "source": [
    "We used the kaggle data set on dog breed data and intellgence measures to determine the probability of a dog breed being over 50 pounds AND being in the brightest dogs category. We get a probability of 3.8% and plot the binomial distibution below for this proabaility in a set of 150 dog breeds. "
   ]
  },
  {
   "cell_type": "code",
   "execution_count": 31,
   "id": "3a65edff",
   "metadata": {},
   "outputs": [
    {
     "data": {
      "image/png": "[encoded data removed]",
      "text/plain": [
       "<Figure size 640x480 with 1 Axes>"
      ]
     },
     "metadata": {},
     "output_type": "display_data"
    }
   ],
   "source": [
    "#define n and p where n is the number of times in the experiment and p is the probability of success\n",
    "n = len(df)\n",
    "p = bb_prob\n",
    "# define r values\n",
    "r_values = list(range(n + 1)) \n",
    "# plot binomial distribution \n",
    "dist = [binom.pmf(r, n, p) for r in r_values ] \n",
    "plt.bar(r_values, dist) \n",
    "plt.title('Binomial Distribution of having a Big and Bright Dog')\n",
    "plt.show()"
   ]
  },
  {
   "cell_type": "markdown",
   "id": "cf05715c",
   "metadata": {},
   "source": [
    "Australian Space Academy. (2013). Asteroid-satellite collision probability. https://www.spaceacademy.net.au/watch/neo/axgeosat.htm \n",
    "    \n",
    "Devastator, T. (2023, January 21). Dogs Intelligence and size. Kaggle. https://www.kaggle.com/datasets/thedevastator/canine-intelligence-and-size \n",
    "\n",
    "Firdous, N. (2023, February 27). Understanding probability: 7 essential concepts for data science with python examples. Medium. https://medium.com/@naghma2404/understanding-probability-7-essential-concepts-for-data-science-with-python-examples-9c979767d0f6\n",
    "\n",
    "GfG. (2020, July 16). Python - binomial distribution. GeeksforGeeks. https://www.geeksforgeeks.org/python-binomial-distribution/ \n"
   ]
  }
 ],
 "metadata": {
  "kernelspec": {
   "display_name": "Python 3 (ipykernel)",
   "language": "python",
   "name": "python3"
  },
  "language_info": {
   "codemirror_mode": {
    "name": "ipython",
    "version": 3
   },
   "file_extension": ".py",
   "mimetype": "text/x-python",
   "name": "python",
   "nbconvert_exporter": "python",
   "pygments_lexer": "ipython3",
   "version": "3.10.4"
  }
 },
 "nbformat": 4,
 "nbformat_minor": 5
}
