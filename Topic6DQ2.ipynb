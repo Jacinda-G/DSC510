{
 "cells": [
  {
   "cell_type": "markdown",
   "id": "a96982f8",
   "metadata": {},
   "source": [
    "Consider a real-world scenario where you need to conduct a statistical test for paired data, multiple population means, or variance comparisons. Describe the problem, the data, and the research question. Discuss the appropriate statistical test that you would use to address the research question and explain why. Perform the test. Propose a Python tool to assist with the interpretation of the results of the statistical test and visualizations. How can you use the results to inform decisions or actions in the real-world scenario?"
   ]
  },
  {
   "cell_type": "markdown",
   "id": "19bb2218",
   "metadata": {},
   "source": [
    "Asthma is an issue that affects around 7.7 percent of americans according to the CDC(2021). This dataset from kaggle contains peak flow rate of smokers among other variables. We can investigate how smoking status plays a role in peak flow."
   ]
  },
  {
   "cell_type": "code",
   "execution_count": 1,
   "id": "b64dbe4d",
   "metadata": {},
   "outputs": [],
   "source": [
    "import numpy as np\n",
    "import pandas as pd\n",
    "import scipy.stats as stats\n",
    "import statsmodels.api as sm\n",
    "from statsmodels.formula.api import ols\n",
    "import matplotlib.pyplot as plt\n",
    "import seaborn as sns"
   ]
  },
  {
   "cell_type": "code",
   "execution_count": 2,
   "id": "f9fd26dd",
   "metadata": {},
   "outputs": [
    {
     "data": {
      "text/html": [
       "<div>\n",
       "<style scoped>\n",
       "    .dataframe tbody tr th:only-of-type {\n",
       "        vertical-align: middle;\n",
       "    }\n",
       "\n",
       "    .dataframe tbody tr th {\n",
       "        vertical-align: top;\n",
       "    }\n",
       "\n",
       "    .dataframe thead th {\n",
       "        text-align: right;\n",
       "    }\n",
       "</style>\n",
       "<table border=\"1\" class=\"dataframe\">\n",
       "  <thead>\n",
       "    <tr style=\"text-align: right;\">\n",
       "      <th></th>\n",
       "      <th>Patient_ID</th>\n",
       "      <th>Age</th>\n",
       "      <th>Gender</th>\n",
       "      <th>Smoking_Status</th>\n",
       "      <th>Asthma_Diagnosis</th>\n",
       "      <th>Medication</th>\n",
       "      <th>Peak_Flow</th>\n",
       "    </tr>\n",
       "  </thead>\n",
       "  <tbody>\n",
       "    <tr>\n",
       "      <th>0</th>\n",
       "      <td>1</td>\n",
       "      <td>26</td>\n",
       "      <td>Female</td>\n",
       "      <td>Non-Smoker</td>\n",
       "      <td>Yes</td>\n",
       "      <td>Inhaler</td>\n",
       "      <td>175</td>\n",
       "    </tr>\n",
       "    <tr>\n",
       "      <th>1</th>\n",
       "      <td>2</td>\n",
       "      <td>52</td>\n",
       "      <td>Female</td>\n",
       "      <td>Ex-Smoker</td>\n",
       "      <td>No</td>\n",
       "      <td>None</td>\n",
       "      <td>156</td>\n",
       "    </tr>\n",
       "    <tr>\n",
       "      <th>2</th>\n",
       "      <td>3</td>\n",
       "      <td>56</td>\n",
       "      <td>Female</td>\n",
       "      <td>Ex-Smoker</td>\n",
       "      <td>Yes</td>\n",
       "      <td>Inhaler</td>\n",
       "      <td>236</td>\n",
       "    </tr>\n",
       "    <tr>\n",
       "      <th>3</th>\n",
       "      <td>4</td>\n",
       "      <td>55</td>\n",
       "      <td>Male</td>\n",
       "      <td>Current Smoker</td>\n",
       "      <td>Yes</td>\n",
       "      <td>Controller Medication</td>\n",
       "      <td>378</td>\n",
       "    </tr>\n",
       "    <tr>\n",
       "      <th>4</th>\n",
       "      <td>5</td>\n",
       "      <td>43</td>\n",
       "      <td>Female</td>\n",
       "      <td>Current Smoker</td>\n",
       "      <td>No</td>\n",
       "      <td>None</td>\n",
       "      <td>159</td>\n",
       "    </tr>\n",
       "  </tbody>\n",
       "</table>\n",
       "</div>"
      ],
      "text/plain": [
       "   Patient_ID  Age  Gender  Smoking_Status Asthma_Diagnosis  \\\n",
       "0           1   26  Female      Non-Smoker              Yes   \n",
       "1           2   52  Female       Ex-Smoker               No   \n",
       "2           3   56  Female       Ex-Smoker              Yes   \n",
       "3           4   55    Male  Current Smoker              Yes   \n",
       "4           5   43  Female  Current Smoker               No   \n",
       "\n",
       "              Medication  Peak_Flow  \n",
       "0                Inhaler        175  \n",
       "1                   None        156  \n",
       "2                Inhaler        236  \n",
       "3  Controller Medication        378  \n",
       "4                   None        159  "
      ]
     },
     "execution_count": 2,
     "metadata": {},
     "output_type": "execute_result"
    }
   ],
   "source": [
    "df = pd.read_csv('asthma_dataset.csv')\n",
    "df.head()"
   ]
  },
  {
   "cell_type": "code",
   "execution_count": 3,
   "id": "5f8fb012",
   "metadata": {},
   "outputs": [
    {
     "name": "stdout",
     "output_type": "stream",
     "text": [
      "<class 'pandas.core.frame.DataFrame'>\n",
      "RangeIndex: 300 entries, 0 to 299\n",
      "Data columns (total 7 columns):\n",
      " #   Column            Non-Null Count  Dtype \n",
      "---  ------            --------------  ----- \n",
      " 0   Patient_ID        300 non-null    int64 \n",
      " 1   Age               300 non-null    int64 \n",
      " 2   Gender            300 non-null    object\n",
      " 3   Smoking_Status    300 non-null    object\n",
      " 4   Asthma_Diagnosis  300 non-null    object\n",
      " 5   Medication        300 non-null    object\n",
      " 6   Peak_Flow         300 non-null    int64 \n",
      "dtypes: int64(3), object(4)\n",
      "memory usage: 16.5+ KB\n"
     ]
    }
   ],
   "source": [
    "df.info()"
   ]
  },
  {
   "cell_type": "code",
   "execution_count": 4,
   "id": "f27dcc59",
   "metadata": {},
   "outputs": [],
   "source": [
    "df = df.loc[df['Asthma_Diagnosis']=='Yes']"
   ]
  },
  {
   "cell_type": "code",
   "execution_count": 6,
   "id": "76ab6cfd",
   "metadata": {},
   "outputs": [
    {
     "data": {
      "image/png": "[encoded data removed]",
      "text/plain": [
       "<Figure size 1000x600 with 1 Axes>"
      ]
     },
     "metadata": {},
     "output_type": "display_data"
    }
   ],
   "source": [
    "#plt means of groups\n",
    "ax = plt.figure(figsize=(10,6))\n",
    "ax = sns.barplot(data=df, x='Smoking_Status', y='Peak_Flow', hue='Smoking_Status',\n",
    "                 estimator = 'mean', errorbar=None)\n",
    "ax.set_xlabel('Medication Type')\n",
    "ax.set_ylabel('Peak Flow')\n",
    "ax.set_title('Mean Peak Flow Rates per Smoking Status')\n",
    "for i in ax.containers:\n",
    "    ax.bar_label(i,)"
   ]
  },
  {
   "cell_type": "code",
   "execution_count": 7,
   "id": "8e5ae6c9",
   "metadata": {},
   "outputs": [],
   "source": [
    "#break into categories\n",
    "non_smoker = df['Peak_Flow'].loc[df['Smoking_Status']=='Non-Smoker']\n",
    "ex_smoker = df['Peak_Flow'].loc[df['Smoking_Status'] == 'Ex-Smoker']\n",
    "current_smoker = df['Peak_Flow'].loc[df['Smoking_Status'] == 'Current Smoker']"
   ]
  },
  {
   "cell_type": "code",
   "execution_count": 8,
   "id": "c5e5dd27",
   "metadata": {},
   "outputs": [
    {
     "data": {
      "text/plain": [
       "LeveneResult(statistic=0.39367622460897606, pvalue=0.6752493345887158)"
      ]
     },
     "execution_count": 8,
     "metadata": {},
     "output_type": "execute_result"
    }
   ],
   "source": [
    "# Investigate equal variance assumption\n",
    "#use levene method to investigate\n",
    "stats.levene(non_smoker,ex_smoker,current_smoker)"
   ]
  },
  {
   "cell_type": "markdown",
   "id": "575183c4",
   "metadata": {},
   "source": [
    "The levene test gives a p-value above 0.05, so we can accept the null hypothesis that the data is is of equal variance. "
   ]
  },
  {
   "cell_type": "code",
   "execution_count": 9,
   "id": "05157939",
   "metadata": {},
   "outputs": [
    {
     "data": {
      "text/plain": [
       "ShapiroResult(statistic=0.9532122015953064, pvalue=4.079893551534042e-05)"
      ]
     },
     "execution_count": 9,
     "metadata": {},
     "output_type": "execute_result"
    }
   ],
   "source": [
    "#fit to linear regression model and calculate normality with shapiro\n",
    "model = ols(formula = 'Peak_Flow ~ C(Smoking_Status)',  \n",
    "             data = df).fit()\n",
    "\n",
    "stats.shapiro(model.resid)"
   ]
  },
  {
   "cell_type": "markdown",
   "id": "1ee42f03",
   "metadata": {},
   "source": [
    "The data does not follow the null hypothesis that the data follows a normal distribution. We can use a kruskal-wallis test that allows for non-parametric samples."
   ]
  },
  {
   "cell_type": "code",
   "execution_count": 10,
   "id": "43aae09d",
   "metadata": {},
   "outputs": [
    {
     "data": {
      "text/plain": [
       "KruskalResult(statistic=1.9626870410205433, pvalue=0.3748071992678698)"
      ]
     },
     "execution_count": 10,
     "metadata": {},
     "output_type": "execute_result"
    }
   ],
   "source": [
    "stats.kruskal(non_smoker, ex_smoker,current_smoker)"
   ]
  },
  {
   "cell_type": "markdown",
   "id": "104f9fa0",
   "metadata": {},
   "source": [
    "While the means visually look like they are affected by smoking status, further statistical analysis shows that there is not a significant difference. Therefore we accept the null hypothesis that smoking does not affect flow rate. Measuring peak flow rate involves blowing into a device and a normal range is between 400-700. Since this data is taken from patients with chronic obstructive pulmonary disease (COPD), we can expect the results to be critically low. "
   ]
  },
  {
   "cell_type": "markdown",
   "id": "43d8305b",
   "metadata": {},
   "source": [
    "References \n",
    "Breathing and lung function tests. (n.d.). https://www.asthmaandlung.org.uk/sites/default/files/Section 2.1 - tests to measure your breathing.pdf \n",
    "\n",
    "Centers for Disease Control and Prevention. (2023, May 10). Most recent national asthma data. Centers for Disease Control and Prevention. https://www.cdc.gov/asthma/most_recent_national_asthma_data.htm \n",
    "\n",
    "An essential guide to hypothesis testing: All you need to know. Kaggle. (n.d.). https://www.kaggle.com/discussions/general/383760 \n",
    "\n",
    "Jasonkryske. (2023, July 25). One and two-way ANOVA in python. Kaggle. https://www.kaggle.com/code/jasonkryske/one-and-two-way-anova-in-python/notebook#Two-way-ANOVA \n",
    "\n",
    "Jatinthakur706. (2024, February 10). COPD (asthma) patient dataset. Kaggle. https://www.kaggle.com/datasets/jatinthakur706/copd-asthma-patient-dataset \n"
   ]
  },
  {
   "cell_type": "code",
   "execution_count": null,
   "id": "62491c26",
   "metadata": {},
   "outputs": [],
   "source": []
  }
 ],
 "metadata": {
  "kernelspec": {
   "display_name": "Python 3 (ipykernel)",
   "language": "python",
   "name": "python3"
  },
  "language_info": {
   "codemirror_mode": {
    "name": "ipython",
    "version": 3
   },
   "file_extension": ".py",
   "mimetype": "text/x-python",
   "name": "python",
   "nbconvert_exporter": "python",
   "pygments_lexer": "ipython3",
   "version": "3.10.4"
  }
 },
 "nbformat": 4,
 "nbformat_minor": 5
}
